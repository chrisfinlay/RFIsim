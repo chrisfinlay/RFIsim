{
 "cells": [
  {
   "cell_type": "code",
   "execution_count": 1,
   "metadata": {},
   "outputs": [
    {
     "name": "stdout",
     "output_type": "stream",
     "text": [
      "Once deleted, variables cannot be recovered. Proceed (y/[n])? y\n"
     ]
    }
   ],
   "source": [
    "%reset"
   ]
  },
  {
   "cell_type": "code",
   "execution_count": 27,
   "metadata": {},
   "outputs": [
    {
     "name": "stdout",
     "output_type": "stream",
     "text": [
      "Populating the interactive namespace from numpy and matplotlib\n"
     ]
    }
   ],
   "source": [
    "%pylab inline"
   ]
  },
  {
   "cell_type": "code",
   "execution_count": 2,
   "metadata": {},
   "outputs": [],
   "source": [
    "warnings.filterwarnings('ignore',message='profile')\n",
    "warnings.filterwarnings('ignore',message='_astropy_init')\n",
    "warnings.filterwarnings('ignore',message='ConfigurationDefaultMissingWarning ')\n",
    "\n",
    "import os\n",
    "import sys"
   ]
  },
  {
   "cell_type": "code",
   "execution_count": 6,
   "metadata": {},
   "outputs": [],
   "source": [
    "from astroquery.vizier import Vizier\n",
    "import astropy.units as u\n",
    "import astropy.coordinates as coord\n",
    "from astropy.coordinates import SkyCoord\n",
    "from astropy.coordinates import Angle\n",
    "\n",
    "#import pyvo as vo"
   ]
  },
  {
   "cell_type": "code",
   "execution_count": 4,
   "metadata": {},
   "outputs": [],
   "source": [
    "Vizier.ucd  = 'phot.flux.density;em.radio.*'"
   ]
  },
  {
   "cell_type": "code",
   "execution_count": 22,
   "metadata": {},
   "outputs": [],
   "source": [
    "def create_lsm(ra, dec, radius):\n",
    "    \"\"\"\n",
    "    ra     : float in degrees with the right ascension of the target direction\n",
    "    dec    : float in degrees with the declination of the target direction\n",
    "    radius : float in degrees with the radius around the target to search for sources\n",
    "    \"\"\"\n",
    "    \n",
    "    Vizier.ucd  = 'phot.flux.density;em.radio.*'\n",
    "    radius = str(radius) + 'd'\n",
    "    \n",
    "    if -30 >= dec >= -90:\n",
    "        cat = 'The SUMSS Catalog, Version 2.1r (Feb-16-2012)'\n",
    "        catalog_list = Vizier.find_catalogs('VIII/81B/sumss212') \n",
    "    else:\n",
    "        cat = 'The NVSS Catalog'\n",
    "        catalog_list = Vizier.find_catalogs('VIII/65/nvss') \n",
    "        \n",
    "    result = Vizier.query_region(coord.SkyCoord(ra=ra, dec=dec, unit=(u.deg, u.deg), frame='icrs'), \n",
    "                                 radius=radius, catalog=catalog_list.keys())\n",
    "    \n",
    "    \n",
    "    for i in range(len(result)):\n",
    "        if cat==result[i].meta['description']:\n",
    "            print(i, result[i].meta['description'])\n",
    "            chosen_cat = i\n",
    "            \n",
    "    MyCat = result[result.keys()[chosen_cat]]\n",
    "    \n",
    "    return MyCat"
   ]
  },
  {
   "cell_type": "code",
   "execution_count": 145,
   "metadata": {},
   "outputs": [
    {
     "name": "stderr",
     "output_type": "stream",
     "text": [
      "/usr/local/lib/python2.7/dist-packages/astroquery/vizier/core.py:710: UserWarning: VOTABLE parsing raised exception: None:17641:205: ValueError: invalid literal for int() with base 10: 'null' (in row 31, col 'Stage')\n",
      "  warnings.warn(\"VOTABLE parsing raised exception: {0}\".format(ex))\n"
     ]
    },
    {
     "name": "stdout",
     "output_type": "stream",
     "text": [
      "(88, u'The NVSS Catalog')\n"
     ]
    }
   ],
   "source": [
    "lsm = create_lsm(0, -29, 90)"
   ]
  },
  {
   "cell_type": "code",
   "execution_count": 146,
   "metadata": {},
   "outputs": [
    {
     "data": {
      "text/html": [
       "&lt;Table masked=True length=50&gt;\n",
       "<table id=\"table140338561420496\" class=\"table-striped table-bordered table-condensed\">\n",
       "<thead><tr><th>NVSS</th><th>RAJ2000</th><th>DEJ2000</th><th>e_RAJ2000</th><th>e_DEJ2000</th><th>S1.4</th><th>e_S1.4</th><th>l_MajAxis</th><th>MajAxis</th><th>l_MinAxis</th><th>MinAxis</th><th>f_resFlux</th></tr></thead>\n",
       "<thead><tr><th></th><th>&quot;h:m:s&quot;</th><th>&quot;d:m:s&quot;</th><th>s</th><th>arcs</th><th>mJy</th><th>mJy</th><th></th><th>arcs</th><th></th><th>arcs</th><th></th></tr></thead>\n",
       "<thead><tr><th>str14</th><th>str11</th><th>str11</th><th>float32</th><th>float32</th><th>float64</th><th>float32</th><th>str1</th><th>float32</th><th>str1</th><th>float32</th><th>str2</th></tr></thead>\n",
       "<tr><td>000000-340709</td><td>00 00 00.09</td><td>-34 07 09.5</td><td>0.48</td><td>6.7</td><td>2.7</td><td>0.5</td><td>&lt;</td><td>59.8</td><td>&lt;</td><td>52.4</td><td></td></tr>\n",
       "<tr><td>000000-382628</td><td>00 00 00.13</td><td>-38 26 28.5</td><td>0.65</td><td>11.5</td><td>3.1</td><td>0.6</td><td>&lt;</td><td>117.0</td><td>&lt;</td><td>51.7</td><td></td></tr>\n",
       "<tr><td>000000-040242</td><td>00 00 00.16</td><td>-04 02 42.3</td><td>0.03</td><td>0.6</td><td>106.8</td><td>3.2</td><td>&lt;</td><td>18.5</td><td>&lt;</td><td>16.4</td><td></td></tr>\n",
       "<tr><td>000000+321233</td><td>00 00 00.18</td><td>+32 12 33.3</td><td>0.31</td><td>3.9</td><td>3.7</td><td>0.4</td><td>&lt;</td><td>43.8</td><td>&lt;</td><td>41.0</td><td></td></tr>\n",
       "<tr><td>000000+491812</td><td>00 00 00.19</td><td>+49 18 12.6</td><td>0.92</td><td>9.0</td><td>2.4</td><td>0.5</td><td>&lt;</td><td>93.8</td><td>&lt;</td><td>58.4</td><td></td></tr>\n",
       "<tr><td>000000-200448</td><td>00 00 00.25</td><td>-20 04 48.8</td><td>0.25</td><td>7.9</td><td>7.6</td><td>1.4</td><td></td><td>71.5</td><td>&lt;</td><td>38.0</td><td></td></tr>\n",
       "<tr><td>000000+004100</td><td>00 00 00.39</td><td>+00 41 00.0</td><td>0.03</td><td>0.6</td><td>149.5</td><td>5.3</td><td></td><td>45.4</td><td></td><td>35.7</td><td>S*</td></tr>\n",
       "<tr><td>000000-181729</td><td>00 00 00.40</td><td>-18 17 29.3</td><td>0.54</td><td>7.3</td><td>2.3</td><td>0.5</td><td>&lt;</td><td>68.5</td><td>&lt;</td><td>59.7</td><td></td></tr>\n",
       "<tr><td>000000-325929</td><td>00 00 00.69</td><td>-32 59 29.1</td><td>0.34</td><td>5.8</td><td>3.9</td><td>0.5</td><td>&lt;</td><td>63.0</td><td>&lt;</td><td>42.6</td><td></td></tr>\n",
       "<tr><td>...</td><td>...</td><td>...</td><td>...</td><td>...</td><td>...</td><td>...</td><td>...</td><td>...</td><td>...</td><td>...</td><td>...</td></tr>\n",
       "<tr><td>000002+081719</td><td>00 00 02.29</td><td>+08 17 19.3</td><td>0.26</td><td>2.6</td><td>6.3</td><td>0.5</td><td>&lt;</td><td>61.2</td><td>&lt;</td><td>32.8</td><td>P*</td></tr>\n",
       "<tr><td>000002-242813</td><td>00 00 02.31</td><td>-24 28 13.0</td><td>0.12</td><td>1.8</td><td>8.5</td><td>0.5</td><td>&lt;</td><td>28.2</td><td>&lt;</td><td>25.6</td><td></td></tr>\n",
       "<tr><td>000002-042802</td><td>00 00 02.31</td><td>-04 28 02.9</td><td>0.20</td><td>2.7</td><td>8.3</td><td>1.0</td><td></td><td>40.5</td><td>&lt;</td><td>30.2</td><td></td></tr>\n",
       "<tr><td>000002+051718</td><td>00 00 02.33</td><td>+05 17 18.0</td><td>0.17</td><td>2.6</td><td>5.9</td><td>0.4</td><td>&lt;</td><td>33.0</td><td>&lt;</td><td>31.6</td><td></td></tr>\n",
       "<tr><td>000002-211241</td><td>00 00 02.34</td><td>-21 12 41.4</td><td>0.29</td><td>4.9</td><td>3.9</td><td>0.5</td><td>&lt;</td><td>52.8</td><td>&lt;</td><td>41.4</td><td></td></tr>\n",
       "<tr><td>000002+004340</td><td>00 00 02.35</td><td>+00 43 40.8</td><td>0.07</td><td>1.1</td><td>20.4</td><td>1.1</td><td></td><td>26.7</td><td>&lt;</td><td>18.6</td><td>P*</td></tr>\n",
       "<tr><td>000002+571034</td><td>00 00 02.39</td><td>+57 10 34.2</td><td>0.07</td><td>0.6</td><td>118.7</td><td>3.9</td><td></td><td>49.8</td><td>&lt;</td><td>17.9</td><td>P*</td></tr>\n",
       "<tr><td>000002-370755</td><td>00 00 02.41</td><td>-37 07 55.0</td><td>0.08</td><td>0.9</td><td>18.1</td><td>0.7</td><td>&lt;</td><td>24.6</td><td>&lt;</td><td>18.7</td><td></td></tr>\n",
       "<tr><td>000002+415442</td><td>00 00 02.46</td><td>+41 54 42.1</td><td>0.06</td><td>0.7</td><td>33.1</td><td>1.4</td><td></td><td>19.3</td><td>&lt;</td><td>16.9</td><td></td></tr>\n",
       "<tr><td>000002+385944</td><td>00 00 02.51</td><td>+38 59 44.8</td><td>0.05</td><td>0.7</td><td>41.6</td><td>1.6</td><td></td><td>24.8</td><td>&lt;</td><td>16.3</td><td></td></tr>\n",
       "</table>"
      ],
      "text/plain": [
       "<Table masked=True length=50>\n",
       "     NVSS       RAJ2000     DEJ2000   e_RAJ2000 ... l_MinAxis MinAxis f_resFlux\n",
       "                \"h:m:s\"     \"d:m:s\"       s     ...             arcs           \n",
       "    str14        str11       str11     float32  ...    str1   float32    str2  \n",
       "------------- ----------- ----------- --------- ... --------- ------- ---------\n",
       "000000-340709 00 00 00.09 -34 07 09.5      0.48 ...         <    52.4          \n",
       "000000-382628 00 00 00.13 -38 26 28.5      0.65 ...         <    51.7          \n",
       "000000-040242 00 00 00.16 -04 02 42.3      0.03 ...         <    16.4          \n",
       "000000+321233 00 00 00.18 +32 12 33.3      0.31 ...         <    41.0          \n",
       "000000+491812 00 00 00.19 +49 18 12.6      0.92 ...         <    58.4          \n",
       "000000-200448 00 00 00.25 -20 04 48.8      0.25 ...         <    38.0          \n",
       "000000+004100 00 00 00.39 +00 41 00.0      0.03 ...              35.7        S*\n",
       "000000-181729 00 00 00.40 -18 17 29.3      0.54 ...         <    59.7          \n",
       "000000-325929 00 00 00.69 -32 59 29.1      0.34 ...         <    42.6          \n",
       "          ...         ...         ...       ... ...       ...     ...       ...\n",
       "000002+081719 00 00 02.29 +08 17 19.3      0.26 ...         <    32.8        P*\n",
       "000002-242813 00 00 02.31 -24 28 13.0      0.12 ...         <    25.6          \n",
       "000002-042802 00 00 02.31 -04 28 02.9      0.20 ...         <    30.2          \n",
       "000002+051718 00 00 02.33 +05 17 18.0      0.17 ...         <    31.6          \n",
       "000002-211241 00 00 02.34 -21 12 41.4      0.29 ...         <    41.4          \n",
       "000002+004340 00 00 02.35 +00 43 40.8      0.07 ...         <    18.6        P*\n",
       "000002+571034 00 00 02.39 +57 10 34.2      0.07 ...         <    17.9        P*\n",
       "000002-370755 00 00 02.41 -37 07 55.0      0.08 ...         <    18.7          \n",
       "000002+415442 00 00 02.46 +41 54 42.1      0.06 ...         <    16.9          \n",
       "000002+385944 00 00 02.51 +38 59 44.8      0.05 ...         <    16.3          "
      ]
     },
     "execution_count": 146,
     "metadata": {},
     "output_type": "execute_result"
    }
   ],
   "source": [
    "lsm"
   ]
  },
  {
   "cell_type": "code",
   "execution_count": 19,
   "metadata": {},
   "outputs": [],
   "source": [
    "# LSM should be of the following format:\n",
    "# #name ra_d dec_d i q u v emaj_s emin_s pa_d\n",
    "\n",
    "MyLSM = []\n",
    "if CatChosen == 'SUMSS':\n",
    "    for Indx in range(len(MyCat)):\n",
    "        c = SkyCoord(MyCat['RAJ2000'][Indx]+' '+MyCat['DEJ2000'][Indx], unit=(u.hourangle, u.deg))\n",
    "\n",
    "        ra_d = c.ra.deg\n",
    "        dec_d = c.dec.deg\n",
    "\n",
    "        # i should be in Jansky, Q, U and V will be 0 for now \n",
    "\n",
    "        StokesI = MyCat['Sp'][Indx]*1.e-3\n",
    "        StokesQ = 0.0\n",
    "        StokesU = 0.0\n",
    "        StokesV = 0.0\n",
    "\n",
    "        emaj_s = Angle(MyCat['MajAxis'][Indx],unit = u.arcsec)  \n",
    "        emin_s = Angle(MyCat['MinAxis'][Indx],unit = u.arcsec)  \n",
    "        pa_d = Angle(MyCat['PA'][Indx],unit = u.deg)\n",
    "\n",
    "        MyLSM.append((Indx, ra_d, dec_d, StokesI, StokesQ, StokesU, StokesV, emaj_s.deg, emin_s.deg, pa_d.deg ))\n",
    "        \n",
    "elif CatChosen == 'NVSS':\n",
    "    \n",
    "    for Indx in range(len(MyCat)):\n",
    "        c = SkyCoord(MyCat['RAJ2000'][Indx]+' '+MyCat['DEJ2000'][Indx], unit=(u.hourangle, u.deg))\n",
    "\n",
    "        ra_d = c.ra.deg\n",
    "        dec_d = c.dec.deg\n",
    "\n",
    "        # i should be in Jansky, Q, U and V will be 0 for now \n",
    "\n",
    "        StokesI = MyCat['S1.4'][Indx]*1.e-3\n",
    "        StokesQ = 0.0\n",
    "        StokesU = 0.0\n",
    "        StokesV = 0.0\n",
    "\n",
    "        emaj_s = Angle(MyCat['MajAxis'][Indx],unit = u.arcsec)  \n",
    "        emin_s = Angle(MyCat['MinAxis'][Indx],unit = u.arcsec)  \n",
    "        pa_d = Angle(MyCat['PA'][Indx],unit = u.deg)\n",
    "\n",
    "        MyLSM.append((Indx, ra_d, dec_d, StokesI, StokesQ, StokesU, StokesV, emaj_s.deg, emin_s.deg, pa_d.deg ))"
   ]
  },
  {
   "cell_type": "code",
   "execution_count": 5,
   "metadata": {},
   "outputs": [
    {
     "name": "stdout",
     "output_type": "stream",
     "text": [
      "Enter RA of target hh mm ss 0 0 0\n",
      "Enter Dec of target dd mm ss -31 0 0 \n"
     ]
    }
   ],
   "source": [
    "\n",
    "RA = raw_input(\"Enter RA of target hh mm ss \")\n",
    "DEC = raw_input(\"Enter Dec of target dd mm ss \")"
   ]
  },
  {
   "cell_type": "code",
   "execution_count": 6,
   "metadata": {},
   "outputs": [
    {
     "name": "stdout",
     "output_type": "stream",
     "text": [
      "Enter rsearch radius e.g. 16m, 16d, 16s 30d\n"
     ]
    }
   ],
   "source": [
    "MyRadius = raw_input('Enter search radius e.g. 16m, 16d, 16s ')"
   ]
  },
  {
   "cell_type": "code",
   "execution_count": 7,
   "metadata": {},
   "outputs": [],
   "source": [
    "def InputCoord(arg1,arg2):\n",
    "    '''This takes a user input of the RA and Dec and then \n",
    "    convert it to RaTarget and DecTarget in deg for use in the VO search.\n",
    "    Input: arg1(RA), arg2(Dec) NB: They are str in this case.\n",
    "    Output: RaTarget,DecTarget\n",
    "    '''\n",
    "    hh = float(arg1.split(' ')[0])\n",
    "    mm = float(arg1.split(' ')[1])/60.\n",
    "    ss = float(arg1.split(' ')[2])/3600.\n",
    "\n",
    "    dec_dd = float(arg2.split(' ')[0])\n",
    "    dec_mm = float(arg2.split(' ')[1])/60.\n",
    "    dec_ss = float(arg2.split(' ')[2])/3600.\n",
    "\n",
    "    if dec_dd <0:\n",
    "        dec = dec_dd-dec_mm-dec_ss\n",
    "    else:\n",
    "        dec = dec_dd+dec_mm+dec_ss\n",
    "\n",
    "    RaTarget = (hh+mm+ss)*15.\n",
    "    DecTarget = dec\n",
    "    \n",
    "    return RaTarget,DecTarget"
   ]
  },
  {
   "cell_type": "code",
   "execution_count": 8,
   "metadata": {},
   "outputs": [],
   "source": [
    "Ra,Dec = InputCoord(RA, DEC)"
   ]
  },
  {
   "cell_type": "code",
   "execution_count": 9,
   "metadata": {},
   "outputs": [
    {
     "data": {
      "text/plain": [
       "-31.0"
      ]
     },
     "execution_count": 9,
     "metadata": {},
     "output_type": "execute_result"
    }
   ],
   "source": [
    "Dec "
   ]
  },
  {
   "cell_type": "code",
   "execution_count": 10,
   "metadata": {},
   "outputs": [
    {
     "name": "stdout",
     "output_type": "stream",
     "text": [
      "Recommend one use SUMSS survey \n"
     ]
    }
   ],
   "source": [
    "# The commonly used Radio catalogues on Vizier is given by:\n",
    "# first_cat(VIII/92/first14)   \n",
    "# nvss_cat(VIII/65/nvss)\n",
    "# SUMSS_cat(VIII/81B/sumss212)\n",
    "\n",
    "\n",
    "if (Dec > -90.) and (Dec < -30.):\n",
    "    print(\"Recommend one use SUMSS survey \")\n",
    "    catalog_list = Vizier.find_catalogs('VIII/81B/sumss212') \n",
    "\n",
    "    result = Vizier.query_region(coord.SkyCoord(ra=Ra, dec=Dec,unit=(u.deg, u.deg),frame='icrs')\n",
    "                                 ,radius=MyRadius,catalog=catalog_list.keys())\n",
    "\n",
    "elif (Dec > -30.) and (Dec < 90.):\n",
    "    print(\"Recommend to use NVSS or FIRST if Dec >-10 \")\n",
    "    catalog_list = Vizier.find_catalogs('VIII/65/nvss') \n",
    "\n",
    "    result = Vizier.query_region(coord.SkyCoord(ra=Ra, dec=Dec,unit=(u.deg, u.deg),frame='icrs')\n",
    "                                 ,radius=MyRadius,catalog=catalog_list.keys())\n",
    "else:\n",
    "    print(\"Check your input \")\n"
   ]
  },
  {
   "cell_type": "code",
   "execution_count": 11,
   "metadata": {},
   "outputs": [
    {
     "name": "stdout",
     "output_type": "stream",
     "text": [
      "0 - Observed radio source identifications\n",
      "1 - Optical and infrared data\n",
      "2 - Discoverers, Designations, and Positions of True and Possible Planetary Nebulae (1)\n",
      "3 - IRAS Point Source Catalogue fluxes (1)\n",
      "4 - Objects rejected as PN (table 3)\n",
      "5 - X-ray and radio parameters of XMM-Newton source cross-matched radio sources from NVSS, MGPS2 and SUMSS\n",
      "6 - Observed data 510 extragalactic radio sources\n",
      "7 - Derived values\n",
      "8 - Redshift-corrected data\n",
      "9 - Redshift-corrected derived values\n",
      "10 - The RC2 catalogue\n",
      "11 - General list of objects\n",
      "12 - Observed and Derived parameters (tables 1, 2 and 4 of the publication)\n",
      "13 - Main catalogue\n",
      "14 - Sources close to coverage gap\n",
      "15 - 2QZ catalogue: includes North and South galactic poles, and 6QZ with another 1657 lines.\n",
      "16 - Additional spectra when more than 2 spectra were taken\n",
      "17 - dat.The sample of high-redshift galaxies: spectral indeces, redshifts, magnitudes, sizes and flux density for 2442 galaxies.\n",
      "18 - Quasars (M_v_<-22.25), BL Lac and AGNs (M_v_>-22.25)\n",
      "19 - Rejected quasars\n",
      "20 - The SDSS quasar catalog V, DR7 (table2 of the paper)\n",
      "21 - Quasars lacking CAS (Catalog Archive Server) photometry\n",
      "22 - Main DR9 Quasar catalog (corrected version - 10-Feb-2016)\n",
      "23 - Supplemental list\n",
      "24 - Main DR10Q catalog\n",
      "25 - Supplementary list from DR10\n",
      "26 - SDSS-DR12 Quasar Catalog\n",
      "27 - Detailed properties of BAL quasars\n",
      "28 - Supplementary list that contains serendipitous quasars\n",
      "29 - 3C catalog of radio sources (1959)\n",
      "30 - Fourth Cambridge Radio Survey Data\n",
      "31 - The catalogue of radio sources\n",
      "32 - The Catalogue\n",
      "33 - Catalog Data\n",
      "34 - The 20cm catalog\n",
      "35 - *Sources detected within 0.5 corrected Abell cluster radii\n",
      "36 - *1400-MHz survey of Abell Clusters\n",
      "37 - Parkes Half-Jansky Flat-Spectrum Sample (Table 5 of the paper)\n",
      "38 - The CCA survey\n",
      "39 - Southern Survey (-87.5 to -37)\n",
      "40 - Zenith Survey (-37 to -29)\n",
      "41 - Tropical Survey (-29 to -9.5)\n",
      "42 - Equatorial Survey ( -9.5 to +10.0)\n",
      "43 - The Texas Survey\n",
      "44 - The sources in the simpler model.\n",
      "45 - Optical data for the clusters studied (Paper 3)\n",
      "46 - Relevant Parameters for observed Cluster (Papers 6 and Paper 7)\n",
      "47 - Optical and radio identifications of IRAS point sources (Paper 7)\n",
      "48 - 11.1cm (2.7GHz) radio data (Papers 1 and 2)\n",
      "49 - 11.1cm (2.7GHz) radio data, and optical identifications (Papers 4, 5, 6, and 7)\n",
      "50 - 6.3cm (4.75GHz) radio data (Papers 5, 6 and 7)\n",
      "51 - Radio positions and optical identifications\n",
      "52 - Radio and optical identifications\n",
      "53 - Molonglo Deep Survey at 408MHz in zones -20 and -62{deg} (Robertson, 1977)\n",
      "54 - A confusion limited Radio survey from the Molonglo Cross (White G.L., 1984)\n",
      "55 - Properties of the observed clusters\n",
      "56 - *Radio and optical parameters of sources\n",
      "57 - Source List\n",
      "58 - Full radio catalog\n",
      "59 - Main parameters for the 16 final mosaics\n",
      "60 - The NVSS Catalog\n",
      "61 - The WISH (v1.1) Catalogue\n",
      "62 - Ultra Steep Spectrum sources (table2 of paper)\n",
      "63 - HI line data for 4315 extragalactic sources\n",
      "64 - Properties of detected galaxies derived from spectra in digital archive\n",
      "65 - Properties of marginally detected galaxies derived from spectra in digital archive\n",
      "66 - Properties of nondetections\n",
      "67 - Averaged values and cross-identifications\n",
      "68 - Experimental estimates at each operating frequency of the UTR-2\n",
      "69 - The SUMSS Catalog, Version 2.1r (Feb-16-2012)\n",
      "70 - The FIRST survey catalog, 14Dec17 Version\n",
      "71 - Catalogue of extended radio sources from FIRST survey\n",
      "72 - VLSSr catalog\n",
      "73 - GLEAM EGC catalog, version 2\n",
      "74 - The 1RXS catalogue\n",
      "75 - 1RXS Correlation entries\n",
      "76 - 1RXS Correlation to IRASPSC, IRASFSC\n",
      "77 - 1RXS Correlation to NED\n",
      "78 - 1RXS Correlation to NVSS, FIRST\n",
      "79 - 1RXS Correlation to PRI, RITTER, SIMBAD, TYCHO, EUVE\n",
      "80 - 1RXS Correlation to HST_GSC\n",
      "81 - 1RXS Correlation to ROSAT-WFC\n",
      "82 - 1RXS Correlation to ROSATP3, ROSATWGA, ROSATHRI\n",
      "83 - 1RXS Correlation Catalogue to VERON8 (VII/207)\n",
      "84 - EMSS Catalogue\n",
      "85 - List of X-ray sources forming the ROSAT Hard Survey, RHS\n",
      "86 - Summary of the optical identification program of the new sources in the RHS-sample.\n",
      "87 - The ROSAT Bright Survey (RBS) catalogue\n",
      "88 - Allsky cross-matched 3XMMe catalogue\n",
      "89 - the XXL-100-GC catalogue\n",
      "90 - ATCA pilot in XXL-S\n",
      "91 - XXL AAOmega redshift catalogue\n",
      "92 - Summary of XXL-100-GC clusters and BCGs properties\n",
      "93 - ATCA XXL-S component view\n",
      "94 - ATCA XXL-S source view\n",
      "95 - The 3XLSSOPTS XXL-S multiwave catalogue\n",
      "96 - XXL_AAOmega_16 redshift table\n",
      "97 - Information on fits images\n",
      "98 - ATNF Pulsar Catalogue\n",
      "99 - Positions\n",
      "100 - Radio data for the sample galaxies (N=52 obs. for 40 galaxies)\n",
      "101 - Potential radio identifications of sources in the second EGRET catalog\n",
      "102 - Potential radio identifications of EGRET sources in the supplement to the second EGRET catalog\n",
      "103 - Catalog of IRAS-NVSS galaxies\n",
      "104 - Optically faint FIRST-2MASS red quasar candidates\n",
      "105 - The PDS spectroscopic catalog\n",
      "106 - Sources at 8.5GHz\n",
      "107 - Basic data of Radio Variable Quasars\n",
      "108 - Radio Observations of M, L, and T Dwarfs\n",
      "109 - Detections\n",
      "110 - Non-detections\n",
      "111 - Complete List of 213 Galaxies: SFGs + LIRGs + ULIRGs\n",
      "112 - Radio-selected Broad-Line AGNs\n",
      "113 - F2M red quasar candidates\n",
      "114 - The SDSS extended sample with  emission-line measurements, luminosities and mass measurements and radio detections from FIRST\n",
      "115 - Galaxies surveyed for water maser emission but not detected\n",
      "116 - Radio fluxes and spectral indices\n",
      "117 - Catalog of Galactic PN distances\n",
      "118 - Properties of SDSS quasars detected by Chandra\n",
      "119 - Properties of SDSS quasars with Chandra limits\n",
      "120 - Cluster radio sources\n",
      "121 - Details of observations: 274 SDSS type-2 AGNs\n",
      "122 - The 78 galaxies at D>=100kpc with known H_2_O masers\n",
      "123 - Properties and identification of red quasar candidates\n",
      "124 - FIRST-NVSS-SDSS radio AGN sample catalog\n",
      "125 - All radio star candidates\n",
      "126 - Infrared, ultraviolet, and radio star formation rates of Spitzer starburst galaxies\n",
      "127 - Stellar data\n",
      "128 - NVSS rotation measure catalog\n",
      "129 - Galaxy parameters\n",
      "130 - SNRs in the 19 nearby galaxies sample\n",
      "131 - Integrated measurements of SINGS galaxies\n",
      "132 - Integrated measurements of Moustakas & Kennicutt (2006, Cat. J/ApJS/164/81) sample\n",
      "133 - The parameters of our ULIRG sample\n",
      "134 - VLBI associations of the Fermi LAT bright sources\n",
      "135 - MOJAVE sample\n",
      "136 - Distances, radii, fluxes, and morphology\n",
      "137 - Blazar source list and SED parameter\n",
      "138 - Double-peaked AGNs\n",
      "139 - The Fermi-AT20G catalog\n",
      "140 - Basic properties of radio galaxies\n",
      "141 - The K<9 early-type galaxy sample\n",
      "142 - Flux densities and polarization percentages for the 159 radio galaxies\n",
      "143 - GBT 90GHz measured and extrapolated fluxes\n",
      "144 - PAPER (Precision Array for Probing the Epoch of Reionization) fluxes for 480 MRC sources and matching Culgoora fluxes\n",
      "145 - Observing times of NVSS sources\n",
      "146 - Observing Times of FIRST Sources\n",
      "147 - Source list and radio data\n",
      "148 - AGNs in the combined {gamma}-ray and radio  samples data and jet data\n",
      "149 - The combined sample\n",
      "150 - Results from our radio survey of M and L dwarfs\n",
      "151 - Results from the literature\n",
      "152 - New point sources in WMAP\n",
      "153 - Basic properties of our sample of 115 (nonblazar) Flat-Spectrum Radio Quasars (FSRQs)\n",
      "154 - Properties of the FR II sample used\n",
      "155 - F2M red quasar candidates\n",
      "156 - Sources in the RDV (Research & Development - VLBA) sample\n",
      "157 - Nuclear source positions and  photometry\n",
      "158 - Radio and optical data for our sample\n",
      "159 - Catalog of sources brighter than 4Jy at 189MHz observed at the with the Murchison Widefield Array\n",
      "160 - Jet-bend data for {gamma}-ray-loud radio  AGNs , and for {gamma}-ray-quiet radio AGN\n",
      "161 - 1.5Jy MOJAVE AGN sample properties\n",
      "162 - Masses, Mass Proxies, and Dynamical Parameters for 75 Galaxy Clusters\n",
      "163 - chandra matched catalog\n",
      "164 - Observational properties and  derived parameters of the sample\n",
      "165 - Full catalog\n",
      "166 - Bright radio pulsars detected at 150MHz\n",
      "167 - Faint radio pulsars detected at 150MHz\n",
      "168 - REsolved Spectroscopy Of a Local VolumE (RESOLVE) 21cm catalog; from erratum published in 2017, ApJ, 851, 153\n",
      "169 - The peaked-spectrum sources in the high and low frequency samples (sources with a spectral peak between 72MHz and 1.4GHz)\n",
      "170 - The sources from the GPS (sources that have a peak above 843MHz)\n",
      "171 - *The convex sources between 72MHz and 1.4GHz outlined in the manuscript\n",
      "172 - The sources that peak below 72MHz\n",
      "173 - Basic properties of the galaxy sample, and the radio monochromatic flux densities and the mid-radio continuum (1-10GHz) luminosities (tables 1 and 4)\n",
      "174 - The catalog of 2097 objects detected at 5, 7 or 9GHz subbands\n",
      "175 - Associations of 3FGL objects with compact radio sources\n",
      "176 - The list of 158 extended sources found around 3FGL unassociated {gamma}-ray objects\n",
      "177 - Objects outside the 3-{sigma} Fermi localization error ellipse (datafile_online.txt)\n",
      "178 - COBRA cluster survey catalog\n",
      "179 - *Luminous persistent radio source candidates\n",
      "180 - Source catalog\n",
      "181 - Summary of galaxy properties, including aperture emission line fluxes\n",
      "182 - The measured positions and flux densities\n",
      "183 - Source List\n",
      "184 - Data for calibration sources\n",
      "185 - Optical data\n",
      "186 - Radio data\n",
      "187 - A 1.49 GHz Atlas of IRAS Bright Galaxy Sample (5.5{deg} < Dec < 66{deg})\n",
      "188 - Structure of Southern Extended Extragalactic Radio Sources\n",
      "189 - Radio galaxy parameters\n",
      "190 - Detections of dwarf and LSB galaxies\n",
      "191 - PMN catalog, B1950 coordinates\n",
      "192 - PMN catalog, J2000 coordinates\n",
      "193 - Seyfert 2 galaxies in the catalog\n",
      "194 - Optical and radio data\n",
      "195 - Observed phase and flux calibrators\n",
      "196 - Observational parameters\n",
      "197 - Flux values and positions\n",
      "198 - RBSC Galactic Identifications\n",
      "199 - RBSC-NVSS Extragalactic Identifications\n",
      "200 - FIRST/FSC Sample\n",
      "201 - Plausible EGRET Identifications\n",
      "202 - Elliptical fits to the 95% confidence position contours of all 3EG EGRET sources\n",
      "203 - FIRST Bright Quasar Catalog, part III\n",
      "204 - FBQS candidate list: AGNs and galaxies\n",
      "205 - FBQS candidate list: stars and unknown  objects\n",
      "206 - Broad Absorption-Line quasars\n",
      "207 - Sources Monitored with the Green Bank Interferometer\n",
      "208 - WARPS-I Source Catalog\n",
      "209 - Other Sources\n",
      "210 - WARPS-I Statistically Complete, Flux Limited Sample\n",
      "211 - WARPS-I Additional Clusters and Candidates\n",
      "212 - Cluster sample\n",
      "213 - The WMAP First Year Source Catalog\n",
      "214 - Candidates of optical counterparts and results of identifications\n",
      "215 - NBC Quasar Candidate Catalog\n",
      "216 - SINGG release 1 (SR1) source identifications,  measurement apertures, intrinsic quantities and corrections used  in flux measurements\n",
      "217 - Short-term Variations in GBI Flux Density Monitoring\n",
      "218 - NEWPS_5{sigma}_ Source Catalogue\n",
      "219 - Three-Year Wilkinson Microwave Anisotropy Probe (WMAP) Observations: Temperature Analysis\n",
      "220 - The CRATES catalog\n",
      "221 - Parameters of the Spectral Fits\n",
      "222 - The CGRaBS catalog (Candidates Gamma-Ray Blazar)\n",
      "223 - VSOP AGN Survey source list\n",
      "224 - Morphological and structural results\n",
      "225 - Targeted sources removed from sample\n",
      "226 - Catalog of quasar candidates from non-parametric  Bayes classifier kernel density estimate (NBC KDE)\n",
      "227 - WMAP source catalog\n",
      "228 - WMAP point source catalog - five-year V-W bands\n",
      "229 - The catalog of radio sources near  bright natural guide stars\n",
      "230 - Seven-year WMAP five-band point source catalog\n",
      "231 - Seven-year WMAP CMB-free QVW point source catalog\n",
      "232 - Program source data\n",
      "233 - Catalog of quasar properties from SDSS DR7\n",
      "234 - LAT 2nd pulsar catalog: PULSAR_CATALOG\n",
      "235 - LAT second pulsar catalog: OFF_PEAK table\n",
      "236 - WMAP nine-year five-band point source catalog\n",
      "237 - WMAP nine-year CMB-free QVW point source catalog\n",
      "238 - *Swift/XRT results for 112 1FGL objects\n",
      "239 - List of post-AGB (pA) and AGB (AB) stars\n",
      "240 - The 148 objects that were detected at 5.0/5.5 and/or 7.3/9.0GHz within 2.7' of the 137 2FGL counterpart localization\n",
      "241 - The 501 objects that were detected at 5.0/5.5 and/or 7.3/9.0GHz between 2.7' and 6.5' of the 324 2FGL counterpart localization\n",
      "242 - The 216 objects that were detected outside of the 6.5 arcmin and were within the 99% position uncertainty of the 118 2FGL counterpart localization\n",
      "243 - Possible counterparts from previous radio source catalogs, the ALLWISE catalog, and the Supercosmos database for radio sources found in category I (table2), II (table3), and III (table4)\n",
      "244 - The 117 2FGL fields for which no radio point source was detected within the 4{sigma} localization error at both 5.0/5.5 and 7.3/9.0GHz\n",
      "245 - Extreme luminous X-ray source candidates in D25s\n",
      "246 - Cross-correlation between our catalog and FIRST\n",
      "247 - The Korean VLBI Network Calibrator Survey (KVNCS) catalog\n",
      "248 - The 555 target sources detected in the search mode of the survey\n",
      "249 - The 249 sources observed in the refining mode of the survey\n",
      "250 - List of 437 compact radio-loud AGNs; table added by CDS\n",
      "251 - Semiregulars not detected as H2O maser sources\n",
      "252 - Optical and HI data\n",
      "253 - 654 ROSAT detected radio quasars\n",
      "254 - Observational data\n",
      "255 - *Global parameters of Hickson compact groups of galaxies (Cat. <VII/85>)\n",
      "256 - Complete updated version of the Arcetri H2O Maser Catalogue\n",
      "257 - Observational and derived data for the analysed sample of OH/IR stars with IRAS LRS spectra\n",
      "258 - List of new dwarf galaxy candidates\n",
      "259 - Catalog of pointlike radiosources from NVSS maps\n",
      "260 - Catalog of double radiosources from NVSS maps\n",
      "261 - The complete catalogue of the Parkes quarter-Jansky sample (Appendix A)\n",
      "262 - Catalog of high velocity HI features in the LDS\n",
      "263 - New 2cm VLA observations of the IRAS 1Jy ULIRG sample.\n",
      "264 - Sample of cooling flow clusters of galaxies observed with the IRAM 30m telescope.\n",
      "265 - Summary of observed and derived quantities  for steep and flat-spectrum sources\n",
      "266 - AGN with radio detections\n",
      "267 - AGN not detected in the radio\n",
      "268 - Complete sample of HBL BL Lacs in the Sedentary Survey: objects coordinates and main properties\n",
      "269 - List of the 19 emission line AGNs in the HBL zone\n",
      "270 - The basic quantities for 148 SNRs in nearby galaxies used for deriving of the updated {Sigma}-D relations.\n",
      "271 - Overall properties of the sample galaxies\n",
      "272 - Radio fluxes, optical IDs and redshifts of Southern Kuehr sources\n",
      "273 - The 5GHz catalogue\n",
      "274 - List of fits images\n",
      "275 - The sample of 170 BL Lac objects selected from Nieppola et al. (2006, Cat. <J/A+A/445/441>).\n",
      "276 - Positional information\n",
      "277 - *Featureless sedentary HBL\n",
      "278 - ROXA catalog of blazars.\n",
      "279 - Source parameters\n",
      "280 - Salient parameters of six Southern Compact Groups of galaxies\n",
      "281 - Optical and HI measurements for individual member galaxies of each group\n",
      "282 - Parameters, pre-classification and posterior  classification of planetary nebulae\n",
      "283 - Observations and properties of GPS candidates\n",
      "284 - FERMI pulsar candidates\n",
      "285 - Catalogue of AGN In the XMM-Newton Archive\n",
      "286 - Multi-frequency catalogue of blazars (Roma-BZCAT) Version 4.1.1 (2012-August)\n",
      "287 - Multi-frequency catalogue of blazars (Roma-BZCAT) Version 1.0 (2009-November)\n",
      "288 - WMAP3 catalogue: basic data, identifications and inclusion in the flux limited sample\n",
      "289 - Optical and radio parameters of 135 AGN\n",
      "290 - List of the 398 extragalactic radio sources detected during EC025A and EC025B experiments (211 out of 218 detected during EC025A, and 187 out of 229 detected during EC025B)\n",
      "291 - Quasars LQAC-2\n",
      "292 - Unusual quasar catalogue\n",
      "293 - *The Fermi-LAT ({gamma}-ray TS/flux-limited) sample\n",
      "294 - The Swift-BAT (hard X-ray flux-limited) sample\n",
      "295 - The ROSAT/RASS (soft X-ray flux-limited) sample\n",
      "296 - The master catalog, one entry per galaxy\n",
      "297 - The catalog listing each radio match per galaxy\n",
      "298 - List of studied sources\n",
      "299 - Parameters of the observed sources and of  the VLBI maps, and core properties\n",
      "300 - ATLAS 2.3GHz source catalogue of the CDF-S and ELAIS-S1 fields (table2 in the paper)\n",
      "301 - Properties of the 852 X-ray selected  (+11 X-ray undetected) SDSS type 1 AGNs falling in the FIRST field\n",
      "302 - Main DR9 Quasar catalog\n",
      "303 - Supplemental list\n",
      "304 - Activity characteristics of all ultracool dwarfs observed at radio frequencies.\n",
      "305 - VLA/JVLA source coordinates and flux densities\n",
      "306 - Clusters observed with the GMRT\n",
      "307 - Properties of the discrete radio sources\n",
      "308 - Sample of 170 BL Lac objects in Wu et al. (2007, Cat. J/A+A/466/63)\n",
      "309 - The rms flux density at 150MHz\n",
      "310 - Properties and fluxes of our (tables 1 and 2)\n",
      "311 - Radio and Infrared data for the 35 LIRG systems of our sample\n",
      "312 - The Ghat sample studied in this paper, including values (or upper limits) of q_22_\n",
      "313 - Quasars LQAC-3\n",
      "314 - MWACS-BZCat sources\n",
      "315 - MWACS-3LAC sources\n",
      "316 - UGS with MWACS sources in the 95% error ellipse\n",
      "317 - Full source catalog of TGSS ADR1 150 MHz sources\n",
      "318 - Astrophysical HI-parameters\n",
      "319 - Properties of the FRIICAT sources\n",
      "320 - The observed HI properties of CIG galaxies\n",
      "321 - Galaxy sample\n",
      "322 - Aperture-matched photometry for 27 bands (GALEX, SDSS, 2MASS, WISE, Spitzer, and Herschel)\n",
      "323 - 4th release of the Large Quasar Astrometric Catalogue\n",
      "324 - New NLS1 (tables 1, 2 and 4)\n",
      "325 - ADEV based classification of VLBI sources\n",
      "326 - Source Characteristics for N=1510 sources\n",
      "327 - Results of the radio continuum survey\n",
      "328 - Flux densities at 22.25MHz\n",
      "329 - Radio Source Parameters From Lunar Occultation, Observations (-19{deg} to 19{deg})\n",
      "330 - Observations results (tables 2 and 3)\n",
      "331 - The results of the last part of the Survey\n",
      "332 - Basic data for the 1Jy BL Lac objects\n",
      "333 - H2O Masers and IRAS-PSC sources, and derived  parameters\n",
      "334 - Radio data for the 1 Jy radio sources\n",
      "335 - Radio sources in the clusters fields\n",
      "336 - Radio sources identified with the cluster brightest member\n",
      "337 - Source list\n",
      "338 - Full sample of objects with water or SiO masers\n",
      "339 - Results of the 2.8cm survey\n",
      "340 - Observed 1 Jy Radio Sources\n",
      "341 - Positions and fluxes observed with VLA\n",
      "342 - Polarization properties at 6.3cm (N=154 sources)\n",
      "343 - NVSS sources around pulsar positions\n",
      "344 - Sources sample\n",
      "345 - Optical properties of new Local Volume dwarf candidates\n",
      "346 - List of TN (TEXAS-NVSS) USS sources\n",
      "347 - List of MP (MRC-PMN) USS sources\n",
      "348 - *FITS files designation in fits directory\n",
      "349 - A complete catalogue of intense sources at 1400MHz\n",
      "350 - Green Bank 5-GHz strong source survey\n",
      "351 - Positions, Structures and Polarization of 404 Compact Radio Sources\n",
      "352 - Galaxies detected in the radio survey.\n",
      "353 - *Abell cluster properties (from table4)\n",
      "354 - *Abell cluster radio sources (from table4)\n",
      "355 - *Optical identifications of the radio sources\n",
      "356 - Cluster radio survey (z<=0.09)\n",
      "357 - Cluster radio survey (0.09<z<~0.25)\n",
      "358 - Infrared and radio data\n",
      "359 - Optical data and derived quantities\n",
      "360 - Radio positions of sources used to define the reference frame\n",
      "361 - Radio positions of candidate and other sources\n",
      "362 - Sources observed unsuccessfully\n",
      "363 - New quasar radio detections\n",
      "364 - Positional information\n",
      "365 - Radio Galaxy Catalog\n",
      "366 - VV00 Quasars Detected in 2MASS\n",
      "367 - VV00 Quasars With Only Upper Limits in 2MASS\n",
      "368 - New LBQS quasars\n",
      "369 - LBQS-FIRST Quasars\n",
      "370 - LBQS-FIRST stellar matches\n",
      "371 - LBQS-FIRST non-stellar matches\n",
      "372 - HIPASS Catalog of Anomalous-Velocity Objects (-500km/s< V_LSR_<500km/s; Decl.<+2{deg})\n",
      "373 - Catalog of XHVCs, Objects with high-velocity emission (-60km/s>V_dev_>60km/s) that merge with Galactic emission below this velocity range\n",
      "374 - Known OH megamasers\n",
      "375 - Phoenix Deep Field 1.4GHz merged catalogue\n",
      "376 - SDSS EDR BALQSO Catalog: Objects with 1.7<=z<=4.2\n",
      "377 - PMN/FSC Sample\n",
      "378 - Radio-Excess Objects\n",
      "379 - The VCS2 Source List\n",
      "380 - Objects position (from Simbad)\n",
      "381 - The VCS3 catalog\n",
      "382 - Potential radio-weak BL Lac candidates\n",
      "383 - Observed and derived properties of the sampleof 18 giant SUMSS radio sources\n",
      "384 - Redshifts and spectral lines in spectra in Fig. 29 (tables A1 and A3 of the paper)\n",
      "385 - Observed sources, image parameters, and jet properties from the MOJAVE survey (tables 1, 3 and 4 of the paper)\n",
      "386 - General source properties\n",
      "387 - Radio positions, flux densities, angular sizes, and position angles for the MS4 sample\n",
      "388 - ATCA observing runs  and  measured parameters\n",
      "389 - Positions, magnitudes, and redshifts for the optical counterparts\n",
      "390 - The VCS4 catalog\n",
      "391 - SDSS parameters\n",
      "392 - Infrared Properties of OH Megamasers\n",
      "393 - The VCS5 catalog\n",
      "394 - Sources not detected in VCS5 VLBA observations\n",
      "395 - Candidate X-shaped Radio Sources from FIRST\n",
      "396 - Sources in the RRFID kinematic survey\n",
      "397 - List of detected continuum spectrum sources\n",
      "398 - List of not detected sources\n",
      "399 - Radio sources in cluster fields\n",
      "400 - Radio component data\n",
      "401 - Radio source data\n",
      "402 - A section of the table with SUMSS (Sydney University Molonglo Sky Survey, Cat. <VIII/81>) counterparts to 1.4GHz radio sources\n",
      "403 - Observed (table5) and derived (table6) parameters of BL Lac candidates\n",
      "404 - The VCS6 catalog\n",
      "405 - Sources not detected in VCS6 VLBA observations\n",
      "406 - Catalog of 887 optically-selected type 2 quasars\n",
      "407 - Properties of THINGS sample galaxies\n",
      "408 - The Matched SDSS and FIRST Sample\n",
      "409 - The complete flux-limited MOJAVE AGN sample\n",
      "410 - AGN sample\n",
      "411 - Observed and derived parameters of  radio-loud BL Lac candidates\n",
      "412 - Observed and derived parameters of  weak-featured radio-quiet objects\n",
      "413 - Coordinates of sources at K band (24 GHz)\n",
      "414 - Coordinates of sources at Q band (43 GHz)\n",
      "415 - Parameters of naturally weighted images at 24GHz\n",
      "416 - All extended sources with N^-19^_1.0_>=40\n",
      "417 - Quasar sample with radio morphology classifications\n",
      "418 - 317 candidate double-lobed quasars without a detected radio core\n",
      "419 - The 719 optically-faint triples in the SDSS\n",
      "420 - VGaPS catalogue\n",
      "421 - The list of 160 sources that have not been detected in VGaPS observations\n",
      "422 - KCAL catalog of correlated flux densities\n",
      "423 - A catalog of 101853 SDSS-WISE quasars by matching the WISE all-sky data\n",
      "424 - Sources and their rotation measure properties\n",
      "425 - List of the observed SiO maser sources\n",
      "426 - Catalog of X-ray-selected BL Lacertae objects (table2) and X-ray-selected BL Lacertae candidates (table12)\n",
      "427 - The OBRS-2 source VLBI position catalog\n",
      "428 - General properties of AGNs in the combined samples\n",
      "429 - Observing Summary\n",
      "430 - VLA 4.9 GHz Gaussian Fit Results\n",
      "431 - VCS-II catalog: re-observed sources  , and originally undetected VCS sources\n",
      "432 - AGN properties\n",
      "433 - Calibration Source List\n",
      "434 - Target list and their properties\n",
      "435 - Radio fluxes, positions (table 3) and fractional circular polarization (table 4) of detected MCVs\n",
      "436 - All Sky Catalog of Extragal. Radio Srcs at 2.7 GHz\n",
      "437 - Variability Measurements from the Culgoora Circular Array\n",
      "438 - Optical and IR Study of Parkes Radio Sources (-22{deg} < Dec < 4{deg} )\n",
      "439 - F(8400MHz) of Southern sources\n",
      "440 - Compact Radio Cores in Radio Galaxies (Dec < -30d)\n",
      "441 - Subsample A\n",
      "442 - Subsample C\n",
      "443 - The BL Lac Catalogue (Table 1 of paper)\n",
      "444 - Phoenix Deep Field Data\n",
      "445 - The ATCA 1.4GHz radio catalogue of southern celestial hemisphere (S1)\n",
      "446 - Averaged total flux densities and the modulation indices for the sample of intraday variability sources.\n",
      "447 - Average polarized flux densities, modulation indices of linear polarization and average position angle of the polarized flux\n",
      "448 - Candidate and additional 2dFGRS/NVSS  radio sources\n",
      "449 - Properties of Fornax region detections\n",
      "450 - The SUMSS-NVSS ultra-steep spectrum (USS) sources\n",
      "451 - Final ELAIS Catalogue\n",
      "452 - Unassociated 90 and 175{mu}m sources\n",
      "453 - 2dFGRS radio identifications\n",
      "454 - 2dFGRS radio upper limits\n",
      "455 - Optical HICAT catalogue, HOPCAT\n",
      "456 - Properties of the 2712 SDSS radio galaxies\n",
      "457 - Radio spectra and optical IDs for extragalactic 18GHz sources (|b|>10{deg}), and excluding objects within of the LMC centre\n",
      "458 - 6dFGS-NVSS data\n",
      "459 - Radio counterparts to X-ray cluster centres\n",
      "460 - The MRCR-SUMSS USS sample\n",
      "461 - Sources in the MRCR-SUMSS sample with likely optical identifications in SuperCOSMOS\n",
      "462 - Catalog of SDSS-DR5 spectroscopic quasars with 2MASS counterpart\n",
      "463 - Properties of blue AGNs, and their  H{alpha} and H{beta} broad-line profiles\n",
      "464 - Monochromatic fluxes are derived from SDSS, 2MASS and FIRST and corrected for Galactic extinction\n",
      "465 - Australia Telescope 20GHz (AT20G) Survey: Bright Source Sample (BDD)\n",
      "466 - Observations of 2005 and 2006\n",
      "467 - Radio sources detected in the seven cluster fields\n",
      "468 - z>=3.6 QSO candidates identified by the NN in the FIRST-SDSS DR5 unlabelled sample\n",
      "469 - The NEWPS 5yr 5s Catalogue with a selection for noise<1.5 times the median noise in the map\n",
      "470 - K-band photometry results\n",
      "471 - IIFSCz Catalogue (MRR+LW 18/04/09)\n",
      "472 - 6dFGS-RASS AGN catalog\n",
      "473 - Flux densities of observed sources at X (8.4GHz), K (22GHz) and Q (43GHz) bands\n",
      "474 - The AT20G catalogue, version 1.0 (2009-10-15)\n",
      "475 - Optical and infrared properties of the putative cluster members\n",
      "476 - New redshifts of galaxies near S1189\n",
      "477 - The sample of 129 ultrahigh polarization radio sources selected from the NVSS\n",
      "478 - High-resolution observations at 1.4GHz with the ATCA, VLA and FIRST survey\n",
      "479 - Spitzer/IRS ATLAS project source catalog, version 1.0\n",
      "480 - LCS1 catalogue\n",
      "481 - Radio properties of our FR II radio sources\n",
      "482 - *The PACO bright catalogue\n",
      "483 - Summary of C1813 data (ATCA, see table2)\n",
      "484 - Table of data for CSS and GPS candidates and sources\n",
      "485 - Final sample\n",
      "486 - The WP85 sample\n",
      "487 - The PSR sample\n",
      "488 - AT20G-optical catalogue\n",
      "489 - Properties of the 18286 SDSS radio galaxies\n",
      "490 - 843MHz Molonglo Observatory Synthesis Telescope (MOST) ATLAS catalogue\n",
      "491 - The ATPMN catalogue, version 1.0 (2011-12-20)\n",
      "492 - Deep co-add stack (DCS) sample: 2116 point sources from the VLA FIRST\n",
      "493 - The catalogue of new spectroscopic redshifts and spectroscopic classifications of the 466 radio-selected galaxies in ATLAS\n",
      "494 - Planck-ATCA Co-eval Observations (PACO) spectrally selected sample\n",
      "495 - Blazar candidates in our sample\n",
      "496 - The catalog of 146 objects detected at both 5 and 9GHz sub-bands\n",
      "497 - The catalog of 229 objects detected at 5GHz sub-band only\n",
      "498 - The catalog of 49 objects detected only at sidelobes of 5 or 9GHz beam\n",
      "499 - Visibility catalogue of the AT20G survey\n",
      "500 - Catalogue of the sources of the extragalactic sample observed in the AT20G run dedicated to high sensitivity polarization\n",
      "501 - Chandra matched catalog\n",
      "502 - 6dFGS galaxies detected as AT20G radio sources.\n",
      "503 - Source properties and results\n",
      "504 - Full catalogue of 1317 Infrared-Faint Radio sources\n",
      "505 - ACT high significance 148 and 218GHz Extragalactic Source Catalog\n",
      "506 - Properties of 204 galaxies searched for HI absorption in HIPASS\n",
      "507 - ATLAS 1.4GHz DR2 component catalogue\n",
      "508 - ATLAS 1.4GHz DR2 source catalogue\n",
      "509 - HI parameters of good detections (high S/N and not confused/disturbed)\n",
      "510 - HI parameters of all other detected galaxies\n",
      "511 - List of non-detections\n",
      "512 - The properties of the 211-source combined sample used in the analysis of this paper\n",
      "513 - Catalog of 59192 double-lobed radio sources from FIRST, including redshift information for matches to SDSS quasars\n",
      "514 - Catalogue of radio sources in the fields of the dwarf spheroidal galaxies Carina, Fornax, Sculptor, Bootes II, Segue 2, and Hercules\n",
      "515 - Final sample of 87 RLQ with 3.6<=z<=4.4\n",
      "516 - Radio fluxes of the 123 sources (tables 2 and 3)\n",
      "517 - The Fermi blazars\n",
      "518 - The non-Fermi blazars\n",
      "519 - GISMO (150GHz) fluxes of the observed clusters\n",
      "520 - CARMA (90GHz) fluxes of the observed BCGs\n",
      "521 - ATLAS DR3 Component Catalogue (23/07/2015) (coverage area: 6.296 sq. degrees)\n",
      "522 - Measurements for the revised Shen et al. (2008, Cat. J/AJ/135/928) sample\n",
      "523 - Optical measurements for the radio-loud sample\n",
      "524 - FIRST 1.4 GHz measurements for the radio-loud sample and core dominance\n",
      "525 - Full sample of 576 LINERs\n",
      "526 - PACO full sample catalogue\n",
      "527 - PACO full catalogue of integrated flux densities and PLANCK matches\n",
      "528 - Source catalog\n",
      "529 - Catalog of sources in the central 10{deg} radius of the EoR0 field\n",
      "530 - Timing model parameters\n",
      "531 - Best-fitting parameters of the morphological fittings and general properties of the combined (this work and literature compilation)\n",
      "532 - The optical and radio parameters for 7138 radio BCGs\n",
      "533 - FR II quasar catalogue\n",
      "534 - Radio-quiet (RQ) catalogue\n",
      "535 - KGS catalogue\n",
      "536 - Main LARGESS data table\n",
      "537 - Details of the QGPs observed by us\n",
      "538 - Variability parameters of OVRO monitored sources\n",
      "539 - Source properties\n",
      "540 - Basic properties of all sources in the sample\n",
      "541 - Basic properties (table 1) and flux measurements (table 2) of the LVHIS sample\n",
      "542 - Flux densities of Pulsars at 102.5 MHz\n",
      "543 - The VSOP 5-GHz AGN survey source list\n",
      "544 - List of known detections\n",
      "545 - List of non-detections\n",
      "546 - Approximate flux densities and spectral indices for the 17 sources dropped from the ATCA monitoring.\n",
      "547 - Mean flux densities, variability indices, mean percentage linear polarisations, mean spectral indices, and structure flags for the 185 (=202-17) VSOP Survey sources monitored with the ATCA.\n",
      "548 - Sample of 50 blazars and the relevant data\n",
      "549 - Blazar and some parameters\n",
      "550 - General list of LINERS\n",
      "551 - Coordinates for the complete sample of sources\n",
      "552 - The list of IRAS-TEXAS Association (ITA) radio identified sources\n",
      "553 - IRAS-TEXAS Association (ITA) objects having (I)nverse or (U)ltra steep spectrum\n",
      "554 - Damped Lyman alpha absorption systems and the radio flux densities of the background quasars\n",
      "555 - S-PASS catalogue\n",
      "556 - List of sources observed with the GMRT\n",
      "557 - The 224 individual feature data of 123 superluminal sources\n",
      "558 - Quasars with Newly Detected Radio Emission\n",
      "559 - Data for 467 GHz-Peaked Spectrum (GPS) candidates\n",
      "560 - Data for 37 objects\n",
      "561 - Data for 877 objects\n",
      "562 - H_2_O maser Atlas\n"
     ]
    }
   ],
   "source": [
    "# Printing catalogues that are accessible\n",
    "for i in range(len(result)):\n",
    "    print i,'-',result[i].meta['description']"
   ]
  },
  {
   "cell_type": "code",
   "execution_count": 12,
   "metadata": {},
   "outputs": [
    {
     "name": "stdout",
     "output_type": "stream",
     "text": [
      "Enter catalogue number to use 69\n"
     ]
    }
   ],
   "source": [
    "indx = int(raw_input(\"Enter catalogue number to use \"))"
   ]
  },
  {
   "cell_type": "code",
   "execution_count": 13,
   "metadata": {},
   "outputs": [
    {
     "name": "stdout",
     "output_type": "stream",
     "text": [
      "Catalogue chosen is:  The SUMSS Catalog, Version 2.1r (Feb-16-2012)\n"
     ]
    },
    {
     "data": {
      "text/html": [
       "&lt;Table masked=True length=5&gt;\n",
       "<table id=\"table139869109214480\" class=\"table-striped table-bordered table-condensed\">\n",
       "<thead><tr><th>RAJ2000</th><th>e_RAJ2000</th><th>DEJ2000</th><th>e_DEJ2000</th><th>Sp</th><th>e_Sp</th><th>St</th><th>e_St</th><th>MajAxis</th><th>MinAxis</th><th>PA</th><th>Mosaic</th><th>Nm</th></tr></thead>\n",
       "<thead><tr><th>&quot;h:m:s&quot;</th><th>arcs</th><th>&quot;d:m:s&quot;</th><th>arcs</th><th>mJy</th><th>mJy</th><th>mJy</th><th>mJy</th><th>arcs</th><th>arcs</th><th>deg</th><th></th><th></th></tr></thead>\n",
       "<thead><tr><th>str11</th><th>float32</th><th>str12</th><th>float32</th><th>float32</th><th>float32</th><th>float64</th><th>float32</th><th>float32</th><th>float32</th><th>float32</th><th>str8</th><th>uint8</th></tr></thead>\n",
       "<tr><td>00 00 00.00</td><td>3.6</td><td>-31 09 53.10</td><td>4.7</td><td>13.1</td><td>1.4</td><td>13.2</td><td>1.4</td><td>84.9</td><td>58.4</td><td>162.3</td><td>J0000M32</td><td>1</td></tr>\n",
       "<tr><td>00 00 00.03</td><td>3.1</td><td>-50 28 08.50</td><td>3.6</td><td>7.4</td><td>0.8</td><td>7.4</td><td>0.8</td><td>57.1</td><td>46.6</td><td>163.8</td><td>J0000M52</td><td>1</td></tr>\n",
       "<tr><td>00 00 00.10</td><td>2.1</td><td>-45 57 21.50</td><td>2.5</td><td>16.7</td><td>1.0</td><td>20.9</td><td>1.3</td><td>70.0</td><td>50.1</td><td>17.1</td><td>J0000M48</td><td>2</td></tr>\n",
       "<tr><td>00 00 00.26</td><td>1.8</td><td>-47 37 57.70</td><td>2.0</td><td>28.1</td><td>1.3</td><td>28.1</td><td>1.3</td><td>60.6</td><td>48.7</td><td>158.9</td><td>J0000M48</td><td>1</td></tr>\n",
       "<tr><td>00 00 01.72</td><td>3.3</td><td>-59 36 16.30</td><td>3.5</td><td>11.1</td><td>1.2</td><td>11.1</td><td>1.2</td><td>52.0</td><td>47.0</td><td>151.8</td><td>J0000M60</td><td>1</td></tr>\n",
       "</table>"
      ],
      "text/plain": [
       "<Table masked=True length=5>\n",
       "  RAJ2000   e_RAJ2000   DEJ2000    e_DEJ2000 ... MinAxis    PA    Mosaic    Nm \n",
       "  \"h:m:s\"      arcs     \"d:m:s\"       arcs   ...   arcs    deg                 \n",
       "   str11     float32     str12      float32  ... float32 float32   str8   uint8\n",
       "----------- --------- ------------ --------- ... ------- ------- -------- -----\n",
       "00 00 00.00       3.6 -31 09 53.10       4.7 ...    58.4   162.3 J0000M32     1\n",
       "00 00 00.03       3.1 -50 28 08.50       3.6 ...    46.6   163.8 J0000M52     1\n",
       "00 00 00.10       2.1 -45 57 21.50       2.5 ...    50.1    17.1 J0000M48     2\n",
       "00 00 00.26       1.8 -47 37 57.70       2.0 ...    48.7   158.9 J0000M48     1\n",
       "00 00 01.72       3.3 -59 36 16.30       3.5 ...    47.0   151.8 J0000M60     1"
      ]
     },
     "execution_count": 13,
     "metadata": {},
     "output_type": "execute_result"
    }
   ],
   "source": [
    "MyCat = result[result.keys()[indx]]\n",
    "print \"Catalogue chosen is: \", result[indx].meta['description']\n",
    "MyCat[:5]"
   ]
  },
  {
   "cell_type": "code",
   "execution_count": 17,
   "metadata": {},
   "outputs": [
    {
     "data": {
      "text/plain": [
       "50"
      ]
     },
     "execution_count": 17,
     "metadata": {},
     "output_type": "execute_result"
    }
   ],
   "source": [
    "len(MyCat)"
   ]
  },
  {
   "cell_type": "code",
   "execution_count": 18,
   "metadata": {},
   "outputs": [],
   "source": [
    "if \"SUMSS\" in result[indx].meta['description']:\n",
    "    CatChosen = 'SUMSS'\n",
    "elif \"NVSS\" in result[indx].meta['description']:\n",
    "    CatChosen = 'NVSS'\n",
    "else:\n",
    "    print(\"Non standard cat chosen may break code\")"
   ]
  },
  {
   "cell_type": "code",
   "execution_count": 19,
   "metadata": {},
   "outputs": [],
   "source": [
    "# LSM should be of the following format:\n",
    "# #name ra_d dec_d i q u v emaj_s emin_s pa_d\n",
    "\n",
    "MyLSM = []\n",
    "if CatChosen == 'SUMSS':\n",
    "    for Indx in range(len(MyCat)):\n",
    "        c = SkyCoord(MyCat['RAJ2000'][Indx]+' '+MyCat['DEJ2000'][Indx], unit=(u.hourangle, u.deg))\n",
    "\n",
    "        ra_d = c.ra.deg\n",
    "        dec_d = c.dec.deg\n",
    "\n",
    "        # i should be in Jansky, Q, U and V will be 0 for now \n",
    "\n",
    "        StokesI = MyCat['Sp'][Indx]*1.e-3\n",
    "        StokesQ = 0.0\n",
    "        StokesU = 0.0\n",
    "        StokesV = 0.0\n",
    "\n",
    "        emaj_s = Angle(MyCat['MajAxis'][Indx],unit = u.arcsec)  \n",
    "        emin_s = Angle(MyCat['MinAxis'][Indx],unit = u.arcsec)  \n",
    "        pa_d = Angle(MyCat['PA'][Indx],unit = u.deg)\n",
    "\n",
    "        MyLSM.append((Indx, ra_d, dec_d, StokesI, StokesQ, StokesU, StokesV, emaj_s.deg, emin_s.deg, pa_d.deg ))\n",
    "        \n",
    "elif CatChosen == 'NVSS':\n",
    "    \n",
    "    for Indx in range(len(MyCat)):\n",
    "        c = SkyCoord(MyCat['RAJ2000'][Indx]+' '+MyCat['DEJ2000'][Indx], unit=(u.hourangle, u.deg))\n",
    "\n",
    "        ra_d = c.ra.deg\n",
    "        dec_d = c.dec.deg\n",
    "\n",
    "        # i should be in Jansky, Q, U and V will be 0 for now \n",
    "\n",
    "        StokesI = MyCat['S1.4'][Indx]*1.e-3\n",
    "        StokesQ = 0.0\n",
    "        StokesU = 0.0\n",
    "        StokesV = 0.0\n",
    "\n",
    "        emaj_s = Angle(MyCat['MajAxis'][Indx],unit = u.arcsec)  \n",
    "        emin_s = Angle(MyCat['MinAxis'][Indx],unit = u.arcsec)  \n",
    "        pa_d = Angle(MyCat['PA'][Indx],unit = u.deg)\n",
    "\n",
    "        MyLSM.append((Indx, ra_d, dec_d, StokesI, StokesQ, StokesU, StokesV, emaj_s.deg, emin_s.deg, pa_d.deg ))"
   ]
  },
  {
   "cell_type": "code",
   "execution_count": 20,
   "metadata": {},
   "outputs": [],
   "source": [
    "MyLSMHeader = '#format:name ra_d dec_d i q u v emaj_s emin_s pa_d'"
   ]
  },
  {
   "cell_type": "code",
   "execution_count": 21,
   "metadata": {},
   "outputs": [],
   "source": [
    "np.savetxt('test_LSM.lsm', np.array(MyLSM),header=MyLSMHeader,comments='',\n",
    "           fmt= '%i %.5e %.5e %.5e %.5e %.5e %.5e %.5e %.5e %.5e')"
   ]
  },
  {
   "cell_type": "code",
   "execution_count": 23,
   "metadata": {},
   "outputs": [
    {
     "name": "stdout",
     "output_type": "stream",
     "text": [
      "total 45G\r\n",
      "drwxr-xr-x  7 2020 1000 4.0K Nov 12 11:32 .\r\n",
      "drwxr-xr-x 18 2020 1000 4.0K Nov  2 09:34 ..\r\n",
      "drwxr-xr-x  8 2020 1000  257 Nov 12 11:20 .git\r\n",
      "-rw-r--r--  1 2020 1000  163 Nov 12 11:19 .gitignore\r\n",
      "drwxr-xr-x  2 root root  172 Nov 12 11:26 .ipynb_checkpoints\r\n",
      "-rw-r--r--  1 2020 1000 1.6K Nov 11 15:03 README.md\r\n",
      "-rw-r--r--  1 2020 1000 8.2K Nov 12 11:16 RFIsim.py\r\n",
      "-rw-r--r--  1 2020 1000  20K Nov 12 11:30 VO_example_for_Sky_model.ipynb\r\n",
      "-rw-r--r--  1 2020 1000  49K Nov 12 11:32 VO_example_for_Sky_model_w_NVSS_n_SUMSS.ipynb\r\n",
      "-rw-r--r--  1 2020 root 3.4M Nov 11 18:25 montblanc.log\r\n",
      "drwxr-xr-x  3 2020 1000  333 Nov 12 11:20 notebooks\r\n",
      "drwxr-xr-x  2 2020 1000   10 Nov  8 16:01 output_data\r\n",
      "-rw-r--r--  1 root root  45G Nov 11 18:25 ra=0.0_dec=0.0_int_secs=8_track-time=0.1hrs_nants=64_nchan=4096.h5\r\n",
      "-rw-r--r--  1 root root 5.6K Nov 12 11:32 test_LSM.lsm\r\n",
      "drwxr-xr-x  6 2020 1000  197 Nov 12 11:16 utils\r\n"
     ]
    }
   ],
   "source": [
    "!ls -lah"
   ]
  },
  {
   "cell_type": "code",
   "execution_count": 19,
   "metadata": {},
   "outputs": [],
   "source": [
    "# Copy the sky model to the path you want"
   ]
  },
  {
   "cell_type": "code",
   "execution_count": null,
   "metadata": {},
   "outputs": [],
   "source": []
  },
  {
   "cell_type": "code",
   "execution_count": 281,
   "metadata": {},
   "outputs": [],
   "source": [
    "import Tigger"
   ]
  },
  {
   "cell_type": "code",
   "execution_count": 313,
   "metadata": {},
   "outputs": [
    {
     "name": "stdout",
     "output_type": "stream",
     "text": [
      "Loading test_LSM.lsm: ASCII table\n"
     ]
    }
   ],
   "source": [
    "lsm = Tigger.load('test_LSM.lsm')"
   ]
  },
  {
   "cell_type": "code",
   "execution_count": 314,
   "metadata": {},
   "outputs": [
    {
     "data": {
      "text/plain": [
       "<Tigger.Models.SkyModel.SkyModel at 0x7fa31f66af10>"
      ]
     },
     "execution_count": 314,
     "metadata": {},
     "output_type": "execute_result"
    }
   ],
   "source": [
    "lsm"
   ]
  },
  {
   "cell_type": "code",
   "execution_count": 315,
   "metadata": {},
   "outputs": [
    {
     "data": {
      "text/plain": [
       "[<Tigger.Models.SkyModel.Source at 0x7fa31f6a93d0>,\n",
       " <Tigger.Models.SkyModel.Source at 0x7fa31f66ab50>]"
      ]
     },
     "execution_count": 315,
     "metadata": {},
     "output_type": "execute_result"
    }
   ],
   "source": [
    "lsm.sources"
   ]
  },
  {
   "cell_type": "code",
   "execution_count": 316,
   "metadata": {},
   "outputs": [],
   "source": [
    "lsm.sources[0].shape"
   ]
  },
  {
   "cell_type": "code",
   "execution_count": 317,
   "metadata": {},
   "outputs": [
    {
     "ename": "AttributeError",
     "evalue": "'NoneType' object has no attribute 'pa'",
     "output_type": "error",
     "traceback": [
      "\u001b[0;31m---------------------------------------------------------------------------\u001b[0m",
      "\u001b[0;31mAttributeError\u001b[0m                            Traceback (most recent call last)",
      "\u001b[0;32m<ipython-input-317-256cc77a4d65>\u001b[0m in \u001b[0;36m<module>\u001b[0;34m()\u001b[0m\n\u001b[0;32m----> 1\u001b[0;31m \u001b[0mlsm\u001b[0m\u001b[0;34m.\u001b[0m\u001b[0msources\u001b[0m\u001b[0;34m[\u001b[0m\u001b[0;36m0\u001b[0m\u001b[0;34m]\u001b[0m\u001b[0;34m.\u001b[0m\u001b[0mshape\u001b[0m\u001b[0;34m.\u001b[0m\u001b[0mpa\u001b[0m\u001b[0;34m\u001b[0m\u001b[0m\n\u001b[0m",
      "\u001b[0;31mAttributeError\u001b[0m: 'NoneType' object has no attribute 'pa'"
     ]
    }
   ],
   "source": [
    "lsm.sources[0].shape.pa"
   ]
  },
  {
   "cell_type": "code",
   "execution_count": 291,
   "metadata": {},
   "outputs": [
    {
     "data": {
      "text/plain": [
       "0.00028313080191702414"
      ]
     },
     "execution_count": 291,
     "metadata": {},
     "output_type": "execute_result"
    }
   ],
   "source": [
    "np.deg2rad(1.62222e-02)"
   ]
  },
  {
   "cell_type": "code",
   "execution_count": 318,
   "metadata": {},
   "outputs": [
    {
     "name": "stdout",
     "output_type": "stream",
     "text": [
      "# #format:name ra_d dec_d i q u v emaj_s emin_s pa_d\r\n",
      "0 2.56250e-02 -2.99196e+01 1.35000e+01 0.00000e+00 0.00000e+00 0.00000e+00 2.58889e-02 1.42500e-02 1.69100e+02\r\n",
      "1 9.83333e-02 -2.99916e+01 1.85000e+01 0.00000e+00 0.00000e+00 0.00000e+00 3.09444e-02 2.05278e-02 1.43400e+02\r\n"
     ]
    }
   ],
   "source": [
    "!cat test_LSM.lsm"
   ]
  },
  {
   "cell_type": "code",
   "execution_count": 287,
   "metadata": {},
   "outputs": [
    {
     "name": "stdout",
     "output_type": "stream",
     "text": [
      "#format:name ra_d dec_d i q u v emaj_s emin_s pa_d\r\n",
      "0 0.00000e+00 -3.11647e+01 1.31000e-02 0.00000e+00 0.00000e+00 0.00000e+00 2.35833e-02 1.62222e-02 1.62300e+02\r\n",
      "1 1.25000e-04 -5.04690e+01 7.40000e-03 0.00000e+00 0.00000e+00 0.00000e+00 1.58611e-02 1.29444e-02 1.63800e+02\r\n",
      "2 4.16667e-04 -4.59560e+01 1.67000e-02 0.00000e+00 0.00000e+00 0.00000e+00 1.94444e-02 1.39167e-02 1.71000e+01\r\n",
      "3 1.08333e-03 -4.76327e+01 2.81000e-02 0.00000e+00 0.00000e+00 0.00000e+00 1.68333e-02 1.35278e-02 1.58900e+02\r\n",
      "4 7.16667e-03 -5.96045e+01 1.11000e-02 0.00000e+00 0.00000e+00 0.00000e+00 1.44444e-02 1.30556e-02 1.51800e+02\r\n",
      "5 7.20833e-03 -4.20757e+01 2.95000e-02 0.00000e+00 0.00000e+00 0.00000e+00 2.15556e-02 1.27500e-02 6.30000e+00\r\n",
      "6 9.00000e-03 -5.13366e+01 2.12000e-02 0.00000e+00 0.00000e+00 0.00000e+00 1.58611e-02 1.45556e-02 1.22400e+02\r\n",
      "7 9.04167e-03 -4.75748e+01 1.25000e-02 0.00000e+00 0.00000e+00 0.00000e+00 1.68333e-02 1.45833e-02 3.97000e+01\r\n",
      "8 9.37500e-03 -3.71333e+01 1.32000e-02 0.00000e+00 0.00000e+00 0.00000e+00 2.12778e-02 1.25833e-02 1.77200e+02\r\n",
      "9 1.00000e-02 -4.77380e+01 1.30000e-02 0.00000e+00 0.00000e+00 0.00000e+00 1.68333e-02 1.48889e-02 3.74000e+01\r\n",
      "10 1.27500e-02 -3.30097e+01 1.26000e-02 0.00000e+00 0.00000e+00 0.00000e+00 3.36667e-02 2.03333e-02 1.44700e+02\r\n",
      "11 1.98333e-02 -4.63009e+01 5.89000e-02 0.00000e+00 0.00000e+00 0.00000e+00 3.36111e-02 1.91667e-02 4.97000e+01\r\n",
      "12 2.49583e-02 -4.91767e+01 1.04200e-01 0.00000e+00 0.00000e+00 0.00000e+00 1.82222e-02 1.51944e-02 1.51500e+02\r\n",
      "13 2.52083e-02 -5.43987e+01 9.10000e-03 0.00000e+00 0.00000e+00 0.00000e+00 1.52222e-02 1.35278e-02 1.47400e+02\r\n",
      "14 2.56250e-02 -2.99196e+01 1.18000e-02 0.00000e+00 0.00000e+00 0.00000e+00 2.58889e-02 1.42500e-02 1.69100e+02\r\n",
      "15 2.60833e-02 -5.72174e+01 1.83000e-02 0.00000e+00 0.00000e+00 0.00000e+00 1.50833e-02 1.30556e-02 2.25000e+01\r\n",
      "16 2.61667e-02 -5.79262e+01 6.30000e-03 0.00000e+00 0.00000e+00 0.00000e+00 1.50833e-02 1.25000e-02 1.77900e+02\r\n",
      "17 2.67500e-02 -3.43189e+01 1.04000e-02 0.00000e+00 0.00000e+00 0.00000e+00 2.12778e-02 1.37500e-02 1.16000e+01\r\n",
      "18 2.77917e-02 -3.81233e+01 1.70000e-02 0.00000e+00 0.00000e+00 0.00000e+00 1.94444e-02 1.71389e-02 3.92000e+01\r\n",
      "19 2.80000e-02 -5.21274e+01 1.38000e-02 0.00000e+00 0.00000e+00 0.00000e+00 1.77222e-02 1.61944e-02 5.57000e+01\r\n",
      "20 3.21667e-02 -5.62145e+01 8.90000e-03 0.00000e+00 0.00000e+00 0.00000e+00 1.50833e-02 1.27500e-02 6.88000e+01\r\n",
      "21 3.27083e-02 -5.86885e+01 1.48000e-02 0.00000e+00 0.00000e+00 0.00000e+00 1.44444e-02 1.41389e-02 1.08500e+02\r\n",
      "22 3.35417e-02 -5.21061e+01 2.10000e-02 0.00000e+00 0.00000e+00 0.00000e+00 1.85833e-02 1.33611e-02 2.34000e+01\r\n",
      "23 3.38750e-02 -4.73087e+01 2.75000e-02 0.00000e+00 0.00000e+00 0.00000e+00 1.68333e-02 1.44444e-02 3.18000e+01\r\n",
      "24 3.39583e-02 -5.25848e+01 6.52000e-02 0.00000e+00 0.00000e+00 0.00000e+00 1.58611e-02 1.41667e-02 1.43500e+02\r\n",
      "25 3.42500e-02 -3.76388e+01 1.81000e-02 0.00000e+00 0.00000e+00 0.00000e+00 2.12778e-02 1.66389e-02 4.16000e+01\r\n",
      "26 3.42917e-02 -4.91909e+01 8.73000e-02 0.00000e+00 0.00000e+00 0.00000e+00 1.68333e-02 1.40278e-02 6.67000e+01\r\n",
      "27 3.53333e-02 -5.47531e+01 8.80000e-03 0.00000e+00 0.00000e+00 0.00000e+00 1.50833e-02 1.43889e-02 1.27000e+02\r\n",
      "28 3.59167e-02 -4.48167e+01 1.40000e-02 0.00000e+00 0.00000e+00 0.00000e+00 1.80000e-02 1.26667e-02 6.40000e+00\r\n",
      "29 4.06250e-02 -5.22846e+01 8.20000e-03 0.00000e+00 0.00000e+00 0.00000e+00 1.58611e-02 1.35833e-02 5.04000e+01\r\n",
      "30 4.07500e-02 -5.94601e+01 8.50000e-03 0.00000e+00 0.00000e+00 0.00000e+00 1.44444e-02 1.27500e-02 6.71000e+01\r\n",
      "31 4.15417e-02 -3.15586e+01 4.47000e-02 0.00000e+00 0.00000e+00 0.00000e+00 2.35833e-02 1.25278e-02 9.00000e-01\r\n",
      "32 4.36250e-02 -5.20691e+01 6.20000e-03 0.00000e+00 0.00000e+00 0.00000e+00 3.24444e-02 1.33889e-02 1.71900e+02\r\n",
      "33 4.57500e-02 -4.08639e+01 4.77000e-02 0.00000e+00 0.00000e+00 0.00000e+00 2.16389e-02 1.27500e-02 2.60000e+00\r\n",
      "34 4.62500e-02 -4.41195e+01 6.02000e-02 0.00000e+00 0.00000e+00 0.00000e+00 1.80000e-02 1.40556e-02 1.29500e+02\r\n",
      "35 4.68333e-02 -4.35547e+01 7.09000e-02 0.00000e+00 0.00000e+00 0.00000e+00 1.80000e-02 1.40833e-02 6.77000e+01\r\n",
      "36 4.83750e-02 -5.74948e+01 5.49000e-02 0.00000e+00 0.00000e+00 0.00000e+00 1.50833e-02 1.34444e-02 5.63000e+01\r\n",
      "37 5.56667e-02 -3.59224e+01 1.24000e-02 0.00000e+00 0.00000e+00 0.00000e+00 2.12778e-02 1.34167e-02 6.32000e+01\r\n",
      "38 6.53333e-02 -4.00994e+01 1.82000e-02 0.00000e+00 0.00000e+00 0.00000e+00 2.06667e-02 1.48611e-02 2.23000e+01\r\n",
      "39 6.57083e-02 -3.32060e+01 1.71000e-02 0.00000e+00 0.00000e+00 0.00000e+00 2.35833e-02 1.26944e-02 7.80000e+01\r\n",
      "40 6.71667e-02 -5.41740e+01 1.39000e-02 0.00000e+00 0.00000e+00 0.00000e+00 1.50833e-02 1.39167e-02 1.36700e+02\r\n",
      "41 6.90000e-02 -5.66819e+01 6.92000e-02 0.00000e+00 0.00000e+00 0.00000e+00 1.50833e-02 1.25278e-02 8.38000e+01\r\n",
      "42 6.96250e-02 -4.17440e+01 1.07000e-02 0.00000e+00 0.00000e+00 0.00000e+00 2.29444e-02 1.30000e-02 8.80000e+00\r\n",
      "43 7.02500e-02 -3.41752e+01 1.12600e-01 0.00000e+00 0.00000e+00 0.00000e+00 2.75833e-02 1.99444e-02 1.29200e+02\r\n",
      "44 7.03333e-02 -5.80808e+01 1.02000e-02 0.00000e+00 0.00000e+00 0.00000e+00 1.64444e-02 1.48889e-02 7.01000e+01\r\n",
      "45 7.22500e-02 -3.74739e+01 1.12000e-02 0.00000e+00 0.00000e+00 0.00000e+00 2.12778e-02 1.26944e-02 4.30000e+00\r\n",
      "46 7.43750e-02 -3.53023e+01 1.46000e-02 0.00000e+00 0.00000e+00 0.00000e+00 2.12778e-02 1.51944e-02 1.16000e+02\r\n",
      "47 7.48333e-02 -3.73502e+01 1.67000e-02 0.00000e+00 0.00000e+00 0.00000e+00 2.12778e-02 1.66389e-02 1.54100e+02\r\n",
      "48 7.77917e-02 -4.65744e+01 1.99000e-02 0.00000e+00 0.00000e+00 0.00000e+00 1.68333e-02 1.61944e-02 5.89000e+01\r\n",
      "49 8.45417e-02 -3.23504e+01 3.16900e-01 0.00000e+00 0.00000e+00 0.00000e+00 2.35833e-02 1.89167e-02 1.51000e+02\r\n"
     ]
    }
   ],
   "source": [
    "!cat test_LSM.lsm"
   ]
  },
  {
   "cell_type": "markdown",
   "metadata": {},
   "source": [
    "## SUMSS Catalogue \n",
    "\n",
    "www.astrop.physics.usyd.edu.au/sumsscat/sumsscat.Mar-11-2008.gz"
   ]
  },
  {
   "cell_type": "code",
   "execution_count": 29,
   "metadata": {},
   "outputs": [],
   "source": [
    "import pandas as pd"
   ]
  },
  {
   "cell_type": "code",
   "execution_count": 237,
   "metadata": {},
   "outputs": [],
   "source": [
    "sumss = np.loadtxt('utils/catalogues/sumsscat.Mar-11-2008', dtype=str)"
   ]
  },
  {
   "cell_type": "code",
   "execution_count": 238,
   "metadata": {},
   "outputs": [],
   "source": [
    "sumss_cols = ['RAJ2000hh', 'RAJ2000mm', 'RAJ2000ss', 'DEJ2000dd', 'DEJ2000mm', 'DEJ2000ss', \n",
    "              'e_RAJ2000', 'e_DEJ2000', 'Sp', 'e_Sp', 'St', 'e_St', 'MajAxis', 'MinAxis', \n",
    "              'PA', 'x1', 'x2', 'x3', 'Mosaic', 'Nm', 'x4', 'x5']"
   ]
  },
  {
   "cell_type": "code",
   "execution_count": 248,
   "metadata": {},
   "outputs": [],
   "source": [
    "df = pd.DataFrame(sumss, columns=sumss_cols)"
   ]
  },
  {
   "cell_type": "code",
   "execution_count": 249,
   "metadata": {},
   "outputs": [],
   "source": [
    "df = df.drop(columns=['e_RAJ2000', 'e_DEJ2000', 'Sp', 'e_Sp', 'e_St', \n",
    "                 'x1', 'x2', 'x3', 'Mosaic', 'Nm', 'x4', 'x5'])\n",
    "\n",
    "df = df.apply(pd.to_numeric, errors='coerce')"
   ]
  },
  {
   "cell_type": "code",
   "execution_count": 250,
   "metadata": {},
   "outputs": [
    {
     "data": {
      "text/html": [
       "<div>\n",
       "<style scoped>\n",
       "    .dataframe tbody tr th:only-of-type {\n",
       "        vertical-align: middle;\n",
       "    }\n",
       "\n",
       "    .dataframe tbody tr th {\n",
       "        vertical-align: top;\n",
       "    }\n",
       "\n",
       "    .dataframe thead th {\n",
       "        text-align: right;\n",
       "    }\n",
       "</style>\n",
       "<table border=\"1\" class=\"dataframe\">\n",
       "  <thead>\n",
       "    <tr style=\"text-align: right;\">\n",
       "      <th></th>\n",
       "      <th>RAJ2000hh</th>\n",
       "      <th>RAJ2000mm</th>\n",
       "      <th>RAJ2000ss</th>\n",
       "      <th>DEJ2000dd</th>\n",
       "      <th>DEJ2000mm</th>\n",
       "      <th>DEJ2000ss</th>\n",
       "      <th>St</th>\n",
       "      <th>MajAxis</th>\n",
       "      <th>MinAxis</th>\n",
       "      <th>PA</th>\n",
       "    </tr>\n",
       "  </thead>\n",
       "  <tbody>\n",
       "    <tr>\n",
       "      <th>count</th>\n",
       "      <td>211063.000000</td>\n",
       "      <td>211063.000000</td>\n",
       "      <td>211063.000000</td>\n",
       "      <td>211063.000000</td>\n",
       "      <td>211063.000000</td>\n",
       "      <td>211063.000000</td>\n",
       "      <td>211063.000000</td>\n",
       "      <td>211063.000000</td>\n",
       "      <td>211063.000000</td>\n",
       "      <td>211063.000000</td>\n",
       "    </tr>\n",
       "    <tr>\n",
       "      <th>mean</th>\n",
       "      <td>11.221223</td>\n",
       "      <td>29.441157</td>\n",
       "      <td>29.916419</td>\n",
       "      <td>-52.746891</td>\n",
       "      <td>29.413592</td>\n",
       "      <td>29.905832</td>\n",
       "      <td>62.705213</td>\n",
       "      <td>65.033987</td>\n",
       "      <td>50.078154</td>\n",
       "      <td>90.762212</td>\n",
       "    </tr>\n",
       "    <tr>\n",
       "      <th>std</th>\n",
       "      <td>7.627004</td>\n",
       "      <td>17.308951</td>\n",
       "      <td>17.359206</td>\n",
       "      <td>15.225615</td>\n",
       "      <td>17.385063</td>\n",
       "      <td>17.336541</td>\n",
       "      <td>879.781546</td>\n",
       "      <td>17.924319</td>\n",
       "      <td>7.170397</td>\n",
       "      <td>54.965468</td>\n",
       "    </tr>\n",
       "    <tr>\n",
       "      <th>min</th>\n",
       "      <td>0.000000</td>\n",
       "      <td>0.000000</td>\n",
       "      <td>0.000000</td>\n",
       "      <td>-89.000000</td>\n",
       "      <td>0.000000</td>\n",
       "      <td>0.000000</td>\n",
       "      <td>6.000000</td>\n",
       "      <td>0.000000</td>\n",
       "      <td>0.000000</td>\n",
       "      <td>0.000000</td>\n",
       "    </tr>\n",
       "    <tr>\n",
       "      <th>25%</th>\n",
       "      <td>4.000000</td>\n",
       "      <td>14.000000</td>\n",
       "      <td>14.870000</td>\n",
       "      <td>-65.000000</td>\n",
       "      <td>14.000000</td>\n",
       "      <td>14.900000</td>\n",
       "      <td>12.800000</td>\n",
       "      <td>53.600000</td>\n",
       "      <td>45.500000</td>\n",
       "      <td>41.700000</td>\n",
       "    </tr>\n",
       "    <tr>\n",
       "      <th>50%</th>\n",
       "      <td>11.000000</td>\n",
       "      <td>29.000000</td>\n",
       "      <td>29.940000</td>\n",
       "      <td>-51.000000</td>\n",
       "      <td>29.000000</td>\n",
       "      <td>29.900000</td>\n",
       "      <td>21.200000</td>\n",
       "      <td>60.800000</td>\n",
       "      <td>47.600000</td>\n",
       "      <td>90.800000</td>\n",
       "    </tr>\n",
       "    <tr>\n",
       "      <th>75%</th>\n",
       "      <td>19.000000</td>\n",
       "      <td>44.000000</td>\n",
       "      <td>44.980000</td>\n",
       "      <td>-39.000000</td>\n",
       "      <td>44.000000</td>\n",
       "      <td>44.900000</td>\n",
       "      <td>45.800000</td>\n",
       "      <td>76.500000</td>\n",
       "      <td>52.400000</td>\n",
       "      <td>139.900000</td>\n",
       "    </tr>\n",
       "    <tr>\n",
       "      <th>max</th>\n",
       "      <td>23.000000</td>\n",
       "      <td>59.000000</td>\n",
       "      <td>59.900000</td>\n",
       "      <td>-25.000000</td>\n",
       "      <td>59.000000</td>\n",
       "      <td>59.900000</td>\n",
       "      <td>342000.000000</td>\n",
       "      <td>1156.600000</td>\n",
       "      <td>839.000000</td>\n",
       "      <td>180.000000</td>\n",
       "    </tr>\n",
       "  </tbody>\n",
       "</table>\n",
       "</div>"
      ],
      "text/plain": [
       "           RAJ2000hh      RAJ2000mm      RAJ2000ss      DEJ2000dd  \\\n",
       "count  211063.000000  211063.000000  211063.000000  211063.000000   \n",
       "mean       11.221223      29.441157      29.916419     -52.746891   \n",
       "std         7.627004      17.308951      17.359206      15.225615   \n",
       "min         0.000000       0.000000       0.000000     -89.000000   \n",
       "25%         4.000000      14.000000      14.870000     -65.000000   \n",
       "50%        11.000000      29.000000      29.940000     -51.000000   \n",
       "75%        19.000000      44.000000      44.980000     -39.000000   \n",
       "max        23.000000      59.000000      59.900000     -25.000000   \n",
       "\n",
       "           DEJ2000mm      DEJ2000ss             St        MajAxis  \\\n",
       "count  211063.000000  211063.000000  211063.000000  211063.000000   \n",
       "mean       29.413592      29.905832      62.705213      65.033987   \n",
       "std        17.385063      17.336541     879.781546      17.924319   \n",
       "min         0.000000       0.000000       6.000000       0.000000   \n",
       "25%        14.000000      14.900000      12.800000      53.600000   \n",
       "50%        29.000000      29.900000      21.200000      60.800000   \n",
       "75%        44.000000      44.900000      45.800000      76.500000   \n",
       "max        59.000000      59.900000  342000.000000    1156.600000   \n",
       "\n",
       "             MinAxis             PA  \n",
       "count  211063.000000  211063.000000  \n",
       "mean       50.078154      90.762212  \n",
       "std         7.170397      54.965468  \n",
       "min         0.000000       0.000000  \n",
       "25%        45.500000      41.700000  \n",
       "50%        47.600000      90.800000  \n",
       "75%        52.400000     139.900000  \n",
       "max       839.000000     180.000000  "
      ]
     },
     "execution_count": 250,
     "metadata": {},
     "output_type": "execute_result"
    }
   ],
   "source": [
    "df.describe()"
   ]
  },
  {
   "cell_type": "code",
   "execution_count": 251,
   "metadata": {},
   "outputs": [],
   "source": [
    "df['RA'] = (df['RAJ2000hh'] + df['RAJ2000mm']/60 + df['RAJ2000ss']/3600)*15"
   ]
  },
  {
   "cell_type": "code",
   "execution_count": 252,
   "metadata": {},
   "outputs": [],
   "source": [
    "df['DEC'] = -1*(np.abs(df['DEJ2000dd']) + df['DEJ2000mm']/60 + df['DEJ2000ss']/3600)"
   ]
  },
  {
   "cell_type": "code",
   "execution_count": 253,
   "metadata": {},
   "outputs": [],
   "source": [
    "df['Flux'] = df['St']"
   ]
  },
  {
   "cell_type": "code",
   "execution_count": 254,
   "metadata": {},
   "outputs": [],
   "source": [
    "df = df.drop(columns=['RAJ2000hh', 'RAJ2000mm', 'RAJ2000ss', \n",
    "                      'DEJ2000dd', 'DEJ2000mm', 'DEJ2000ss', 'St'])"
   ]
  },
  {
   "cell_type": "code",
   "execution_count": 255,
   "metadata": {},
   "outputs": [
    {
     "data": {
      "text/html": [
       "<div>\n",
       "<style scoped>\n",
       "    .dataframe tbody tr th:only-of-type {\n",
       "        vertical-align: middle;\n",
       "    }\n",
       "\n",
       "    .dataframe tbody tr th {\n",
       "        vertical-align: top;\n",
       "    }\n",
       "\n",
       "    .dataframe thead th {\n",
       "        text-align: right;\n",
       "    }\n",
       "</style>\n",
       "<table border=\"1\" class=\"dataframe\">\n",
       "  <thead>\n",
       "    <tr style=\"text-align: right;\">\n",
       "      <th></th>\n",
       "      <th>MajAxis</th>\n",
       "      <th>MinAxis</th>\n",
       "      <th>PA</th>\n",
       "      <th>RA</th>\n",
       "      <th>DEC</th>\n",
       "      <th>Flux</th>\n",
       "    </tr>\n",
       "  </thead>\n",
       "  <tbody>\n",
       "    <tr>\n",
       "      <th>0</th>\n",
       "      <td>84.9</td>\n",
       "      <td>58.4</td>\n",
       "      <td>162.3</td>\n",
       "      <td>0.000000</td>\n",
       "      <td>-31.164750</td>\n",
       "      <td>13.2</td>\n",
       "    </tr>\n",
       "    <tr>\n",
       "      <th>1</th>\n",
       "      <td>57.1</td>\n",
       "      <td>46.6</td>\n",
       "      <td>163.8</td>\n",
       "      <td>0.000125</td>\n",
       "      <td>-50.469028</td>\n",
       "      <td>7.4</td>\n",
       "    </tr>\n",
       "    <tr>\n",
       "      <th>2</th>\n",
       "      <td>70.0</td>\n",
       "      <td>50.1</td>\n",
       "      <td>17.1</td>\n",
       "      <td>0.000417</td>\n",
       "      <td>-45.955972</td>\n",
       "      <td>20.9</td>\n",
       "    </tr>\n",
       "    <tr>\n",
       "      <th>3</th>\n",
       "      <td>60.6</td>\n",
       "      <td>48.7</td>\n",
       "      <td>158.9</td>\n",
       "      <td>0.001083</td>\n",
       "      <td>-47.632694</td>\n",
       "      <td>28.1</td>\n",
       "    </tr>\n",
       "    <tr>\n",
       "      <th>4</th>\n",
       "      <td>52.0</td>\n",
       "      <td>47.0</td>\n",
       "      <td>151.8</td>\n",
       "      <td>0.007167</td>\n",
       "      <td>-59.604528</td>\n",
       "      <td>11.1</td>\n",
       "    </tr>\n",
       "  </tbody>\n",
       "</table>\n",
       "</div>"
      ],
      "text/plain": [
       "   MajAxis  MinAxis     PA        RA        DEC  Flux\n",
       "0     84.9     58.4  162.3  0.000000 -31.164750  13.2\n",
       "1     57.1     46.6  163.8  0.000125 -50.469028   7.4\n",
       "2     70.0     50.1   17.1  0.000417 -45.955972  20.9\n",
       "3     60.6     48.7  158.9  0.001083 -47.632694  28.1\n",
       "4     52.0     47.0  151.8  0.007167 -59.604528  11.1"
      ]
     },
     "execution_count": 255,
     "metadata": {},
     "output_type": "execute_result"
    }
   ],
   "source": [
    "df.head()"
   ]
  },
  {
   "cell_type": "code",
   "execution_count": 256,
   "metadata": {},
   "outputs": [],
   "source": [
    "df.to_csv('utils/catalogues/SUMSS_Catalogue.csv', index=False)"
   ]
  },
  {
   "cell_type": "markdown",
   "metadata": {},
   "source": [
    "## NVSS Catalogue\n",
    "\n",
    "ftp://nvss.cv.nrao.edu/pub/nvss/CATALOG/NVSSCatalog.text.gz"
   ]
  },
  {
   "cell_type": "code",
   "execution_count": 116,
   "metadata": {},
   "outputs": [],
   "source": [
    "fp = open('utils/catalogues/NVSSCatalog.text', 'r')"
   ]
  },
  {
   "cell_type": "code",
   "execution_count": 117,
   "metadata": {},
   "outputs": [],
   "source": [
    "lines = fp.readlines()"
   ]
  },
  {
   "cell_type": "code",
   "execution_count": 135,
   "metadata": {},
   "outputs": [],
   "source": [
    "data = []\n",
    "for line in lines[14:]:\n",
    "    if 'NVSS' in line or 'RA' in line or 'mJy' in line:\n",
    "        continue\n",
    "    else:\n",
    "        data.append(line.rstrip('\\n'))"
   ]
  },
  {
   "cell_type": "code",
   "execution_count": 137,
   "metadata": {},
   "outputs": [
    {
     "data": {
      "text/plain": [
       "(3546969, 1773484)"
      ]
     },
     "execution_count": 137,
     "metadata": {},
     "output_type": "execute_result"
    }
   ],
   "source": [
    "len(data), len(data)/2"
   ]
  },
  {
   "cell_type": "code",
   "execution_count": 138,
   "metadata": {},
   "outputs": [],
   "source": [
    "data = [data[2*i]+data[2*i+1] for i in range(len(data)/2)]"
   ]
  },
  {
   "cell_type": "code",
   "execution_count": 139,
   "metadata": {},
   "outputs": [],
   "source": [
    "data = np.array([data[i].split()[:13] for i in range(len(data))])"
   ]
  },
  {
   "cell_type": "code",
   "execution_count": 140,
   "metadata": {},
   "outputs": [
    {
     "data": {
      "text/plain": [
       "(1773484, 13)"
      ]
     },
     "execution_count": 140,
     "metadata": {},
     "output_type": "execute_result"
    }
   ],
   "source": [
    "data.shape"
   ]
  },
  {
   "cell_type": "code",
   "execution_count": 141,
   "metadata": {},
   "outputs": [],
   "source": [
    "nvss_cols = ['RAJ2000hh', 'RAJ2000mm', 'RAJ2000ss', 'DEJ2000dd', 'DEJ2000mm', 'DEJ2000ss', \n",
    "              'Flux', 'MajAxis', 'MinAxis', 'PA', 'Res', 'P_Flux', 'Field']"
   ]
  },
  {
   "cell_type": "code",
   "execution_count": 178,
   "metadata": {},
   "outputs": [],
   "source": [
    "df = pd.DataFrame(data, columns=nvss_cols)"
   ]
  },
  {
   "cell_type": "code",
   "execution_count": 179,
   "metadata": {},
   "outputs": [
    {
     "data": {
      "text/html": [
       "<div>\n",
       "<style scoped>\n",
       "    .dataframe tbody tr th:only-of-type {\n",
       "        vertical-align: middle;\n",
       "    }\n",
       "\n",
       "    .dataframe tbody tr th {\n",
       "        vertical-align: top;\n",
       "    }\n",
       "\n",
       "    .dataframe thead th {\n",
       "        text-align: right;\n",
       "    }\n",
       "</style>\n",
       "<table border=\"1\" class=\"dataframe\">\n",
       "  <thead>\n",
       "    <tr style=\"text-align: right;\">\n",
       "      <th></th>\n",
       "      <th>RAJ2000hh</th>\n",
       "      <th>RAJ2000mm</th>\n",
       "      <th>RAJ2000ss</th>\n",
       "      <th>DEJ2000dd</th>\n",
       "      <th>DEJ2000mm</th>\n",
       "      <th>DEJ2000ss</th>\n",
       "      <th>Flux</th>\n",
       "      <th>MajAxis</th>\n",
       "      <th>MinAxis</th>\n",
       "      <th>PA</th>\n",
       "      <th>Res</th>\n",
       "      <th>P_Flux</th>\n",
       "      <th>Field</th>\n",
       "    </tr>\n",
       "  </thead>\n",
       "  <tbody>\n",
       "    <tr>\n",
       "      <th>0</th>\n",
       "      <td>00</td>\n",
       "      <td>00</td>\n",
       "      <td>0.09</td>\n",
       "      <td>-34</td>\n",
       "      <td>07</td>\n",
       "      <td>9.5</td>\n",
       "      <td>2.7</td>\n",
       "      <td>&lt;59.8</td>\n",
       "      <td>&lt;52.4</td>\n",
       "      <td>0.77</td>\n",
       "      <td>-61.1</td>\n",
       "      <td>C0000M36</td>\n",
       "      <td>511.92</td>\n",
       "    </tr>\n",
       "    <tr>\n",
       "      <th>1</th>\n",
       "      <td>00</td>\n",
       "      <td>00</td>\n",
       "      <td>0.13</td>\n",
       "      <td>-38</td>\n",
       "      <td>26</td>\n",
       "      <td>28.5</td>\n",
       "      <td>3.1</td>\n",
       "      <td>&lt;117.</td>\n",
       "      <td>&lt;51.7</td>\n",
       "      <td>-0.38</td>\n",
       "      <td>C0000M40</td>\n",
       "      <td>511.90</td>\n",
       "      <td>887.05</td>\n",
       "    </tr>\n",
       "    <tr>\n",
       "      <th>2</th>\n",
       "      <td>00</td>\n",
       "      <td>00</td>\n",
       "      <td>0.16</td>\n",
       "      <td>-04</td>\n",
       "      <td>02</td>\n",
       "      <td>42.3</td>\n",
       "      <td>106.8</td>\n",
       "      <td>&lt;18.5</td>\n",
       "      <td>&lt;16.4</td>\n",
       "      <td>0.34</td>\n",
       "      <td>9.9</td>\n",
       "      <td>C0000M04</td>\n",
       "      <td>511.84</td>\n",
       "    </tr>\n",
       "    <tr>\n",
       "      <th>3</th>\n",
       "      <td>00</td>\n",
       "      <td>00</td>\n",
       "      <td>0.18</td>\n",
       "      <td>+32</td>\n",
       "      <td>12</td>\n",
       "      <td>33.3</td>\n",
       "      <td>3.7</td>\n",
       "      <td>&lt;43.8</td>\n",
       "      <td>&lt;41.0</td>\n",
       "      <td>0.62</td>\n",
       "      <td>-16.1</td>\n",
       "      <td>C0000P32</td>\n",
       "      <td>511.84</td>\n",
       "    </tr>\n",
       "    <tr>\n",
       "      <th>4</th>\n",
       "      <td>00</td>\n",
       "      <td>00</td>\n",
       "      <td>0.19</td>\n",
       "      <td>+49</td>\n",
       "      <td>18</td>\n",
       "      <td>12.6</td>\n",
       "      <td>2.4</td>\n",
       "      <td>&lt;93.8</td>\n",
       "      <td>&lt;58.4</td>\n",
       "      <td>0.53</td>\n",
       "      <td>47.9</td>\n",
       "      <td>C0000P48</td>\n",
       "      <td>511.87</td>\n",
       "    </tr>\n",
       "  </tbody>\n",
       "</table>\n",
       "</div>"
      ],
      "text/plain": [
       "  RAJ2000hh RAJ2000mm RAJ2000ss DEJ2000dd DEJ2000mm DEJ2000ss   Flux MajAxis  \\\n",
       "0        00        00      0.09       -34        07       9.5    2.7   <59.8   \n",
       "1        00        00      0.13       -38        26      28.5    3.1   <117.   \n",
       "2        00        00      0.16       -04        02      42.3  106.8   <18.5   \n",
       "3        00        00      0.18       +32        12      33.3    3.7   <43.8   \n",
       "4        00        00      0.19       +49        18      12.6    2.4   <93.8   \n",
       "\n",
       "  MinAxis     PA       Res    P_Flux   Field  \n",
       "0   <52.4   0.77     -61.1  C0000M36  511.92  \n",
       "1   <51.7  -0.38  C0000M40    511.90  887.05  \n",
       "2   <16.4   0.34       9.9  C0000M04  511.84  \n",
       "3   <41.0   0.62     -16.1  C0000P32  511.84  \n",
       "4   <58.4   0.53      47.9  C0000P48  511.87  "
      ]
     },
     "execution_count": 179,
     "metadata": {},
     "output_type": "execute_result"
    }
   ],
   "source": [
    "df.head()"
   ]
  },
  {
   "cell_type": "code",
   "execution_count": 180,
   "metadata": {},
   "outputs": [],
   "source": [
    "df = df.drop(columns=['Res', 'P_Flux', 'Field'])"
   ]
  },
  {
   "cell_type": "code",
   "execution_count": 181,
   "metadata": {},
   "outputs": [],
   "source": [
    "df['MajAxis'][df['MajAxis'].str.contains('<')] = df['MajAxis'][df['MajAxis'].str.contains('<')].str[1:]"
   ]
  },
  {
   "cell_type": "code",
   "execution_count": 182,
   "metadata": {},
   "outputs": [],
   "source": [
    "df['MinAxis'][df['MinAxis'].str.contains('<')] = df['MinAxis'][df['MinAxis'].str.contains('<')].str[1:]"
   ]
  },
  {
   "cell_type": "code",
   "execution_count": 189,
   "metadata": {},
   "outputs": [],
   "source": [
    "df['dec_sign'] = pd.to_numeric(df['DEJ2000dd'].str[0]+'1')"
   ]
  },
  {
   "cell_type": "code",
   "execution_count": 190,
   "metadata": {},
   "outputs": [],
   "source": [
    "df = df.apply(pd.to_numeric, errors='coerce')"
   ]
  },
  {
   "cell_type": "code",
   "execution_count": 191,
   "metadata": {},
   "outputs": [],
   "source": [
    "df = df.dropna()"
   ]
  },
  {
   "cell_type": "code",
   "execution_count": 192,
   "metadata": {},
   "outputs": [
    {
     "data": {
      "text/html": [
       "<div>\n",
       "<style scoped>\n",
       "    .dataframe tbody tr th:only-of-type {\n",
       "        vertical-align: middle;\n",
       "    }\n",
       "\n",
       "    .dataframe tbody tr th {\n",
       "        vertical-align: top;\n",
       "    }\n",
       "\n",
       "    .dataframe thead th {\n",
       "        text-align: right;\n",
       "    }\n",
       "</style>\n",
       "<table border=\"1\" class=\"dataframe\">\n",
       "  <thead>\n",
       "    <tr style=\"text-align: right;\">\n",
       "      <th></th>\n",
       "      <th>RAJ2000hh</th>\n",
       "      <th>RAJ2000mm</th>\n",
       "      <th>RAJ2000ss</th>\n",
       "      <th>DEJ2000dd</th>\n",
       "      <th>DEJ2000mm</th>\n",
       "      <th>DEJ2000ss</th>\n",
       "      <th>Flux</th>\n",
       "      <th>MajAxis</th>\n",
       "      <th>MinAxis</th>\n",
       "      <th>PA</th>\n",
       "      <th>dec_sign</th>\n",
       "    </tr>\n",
       "  </thead>\n",
       "  <tbody>\n",
       "    <tr>\n",
       "      <th>count</th>\n",
       "      <td>1.691533e+06</td>\n",
       "      <td>1.691533e+06</td>\n",
       "      <td>1.691533e+06</td>\n",
       "      <td>1.691533e+06</td>\n",
       "      <td>1.691533e+06</td>\n",
       "      <td>1.691533e+06</td>\n",
       "      <td>1.691533e+06</td>\n",
       "      <td>1.691533e+06</td>\n",
       "      <td>1.691533e+06</td>\n",
       "      <td>1.691533e+06</td>\n",
       "      <td>1.691533e+06</td>\n",
       "    </tr>\n",
       "    <tr>\n",
       "      <th>mean</th>\n",
       "      <td>1.144778e+01</td>\n",
       "      <td>2.946109e+01</td>\n",
       "      <td>2.997461e+01</td>\n",
       "      <td>1.242243e+01</td>\n",
       "      <td>2.938493e+01</td>\n",
       "      <td>2.999516e+01</td>\n",
       "      <td>2.094527e+01</td>\n",
       "      <td>5.399437e+01</td>\n",
       "      <td>3.753791e+01</td>\n",
       "      <td>4.727864e-01</td>\n",
       "      <td>2.278661e-01</td>\n",
       "    </tr>\n",
       "    <tr>\n",
       "      <th>std</th>\n",
       "      <td>6.910262e+00</td>\n",
       "      <td>1.730936e+01</td>\n",
       "      <td>1.732430e+01</td>\n",
       "      <td>3.064593e+01</td>\n",
       "      <td>1.732670e+01</td>\n",
       "      <td>1.732805e+01</td>\n",
       "      <td>9.669644e+01</td>\n",
       "      <td>3.174119e+01</td>\n",
       "      <td>1.681311e+01</td>\n",
       "      <td>2.094749e+01</td>\n",
       "      <td>9.736928e-01</td>\n",
       "    </tr>\n",
       "    <tr>\n",
       "      <th>min</th>\n",
       "      <td>0.000000e+00</td>\n",
       "      <td>0.000000e+00</td>\n",
       "      <td>0.000000e+00</td>\n",
       "      <td>-4.000000e+01</td>\n",
       "      <td>0.000000e+00</td>\n",
       "      <td>0.000000e+00</td>\n",
       "      <td>2.000000e+00</td>\n",
       "      <td>1.390000e+01</td>\n",
       "      <td>1.390000e+01</td>\n",
       "      <td>-9.000000e+01</td>\n",
       "      <td>-1.000000e+00</td>\n",
       "    </tr>\n",
       "    <tr>\n",
       "      <th>25%</th>\n",
       "      <td>5.000000e+00</td>\n",
       "      <td>1.400000e+01</td>\n",
       "      <td>1.498000e+01</td>\n",
       "      <td>-1.200000e+01</td>\n",
       "      <td>1.400000e+01</td>\n",
       "      <td>1.500000e+01</td>\n",
       "      <td>3.300000e+00</td>\n",
       "      <td>2.920000e+01</td>\n",
       "      <td>2.280000e+01</td>\n",
       "      <td>-1.700000e-01</td>\n",
       "      <td>-1.000000e+00</td>\n",
       "    </tr>\n",
       "    <tr>\n",
       "      <th>50%</th>\n",
       "      <td>1.100000e+01</td>\n",
       "      <td>2.900000e+01</td>\n",
       "      <td>2.997000e+01</td>\n",
       "      <td>1.000000e+01</td>\n",
       "      <td>2.900000e+01</td>\n",
       "      <td>3.000000e+01</td>\n",
       "      <td>5.800000e+00</td>\n",
       "      <td>4.740000e+01</td>\n",
       "      <td>3.570000e+01</td>\n",
       "      <td>2.000000e-01</td>\n",
       "      <td>1.000000e+00</td>\n",
       "    </tr>\n",
       "    <tr>\n",
       "      <th>75%</th>\n",
       "      <td>1.700000e+01</td>\n",
       "      <td>4.400000e+01</td>\n",
       "      <td>4.498000e+01</td>\n",
       "      <td>3.600000e+01</td>\n",
       "      <td>4.400000e+01</td>\n",
       "      <td>4.500000e+01</td>\n",
       "      <td>1.440000e+01</td>\n",
       "      <td>6.930000e+01</td>\n",
       "      <td>5.030000e+01</td>\n",
       "      <td>6.600000e-01</td>\n",
       "      <td>1.000000e+00</td>\n",
       "    </tr>\n",
       "    <tr>\n",
       "      <th>max</th>\n",
       "      <td>2.300000e+01</td>\n",
       "      <td>5.900000e+01</td>\n",
       "      <td>6.000000e+01</td>\n",
       "      <td>8.900000e+01</td>\n",
       "      <td>5.900000e+01</td>\n",
       "      <td>6.000000e+01</td>\n",
       "      <td>9.897100e+03</td>\n",
       "      <td>2.860000e+02</td>\n",
       "      <td>2.310000e+02</td>\n",
       "      <td>6.189800e+02</td>\n",
       "      <td>1.000000e+00</td>\n",
       "    </tr>\n",
       "  </tbody>\n",
       "</table>\n",
       "</div>"
      ],
      "text/plain": [
       "          RAJ2000hh     RAJ2000mm     RAJ2000ss     DEJ2000dd     DEJ2000mm  \\\n",
       "count  1.691533e+06  1.691533e+06  1.691533e+06  1.691533e+06  1.691533e+06   \n",
       "mean   1.144778e+01  2.946109e+01  2.997461e+01  1.242243e+01  2.938493e+01   \n",
       "std    6.910262e+00  1.730936e+01  1.732430e+01  3.064593e+01  1.732670e+01   \n",
       "min    0.000000e+00  0.000000e+00  0.000000e+00 -4.000000e+01  0.000000e+00   \n",
       "25%    5.000000e+00  1.400000e+01  1.498000e+01 -1.200000e+01  1.400000e+01   \n",
       "50%    1.100000e+01  2.900000e+01  2.997000e+01  1.000000e+01  2.900000e+01   \n",
       "75%    1.700000e+01  4.400000e+01  4.498000e+01  3.600000e+01  4.400000e+01   \n",
       "max    2.300000e+01  5.900000e+01  6.000000e+01  8.900000e+01  5.900000e+01   \n",
       "\n",
       "          DEJ2000ss          Flux       MajAxis       MinAxis            PA  \\\n",
       "count  1.691533e+06  1.691533e+06  1.691533e+06  1.691533e+06  1.691533e+06   \n",
       "mean   2.999516e+01  2.094527e+01  5.399437e+01  3.753791e+01  4.727864e-01   \n",
       "std    1.732805e+01  9.669644e+01  3.174119e+01  1.681311e+01  2.094749e+01   \n",
       "min    0.000000e+00  2.000000e+00  1.390000e+01  1.390000e+01 -9.000000e+01   \n",
       "25%    1.500000e+01  3.300000e+00  2.920000e+01  2.280000e+01 -1.700000e-01   \n",
       "50%    3.000000e+01  5.800000e+00  4.740000e+01  3.570000e+01  2.000000e-01   \n",
       "75%    4.500000e+01  1.440000e+01  6.930000e+01  5.030000e+01  6.600000e-01   \n",
       "max    6.000000e+01  9.897100e+03  2.860000e+02  2.310000e+02  6.189800e+02   \n",
       "\n",
       "           dec_sign  \n",
       "count  1.691533e+06  \n",
       "mean   2.278661e-01  \n",
       "std    9.736928e-01  \n",
       "min   -1.000000e+00  \n",
       "25%   -1.000000e+00  \n",
       "50%    1.000000e+00  \n",
       "75%    1.000000e+00  \n",
       "max    1.000000e+00  "
      ]
     },
     "execution_count": 192,
     "metadata": {},
     "output_type": "execute_result"
    }
   ],
   "source": [
    "df.describe()"
   ]
  },
  {
   "cell_type": "code",
   "execution_count": 193,
   "metadata": {},
   "outputs": [],
   "source": [
    "df = df[np.abs(df['PA'])>4]"
   ]
  },
  {
   "cell_type": "code",
   "execution_count": 194,
   "metadata": {},
   "outputs": [],
   "source": [
    "df['RA'] = (df['RAJ2000hh'] + df['RAJ2000mm']/60 + df['RAJ2000ss']/3600)*15"
   ]
  },
  {
   "cell_type": "code",
   "execution_count": 197,
   "metadata": {},
   "outputs": [],
   "source": [
    "df['DEC'] = df['dec_sign']*(np.abs(df['DEJ2000dd']) + df['DEJ2000mm']/60 + df['DEJ2000ss']/3600)"
   ]
  },
  {
   "cell_type": "code",
   "execution_count": 199,
   "metadata": {},
   "outputs": [],
   "source": [
    "df = df.drop(columns=['RAJ2000hh', 'RAJ2000mm', 'RAJ2000ss', \n",
    "                      'DEJ2000dd', 'DEJ2000mm', 'DEJ2000ss', 'dec_sign'])"
   ]
  },
  {
   "cell_type": "code",
   "execution_count": 204,
   "metadata": {},
   "outputs": [],
   "source": [
    "df = df[df['DEC']<60]"
   ]
  },
  {
   "cell_type": "code",
   "execution_count": 205,
   "metadata": {},
   "outputs": [],
   "source": [
    "df.to_csv('utils/catalogues/NVSS_Catalogue.csv', index=False)"
   ]
  },
  {
   "cell_type": "code",
   "execution_count": null,
   "metadata": {},
   "outputs": [],
   "source": []
  },
  {
   "cell_type": "code",
   "execution_count": 225,
   "metadata": {},
   "outputs": [
    {
     "name": "stdout",
     "output_type": "stream",
     "text": [
      "total 396M\r\n",
      "drwxr-xr-x 2 2020 1000  197 Nov 13 09:04 .\r\n",
      "drwxr-xr-x 7 2020 1000  219 Nov 12 14:25 ..\r\n",
      "-rw-r--r-- 1 2020 1000 271M Nov 12 14:24 NVSSCatalog.text\r\n",
      "-rw-r--r-- 1 2020 1000  67M Nov 12 14:24 NVSSCatalog.text.gz\r\n",
      "-rw-r--r-- 1 root root  14M Nov 13 09:04 NVSS_Catalogue.csv\r\n",
      "-rw-r--r-- 1 root root  11M Nov 13 09:20 SUMSS_Catalogue.csv\r\n",
      "-rw-r--r-- 1 2020 1000  28M Nov 12 14:23 sumsscat.Mar-11-2008\r\n",
      "-rw-r--r-- 1 2020 1000 7.0M Nov 12 14:23 sumsscat.Mar-11-2008.gz\r\n"
     ]
    }
   ],
   "source": [
    "!ls -lah utils/catalogues/"
   ]
  },
  {
   "cell_type": "markdown",
   "metadata": {},
   "source": [
    "## Joining SUMSS and NVSS"
   ]
  },
  {
   "cell_type": "code",
   "execution_count": 257,
   "metadata": {},
   "outputs": [],
   "source": [
    "sumss = pd.read_csv('utils/catalogues/SUMSS_Catalogue.csv')"
   ]
  },
  {
   "cell_type": "code",
   "execution_count": 258,
   "metadata": {},
   "outputs": [
    {
     "data": {
      "text/html": [
       "<div>\n",
       "<style scoped>\n",
       "    .dataframe tbody tr th:only-of-type {\n",
       "        vertical-align: middle;\n",
       "    }\n",
       "\n",
       "    .dataframe tbody tr th {\n",
       "        vertical-align: top;\n",
       "    }\n",
       "\n",
       "    .dataframe thead th {\n",
       "        text-align: right;\n",
       "    }\n",
       "</style>\n",
       "<table border=\"1\" class=\"dataframe\">\n",
       "  <thead>\n",
       "    <tr style=\"text-align: right;\">\n",
       "      <th></th>\n",
       "      <th>MajAxis</th>\n",
       "      <th>MinAxis</th>\n",
       "      <th>PA</th>\n",
       "      <th>RA</th>\n",
       "      <th>DEC</th>\n",
       "      <th>Flux</th>\n",
       "    </tr>\n",
       "  </thead>\n",
       "  <tbody>\n",
       "    <tr>\n",
       "      <th>count</th>\n",
       "      <td>211063.000000</td>\n",
       "      <td>211063.000000</td>\n",
       "      <td>211063.000000</td>\n",
       "      <td>211063.000000</td>\n",
       "      <td>211063.000000</td>\n",
       "      <td>211063.000000</td>\n",
       "    </tr>\n",
       "    <tr>\n",
       "      <th>mean</th>\n",
       "      <td>65.033987</td>\n",
       "      <td>50.078154</td>\n",
       "      <td>90.762212</td>\n",
       "      <td>175.803287</td>\n",
       "      <td>-53.245424</td>\n",
       "      <td>62.705213</td>\n",
       "    </tr>\n",
       "    <tr>\n",
       "      <th>std</th>\n",
       "      <td>17.924319</td>\n",
       "      <td>7.170397</td>\n",
       "      <td>54.965468</td>\n",
       "      <td>114.550147</td>\n",
       "      <td>15.224155</td>\n",
       "      <td>879.781546</td>\n",
       "    </tr>\n",
       "    <tr>\n",
       "      <th>min</th>\n",
       "      <td>0.000000</td>\n",
       "      <td>0.000000</td>\n",
       "      <td>0.000000</td>\n",
       "      <td>0.000000</td>\n",
       "      <td>-89.881889</td>\n",
       "      <td>6.000000</td>\n",
       "    </tr>\n",
       "    <tr>\n",
       "      <th>25%</th>\n",
       "      <td>53.600000</td>\n",
       "      <td>45.500000</td>\n",
       "      <td>41.700000</td>\n",
       "      <td>70.072042</td>\n",
       "      <td>-65.316611</td>\n",
       "      <td>12.800000</td>\n",
       "    </tr>\n",
       "    <tr>\n",
       "      <th>50%</th>\n",
       "      <td>60.800000</td>\n",
       "      <td>47.600000</td>\n",
       "      <td>90.800000</td>\n",
       "      <td>169.948958</td>\n",
       "      <td>-51.766333</td>\n",
       "      <td>21.200000</td>\n",
       "    </tr>\n",
       "    <tr>\n",
       "      <th>75%</th>\n",
       "      <td>76.500000</td>\n",
       "      <td>52.400000</td>\n",
       "      <td>139.900000</td>\n",
       "      <td>289.542646</td>\n",
       "      <td>-39.956694</td>\n",
       "      <td>45.800000</td>\n",
       "    </tr>\n",
       "    <tr>\n",
       "      <th>max</th>\n",
       "      <td>1156.600000</td>\n",
       "      <td>839.000000</td>\n",
       "      <td>180.000000</td>\n",
       "      <td>359.998208</td>\n",
       "      <td>-25.998528</td>\n",
       "      <td>342000.000000</td>\n",
       "    </tr>\n",
       "  </tbody>\n",
       "</table>\n",
       "</div>"
      ],
      "text/plain": [
       "             MajAxis        MinAxis             PA             RA  \\\n",
       "count  211063.000000  211063.000000  211063.000000  211063.000000   \n",
       "mean       65.033987      50.078154      90.762212     175.803287   \n",
       "std        17.924319       7.170397      54.965468     114.550147   \n",
       "min         0.000000       0.000000       0.000000       0.000000   \n",
       "25%        53.600000      45.500000      41.700000      70.072042   \n",
       "50%        60.800000      47.600000      90.800000     169.948958   \n",
       "75%        76.500000      52.400000     139.900000     289.542646   \n",
       "max      1156.600000     839.000000     180.000000     359.998208   \n",
       "\n",
       "                 DEC           Flux  \n",
       "count  211063.000000  211063.000000  \n",
       "mean      -53.245424      62.705213  \n",
       "std        15.224155     879.781546  \n",
       "min       -89.881889       6.000000  \n",
       "25%       -65.316611      12.800000  \n",
       "50%       -51.766333      21.200000  \n",
       "75%       -39.956694      45.800000  \n",
       "max       -25.998528  342000.000000  "
      ]
     },
     "execution_count": 258,
     "metadata": {},
     "output_type": "execute_result"
    }
   ],
   "source": [
    "sumss.describe()"
   ]
  },
  {
   "cell_type": "code",
   "execution_count": 259,
   "metadata": {},
   "outputs": [],
   "source": [
    "nvss = pd.read_csv('utils/catalogues/NVSS_Catalogue.csv')"
   ]
  },
  {
   "cell_type": "code",
   "execution_count": 260,
   "metadata": {},
   "outputs": [
    {
     "data": {
      "text/html": [
       "<div>\n",
       "<style scoped>\n",
       "    .dataframe tbody tr th:only-of-type {\n",
       "        vertical-align: middle;\n",
       "    }\n",
       "\n",
       "    .dataframe tbody tr th {\n",
       "        vertical-align: top;\n",
       "    }\n",
       "\n",
       "    .dataframe thead th {\n",
       "        text-align: right;\n",
       "    }\n",
       "</style>\n",
       "<table border=\"1\" class=\"dataframe\">\n",
       "  <thead>\n",
       "    <tr style=\"text-align: right;\">\n",
       "      <th></th>\n",
       "      <th>Flux</th>\n",
       "      <th>MajAxis</th>\n",
       "      <th>MinAxis</th>\n",
       "      <th>PA</th>\n",
       "      <th>RA</th>\n",
       "      <th>DEC</th>\n",
       "    </tr>\n",
       "  </thead>\n",
       "  <tbody>\n",
       "    <tr>\n",
       "      <th>count</th>\n",
       "      <td>256966.000000</td>\n",
       "      <td>256966.000000</td>\n",
       "      <td>256966.000000</td>\n",
       "      <td>256966.000000</td>\n",
       "      <td>256966.000000</td>\n",
       "      <td>256966.000000</td>\n",
       "    </tr>\n",
       "    <tr>\n",
       "      <th>mean</th>\n",
       "      <td>65.490451</td>\n",
       "      <td>44.579858</td>\n",
       "      <td>28.562285</td>\n",
       "      <td>1.655972</td>\n",
       "      <td>183.194869</td>\n",
       "      <td>7.696362</td>\n",
       "    </tr>\n",
       "    <tr>\n",
       "      <th>std</th>\n",
       "      <td>209.540387</td>\n",
       "      <td>29.176830</td>\n",
       "      <td>18.176351</td>\n",
       "      <td>51.475610</td>\n",
       "      <td>103.494239</td>\n",
       "      <td>27.347673</td>\n",
       "    </tr>\n",
       "    <tr>\n",
       "      <th>min</th>\n",
       "      <td>2.100000</td>\n",
       "      <td>13.900000</td>\n",
       "      <td>13.900000</td>\n",
       "      <td>-90.000000</td>\n",
       "      <td>0.001042</td>\n",
       "      <td>-40.430806</td>\n",
       "    </tr>\n",
       "    <tr>\n",
       "      <th>25%</th>\n",
       "      <td>12.200000</td>\n",
       "      <td>23.200000</td>\n",
       "      <td>18.200000</td>\n",
       "      <td>-42.100000</td>\n",
       "      <td>92.575938</td>\n",
       "      <td>-15.054257</td>\n",
       "    </tr>\n",
       "    <tr>\n",
       "      <th>50%</th>\n",
       "      <td>22.800000</td>\n",
       "      <td>35.000000</td>\n",
       "      <td>22.400000</td>\n",
       "      <td>6.100000</td>\n",
       "      <td>186.196479</td>\n",
       "      <td>7.261778</td>\n",
       "    </tr>\n",
       "    <tr>\n",
       "      <th>75%</th>\n",
       "      <td>52.100000</td>\n",
       "      <td>55.700000</td>\n",
       "      <td>31.500000</td>\n",
       "      <td>45.100000</td>\n",
       "      <td>273.604625</td>\n",
       "      <td>30.001417</td>\n",
       "    </tr>\n",
       "    <tr>\n",
       "      <th>max</th>\n",
       "      <td>9732.800000</td>\n",
       "      <td>286.000000</td>\n",
       "      <td>216.000000</td>\n",
       "      <td>618.980000</td>\n",
       "      <td>359.997625</td>\n",
       "      <td>59.999083</td>\n",
       "    </tr>\n",
       "  </tbody>\n",
       "</table>\n",
       "</div>"
      ],
      "text/plain": [
       "                Flux        MajAxis        MinAxis             PA  \\\n",
       "count  256966.000000  256966.000000  256966.000000  256966.000000   \n",
       "mean       65.490451      44.579858      28.562285       1.655972   \n",
       "std       209.540387      29.176830      18.176351      51.475610   \n",
       "min         2.100000      13.900000      13.900000     -90.000000   \n",
       "25%        12.200000      23.200000      18.200000     -42.100000   \n",
       "50%        22.800000      35.000000      22.400000       6.100000   \n",
       "75%        52.100000      55.700000      31.500000      45.100000   \n",
       "max      9732.800000     286.000000     216.000000     618.980000   \n",
       "\n",
       "                  RA            DEC  \n",
       "count  256966.000000  256966.000000  \n",
       "mean      183.194869       7.696362  \n",
       "std       103.494239      27.347673  \n",
       "min         0.001042     -40.430806  \n",
       "25%        92.575938     -15.054257  \n",
       "50%       186.196479       7.261778  \n",
       "75%       273.604625      30.001417  \n",
       "max       359.997625      59.999083  "
      ]
     },
     "execution_count": 260,
     "metadata": {},
     "output_type": "execute_result"
    }
   ],
   "source": [
    "nvss.describe()"
   ]
  },
  {
   "cell_type": "code",
   "execution_count": 261,
   "metadata": {},
   "outputs": [],
   "source": [
    "catalogue = pd.concat([nvss, sumss])"
   ]
  },
  {
   "cell_type": "code",
   "execution_count": 301,
   "metadata": {},
   "outputs": [],
   "source": [
    "catalogue['MajAxis'] = catalogue['MajAxis']/3600\n",
    "catalogue['MinAxis'] = catalogue['MinAxis']/3600"
   ]
  },
  {
   "cell_type": "code",
   "execution_count": 319,
   "metadata": {},
   "outputs": [],
   "source": [
    "catalogue['Flux'] = catalogue['Flux']/1e3"
   ]
  },
  {
   "cell_type": "code",
   "execution_count": 320,
   "metadata": {},
   "outputs": [
    {
     "data": {
      "text/html": [
       "<div>\n",
       "<style scoped>\n",
       "    .dataframe tbody tr th:only-of-type {\n",
       "        vertical-align: middle;\n",
       "    }\n",
       "\n",
       "    .dataframe tbody tr th {\n",
       "        vertical-align: top;\n",
       "    }\n",
       "\n",
       "    .dataframe thead th {\n",
       "        text-align: right;\n",
       "    }\n",
       "</style>\n",
       "<table border=\"1\" class=\"dataframe\">\n",
       "  <thead>\n",
       "    <tr style=\"text-align: right;\">\n",
       "      <th></th>\n",
       "      <th>DEC</th>\n",
       "      <th>Flux</th>\n",
       "      <th>MajAxis</th>\n",
       "      <th>MinAxis</th>\n",
       "      <th>PA</th>\n",
       "      <th>RA</th>\n",
       "    </tr>\n",
       "  </thead>\n",
       "  <tbody>\n",
       "    <tr>\n",
       "      <th>count</th>\n",
       "      <td>468029.000000</td>\n",
       "      <td>468029.000000</td>\n",
       "      <td>468029.000000</td>\n",
       "      <td>468029.000000</td>\n",
       "      <td>468029.000000</td>\n",
       "      <td>468029.000000</td>\n",
       "    </tr>\n",
       "    <tr>\n",
       "      <th>mean</th>\n",
       "      <td>-19.786030</td>\n",
       "      <td>0.064234</td>\n",
       "      <td>0.014946</td>\n",
       "      <td>0.010629</td>\n",
       "      <td>41.839444</td>\n",
       "      <td>179.861551</td>\n",
       "    </tr>\n",
       "    <tr>\n",
       "      <th>std</th>\n",
       "      <td>37.877303</td>\n",
       "      <td>0.610867</td>\n",
       "      <td>0.007432</td>\n",
       "      <td>0.004963</td>\n",
       "      <td>69.160243</td>\n",
       "      <td>108.681563</td>\n",
       "    </tr>\n",
       "    <tr>\n",
       "      <th>min</th>\n",
       "      <td>-89.881889</td>\n",
       "      <td>0.002100</td>\n",
       "      <td>0.000000</td>\n",
       "      <td>0.000000</td>\n",
       "      <td>-90.000000</td>\n",
       "      <td>0.000000</td>\n",
       "    </tr>\n",
       "    <tr>\n",
       "      <th>25%</th>\n",
       "      <td>-49.379972</td>\n",
       "      <td>0.012500</td>\n",
       "      <td>0.009028</td>\n",
       "      <td>0.005944</td>\n",
       "      <td>-6.500000</td>\n",
       "      <td>81.469292</td>\n",
       "    </tr>\n",
       "    <tr>\n",
       "      <th>50%</th>\n",
       "      <td>-30.218083</td>\n",
       "      <td>0.022000</td>\n",
       "      <td>0.014528</td>\n",
       "      <td>0.012500</td>\n",
       "      <td>39.200000</td>\n",
       "      <td>179.903667</td>\n",
       "    </tr>\n",
       "    <tr>\n",
       "      <th>75%</th>\n",
       "      <td>11.218333</td>\n",
       "      <td>0.049300</td>\n",
       "      <td>0.019333</td>\n",
       "      <td>0.013444</td>\n",
       "      <td>87.100000</td>\n",
       "      <td>280.567000</td>\n",
       "    </tr>\n",
       "    <tr>\n",
       "      <th>max</th>\n",
       "      <td>59.999083</td>\n",
       "      <td>342.000000</td>\n",
       "      <td>0.321278</td>\n",
       "      <td>0.233056</td>\n",
       "      <td>618.980000</td>\n",
       "      <td>359.998208</td>\n",
       "    </tr>\n",
       "  </tbody>\n",
       "</table>\n",
       "</div>"
      ],
      "text/plain": [
       "                 DEC           Flux        MajAxis        MinAxis  \\\n",
       "count  468029.000000  468029.000000  468029.000000  468029.000000   \n",
       "mean      -19.786030       0.064234       0.014946       0.010629   \n",
       "std        37.877303       0.610867       0.007432       0.004963   \n",
       "min       -89.881889       0.002100       0.000000       0.000000   \n",
       "25%       -49.379972       0.012500       0.009028       0.005944   \n",
       "50%       -30.218083       0.022000       0.014528       0.012500   \n",
       "75%        11.218333       0.049300       0.019333       0.013444   \n",
       "max        59.999083     342.000000       0.321278       0.233056   \n",
       "\n",
       "                  PA             RA  \n",
       "count  468029.000000  468029.000000  \n",
       "mean       41.839444     179.861551  \n",
       "std        69.160243     108.681563  \n",
       "min       -90.000000       0.000000  \n",
       "25%        -6.500000      81.469292  \n",
       "50%        39.200000     179.903667  \n",
       "75%        87.100000     280.567000  \n",
       "max       618.980000     359.998208  "
      ]
     },
     "execution_count": 320,
     "metadata": {},
     "output_type": "execute_result"
    }
   ],
   "source": [
    "catalogue.describe()"
   ]
  },
  {
   "cell_type": "code",
   "execution_count": 321,
   "metadata": {},
   "outputs": [],
   "source": [
    "catalogue.to_csv('utils/catalogues/SUMSS_NVSS_Clean.csv', index=False, float_format='%.4e')"
   ]
  },
  {
   "cell_type": "code",
   "execution_count": 322,
   "metadata": {},
   "outputs": [
    {
     "name": "stdout",
     "output_type": "stream",
     "text": [
      "total 426M\r\n",
      "drwxr-xr-x 2 2020 1000  259 Nov 13 09:58 .\r\n",
      "drwxr-xr-x 7 2020 1000  219 Nov 12 14:25 ..\r\n",
      "-rw-r--r-- 1 2020 1000 271M Nov 12 14:24 NVSSCatalog.text\r\n",
      "-rw-r--r-- 1 2020 1000  67M Nov 12 14:24 NVSSCatalog.text.gz\r\n",
      "-rw-r--r-- 1 root root  14M Nov 13 09:04 NVSS_Catalogue.csv\r\n",
      "-rw-r--r-- 1 root root  12M Nov 13 09:34 SUMSS_Catalogue.csv\r\n",
      "-rw-r--r-- 1 root root  30M Nov 13 12:04 SUMSS_NVSS_Clean.csv\r\n",
      "-rw-r--r-- 1 2020 1000  260 Nov 13 10:06 get_ast_sources.py\r\n",
      "-rw-r--r-- 1 2020 1000  28M Nov 12 14:23 sumsscat.Mar-11-2008\r\n",
      "-rw-r--r-- 1 2020 1000 7.0M Nov 12 14:23 sumsscat.Mar-11-2008.gz\r\n"
     ]
    }
   ],
   "source": [
    "!ls -lah utils/catalogues/"
   ]
  },
  {
   "cell_type": "code",
   "execution_count": 309,
   "metadata": {},
   "outputs": [],
   "source": [
    "def inview(df, phase_centre, radius, min_flux):\n",
    "    r = np.sqrt((df['RA']-phase_centre[0])**2 + (df['DEC']-phase_centre[1])**2)\n",
    "    return df[(r<radius) & (df['Flux']>min_flux)]"
   ]
  },
  {
   "cell_type": "code",
   "execution_count": 310,
   "metadata": {},
   "outputs": [],
   "source": [
    "df = inview(catalogue, [0, -30], 0.10, 0)"
   ]
  },
  {
   "cell_type": "code",
   "execution_count": 311,
   "metadata": {},
   "outputs": [
    {
     "data": {
      "text/html": [
       "<div>\n",
       "<style scoped>\n",
       "    .dataframe tbody tr th:only-of-type {\n",
       "        vertical-align: middle;\n",
       "    }\n",
       "\n",
       "    .dataframe tbody tr th {\n",
       "        vertical-align: top;\n",
       "    }\n",
       "\n",
       "    .dataframe thead th {\n",
       "        text-align: right;\n",
       "    }\n",
       "</style>\n",
       "<table border=\"1\" class=\"dataframe\">\n",
       "  <thead>\n",
       "    <tr style=\"text-align: right;\">\n",
       "      <th></th>\n",
       "      <th>DEC</th>\n",
       "      <th>Flux</th>\n",
       "      <th>MajAxis</th>\n",
       "      <th>MinAxis</th>\n",
       "      <th>PA</th>\n",
       "      <th>RA</th>\n",
       "    </tr>\n",
       "  </thead>\n",
       "  <tbody>\n",
       "    <tr>\n",
       "      <th>count</th>\n",
       "      <td>2.000000</td>\n",
       "      <td>2.000000</td>\n",
       "      <td>2.000000</td>\n",
       "      <td>2.000000</td>\n",
       "      <td>2.000000</td>\n",
       "      <td>2.000000</td>\n",
       "    </tr>\n",
       "    <tr>\n",
       "      <th>mean</th>\n",
       "      <td>-29.955611</td>\n",
       "      <td>16.000000</td>\n",
       "      <td>0.028417</td>\n",
       "      <td>0.017389</td>\n",
       "      <td>156.250000</td>\n",
       "      <td>0.061979</td>\n",
       "    </tr>\n",
       "    <tr>\n",
       "      <th>std</th>\n",
       "      <td>0.050872</td>\n",
       "      <td>3.535534</td>\n",
       "      <td>0.003575</td>\n",
       "      <td>0.004439</td>\n",
       "      <td>18.172644</td>\n",
       "      <td>0.051413</td>\n",
       "    </tr>\n",
       "    <tr>\n",
       "      <th>min</th>\n",
       "      <td>-29.991583</td>\n",
       "      <td>13.500000</td>\n",
       "      <td>0.025889</td>\n",
       "      <td>0.014250</td>\n",
       "      <td>143.400000</td>\n",
       "      <td>0.025625</td>\n",
       "    </tr>\n",
       "    <tr>\n",
       "      <th>25%</th>\n",
       "      <td>-29.973597</td>\n",
       "      <td>14.750000</td>\n",
       "      <td>0.027153</td>\n",
       "      <td>0.015819</td>\n",
       "      <td>149.825000</td>\n",
       "      <td>0.043802</td>\n",
       "    </tr>\n",
       "    <tr>\n",
       "      <th>50%</th>\n",
       "      <td>-29.955611</td>\n",
       "      <td>16.000000</td>\n",
       "      <td>0.028417</td>\n",
       "      <td>0.017389</td>\n",
       "      <td>156.250000</td>\n",
       "      <td>0.061979</td>\n",
       "    </tr>\n",
       "    <tr>\n",
       "      <th>75%</th>\n",
       "      <td>-29.937625</td>\n",
       "      <td>17.250000</td>\n",
       "      <td>0.029681</td>\n",
       "      <td>0.018958</td>\n",
       "      <td>162.675000</td>\n",
       "      <td>0.080156</td>\n",
       "    </tr>\n",
       "    <tr>\n",
       "      <th>max</th>\n",
       "      <td>-29.919639</td>\n",
       "      <td>18.500000</td>\n",
       "      <td>0.030944</td>\n",
       "      <td>0.020528</td>\n",
       "      <td>169.100000</td>\n",
       "      <td>0.098333</td>\n",
       "    </tr>\n",
       "  </tbody>\n",
       "</table>\n",
       "</div>"
      ],
      "text/plain": [
       "             DEC       Flux   MajAxis   MinAxis          PA        RA\n",
       "count   2.000000   2.000000  2.000000  2.000000    2.000000  2.000000\n",
       "mean  -29.955611  16.000000  0.028417  0.017389  156.250000  0.061979\n",
       "std     0.050872   3.535534  0.003575  0.004439   18.172644  0.051413\n",
       "min   -29.991583  13.500000  0.025889  0.014250  143.400000  0.025625\n",
       "25%   -29.973597  14.750000  0.027153  0.015819  149.825000  0.043802\n",
       "50%   -29.955611  16.000000  0.028417  0.017389  156.250000  0.061979\n",
       "75%   -29.937625  17.250000  0.029681  0.018958  162.675000  0.080156\n",
       "max   -29.919639  18.500000  0.030944  0.020528  169.100000  0.098333"
      ]
     },
     "execution_count": 311,
     "metadata": {},
     "output_type": "execute_result"
    }
   ],
   "source": [
    "df.describe()"
   ]
  },
  {
   "cell_type": "code",
   "execution_count": 312,
   "metadata": {},
   "outputs": [],
   "source": [
    "lsm_header = '#format:name ra_d dec_d i q u v emaj_s emin_s pa_d'\n",
    "lsm_array = np.empty((len(df), 10))\n",
    "lsm_array[:,0] = np.arange(len(df))\n",
    "lsm_array[:,1] = df['RA'].values\n",
    "lsm_array[:,2] = df['DEC'].values\n",
    "lsm_array[:,3] = df['Flux'].values\n",
    "lsm_array[:,4:7] = 0.0\n",
    "lsm_array[:,7] = df['MajAxis'].values\n",
    "lsm_array[:,8] = df['MinAxis'].values\n",
    "lsm_array[:,9] = df['PA'].values\n",
    "np.savetxt('test_LSM.lsm', lsm_array, header=lsm_header,\n",
    "           fmt='%i %.5e %.5e %.5e %.5e %.5e %.5e %.5e %.5e %.5e')"
   ]
  },
  {
   "cell_type": "code",
   "execution_count": 325,
   "metadata": {},
   "outputs": [],
   "source": [
    "flux = df['Flux'].values[:,None,None]"
   ]
  },
  {
   "cell_type": "code",
   "execution_count": 329,
   "metadata": {},
   "outputs": [],
   "source": [
    "zeros = np.zeros((2,1,4096,4))"
   ]
  },
  {
   "cell_type": "code",
   "execution_count": 330,
   "metadata": {},
   "outputs": [],
   "source": [
    "zeros[:,:,:,0] = flux"
   ]
  },
  {
   "cell_type": "code",
   "execution_count": 332,
   "metadata": {},
   "outputs": [
    {
     "data": {
      "text/plain": [
       "array([13.5, 13.5, 13.5, ..., 13.5, 13.5, 13.5])"
      ]
     },
     "execution_count": 332,
     "metadata": {},
     "output_type": "execute_result"
    }
   ],
   "source": [
    "zeros[0,0,:,0]"
   ]
  },
  {
   "cell_type": "code",
   "execution_count": null,
   "metadata": {},
   "outputs": [],
   "source": []
  }
 ],
 "metadata": {
  "kernelspec": {
   "display_name": "Python 2",
   "language": "python",
   "name": "python2"
  },
  "language_info": {
   "codemirror_mode": {
    "name": "ipython",
    "version": 2
   },
   "file_extension": ".py",
   "mimetype": "text/x-python",
   "name": "python",
   "nbconvert_exporter": "python",
   "pygments_lexer": "ipython2",
   "version": "2.7.12"
  }
 },
 "nbformat": 4,
 "nbformat_minor": 1
}
