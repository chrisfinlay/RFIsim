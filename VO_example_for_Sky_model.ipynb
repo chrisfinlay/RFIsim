{
 "cells": [
  {
   "cell_type": "code",
   "execution_count": 1,
   "metadata": {
    "collapsed": false
   },
   "outputs": [
    {
     "name": "stdout",
     "output_type": "stream",
     "text": [
      "Once deleted, variables cannot be recovered. Proceed (y/[n])? y\n"
     ]
    }
   ],
   "source": [
    "%reset"
   ]
  },
  {
   "cell_type": "code",
   "execution_count": 2,
   "metadata": {
    "collapsed": false
   },
   "outputs": [
    {
     "name": "stdout",
     "output_type": "stream",
     "text": [
      "Populating the interactive namespace from numpy and matplotlib\n"
     ]
    }
   ],
   "source": [
    "%pylab inline"
   ]
  },
  {
   "cell_type": "code",
   "execution_count": 3,
   "metadata": {
    "collapsed": true
   },
   "outputs": [],
   "source": [
    "warnings.filterwarnings('ignore',message='profile')\n",
    "warnings.filterwarnings('ignore',message='_astropy_init')\n",
    "warnings.filterwarnings('ignore',message='ConfigurationDefaultMissingWarning ')\n",
    "\n",
    "import os\n",
    "import sys"
   ]
  },
  {
   "cell_type": "code",
   "execution_count": null,
   "metadata": {
    "collapsed": false
   },
   "outputs": [],
   "source": []
  },
  {
   "cell_type": "code",
   "execution_count": 4,
   "metadata": {
    "collapsed": false
   },
   "outputs": [],
   "source": [
    "from astroquery.vizier import Vizier\n",
    "import astropy.units as u\n",
    "import astropy.coordinates as coord\n",
    "from astropy.coordinates import SkyCoord\n",
    "from astropy.coordinates import Angle\n",
    "\n",
    "#import pyvo as vo"
   ]
  },
  {
   "cell_type": "code",
   "execution_count": 5,
   "metadata": {
    "collapsed": true
   },
   "outputs": [],
   "source": [
    "Vizier.ucd  = 'phot.flux.density;em.radio.*'"
   ]
  },
  {
   "cell_type": "code",
   "execution_count": 6,
   "metadata": {
    "collapsed": false
   },
   "outputs": [
    {
     "name": "stdout",
     "output_type": "stream",
     "text": [
      "Enter RA of target hh mm ss 19 64 30\n",
      "Enter Dec of target dd mm ss -30 45 05\n"
     ]
    }
   ],
   "source": [
    "\n",
    "RA = raw_input(\"Enter RA of target hh mm ss \")\n",
    "DEC = raw_input(\"Enter Dec of target dd mm ss \")"
   ]
  },
  {
   "cell_type": "code",
   "execution_count": 7,
   "metadata": {
    "collapsed": false
   },
   "outputs": [
    {
     "name": "stdout",
     "output_type": "stream",
     "text": [
      "Enter rsearch radius e.g. 16m, 16d, 16s 60m\n"
     ]
    }
   ],
   "source": [
    "MyRadius = raw_input('Enter rsearch radius e.g. 16m, 16d, 16s ')"
   ]
  },
  {
   "cell_type": "code",
   "execution_count": 8,
   "metadata": {
    "collapsed": false
   },
   "outputs": [],
   "source": [
    "def InputCoord(arg1,arg2):\n",
    "    '''This takes a user input of the RA and Dec and then \n",
    "    convert it to RaTarget and DecTarget in deg for use in the VO search.\n",
    "    Input: arg1(RA), arg2(Dec) NB: They are str in this case.\n",
    "    Output: RaTarget,DecTarget\n",
    "    '''\n",
    "    hh = float(arg1.split(' ')[0])\n",
    "    mm = float(arg1.split(' ')[1])/60.\n",
    "    ss = float(arg1.split(' ')[2])/3600.\n",
    "\n",
    "    dec_dd = float(arg2.split(' ')[0])\n",
    "    dec_mm = float(arg2.split(' ')[1])/60.\n",
    "    dec_ss = float(arg2.split(' ')[2])/3600.\n",
    "\n",
    "    if dec_dd <0:\n",
    "        dec = dec_dd-dec_mm-dec_ss\n",
    "    else:\n",
    "        dec = dec_dd+dec_mm+dec_ss\n",
    "\n",
    "    RaTarget = (hh+mm+ss)*15.\n",
    "    DecTarget = dec\n",
    "    \n",
    "    return RaTarget,DecTarget"
   ]
  },
  {
   "cell_type": "code",
   "execution_count": null,
   "metadata": {
    "collapsed": true
   },
   "outputs": [],
   "source": []
  },
  {
   "cell_type": "code",
   "execution_count": 9,
   "metadata": {
    "collapsed": false
   },
   "outputs": [],
   "source": [
    "Ra,Dec = InputCoord(RA, DEC)"
   ]
  },
  {
   "cell_type": "code",
   "execution_count": 10,
   "metadata": {
    "collapsed": false
   },
   "outputs": [
    {
     "name": "stderr",
     "output_type": "stream",
     "text": [
      "/usr/local/lib/python2.7/site-packages/astroquery/vizier/core.py:567: UserWarning: VOTABLE parsing raised exception: \n",
      "  warnings.warn(\"VOTABLE parsing raised exception: {0}\".format(ex))\n",
      "WARNING: AstropyDeprecationWarning: astropy.utils.compat.odict.OrderedDict is now deprecated - import OrderedDict from the collections module instead [astropy.utils.compat.odict]\n",
      "WARNING:astropy:AstropyDeprecationWarning: astropy.utils.compat.odict.OrderedDict is now deprecated - import OrderedDict from the collections module instead\n"
     ]
    }
   ],
   "source": [
    "# the Radio and Far-IR catalogues on Vizier is given by\n",
    "# (http://vizier.u-strasbg.fr/vizier/welcome/vizierbrowse.gml?designation&journal=VIII)\n",
    "catalog_list = Vizier.find_catalogs('VIII') \n",
    "result = Vizier.query_region(coord.SkyCoord(ra=Ra, dec=Dec,unit=(u.deg, u.deg),frame='icrs')\n",
    "                             ,radius=MyRadius,catalog=catalog_list.keys())\n"
   ]
  },
  {
   "cell_type": "code",
   "execution_count": 11,
   "metadata": {
    "collapsed": false
   },
   "outputs": [
    {
     "name": "stdout",
     "output_type": "stream",
     "text": [
      "Recommend one use SUMSS survey \n"
     ]
    }
   ],
   "source": [
    "if Dec < -30:\n",
    "    print(\"Recommend one use SUMSS survey \")\n",
    "else:\n",
    "    print(\"Recommend to use NVSS or FIRST survey \")"
   ]
  },
  {
   "cell_type": "code",
   "execution_count": 12,
   "metadata": {
    "collapsed": false
   },
   "outputs": [
    {
     "name": "stdout",
     "output_type": "stream",
     "text": [
      "0 - Early Release Catalog (addition of the results in the 30, 44, 70, 100, 143, 217, 353, 545 and 857 GHz bands)\n",
      "1 - The parameters of the radio spectra\n",
      "2 - Source parameters based on positional cross-id\n",
      "3 - Public Release 1 (addition of the results in the 30, 44, 70, 100, 143, 217, 353, 545 and 857 GHz bands)\n",
      "4 - The southern sky 21cm survey data\n",
      "5 - The Catalogue\n",
      "6 - Catalog Data\n",
      "7 - Zenith Survey (-37 to -29)\n",
      "8 - GLEAM EGC catalog, version 2\n",
      "9 - Southern sky survey data\n",
      "10 - The Texas Survey\n",
      "11 - The sources in the simpler model.\n",
      "12 - The SUMSS Catalog, Version 2.1r (Feb-16-2012)\n",
      "13 - The NVSS Catalog\n",
      "14 - HI line data for 4315 extragalactic sources\n"
     ]
    }
   ],
   "source": [
    "# Printing catalogues that are accessible\n",
    "for i in range(len(result)):\n",
    "    print i,'-',result[i].meta['description']"
   ]
  },
  {
   "cell_type": "code",
   "execution_count": 13,
   "metadata": {
    "collapsed": false
   },
   "outputs": [
    {
     "name": "stdout",
     "output_type": "stream",
     "text": [
      "Enter catalogue number to use 12\n"
     ]
    }
   ],
   "source": [
    "indx = int(raw_input(\"Enter catalogue number to use \"))"
   ]
  },
  {
   "cell_type": "code",
   "execution_count": 14,
   "metadata": {
    "collapsed": false
   },
   "outputs": [
    {
     "name": "stdout",
     "output_type": "stream",
     "text": [
      "Catalogue chosen is:  The SUMSS Catalog, Version 2.1r (Feb-16-2012)\n"
     ]
    },
    {
     "data": {
      "text/html": [
       "&lt;Table masked=True length=46&gt;\n",
       "<table id=\"table4489550864\" class=\"table-striped table-bordered table-condensed\">\n",
       "<thead><tr><th>_RAJ2000</th><th>_DEJ2000</th><th>_r</th><th>RAJ2000</th><th>e_RAJ2000</th><th>DEJ2000</th><th>e_DEJ2000</th><th>Sp</th><th>e_Sp</th><th>St</th><th>e_St</th><th>MajAxis</th><th>MinAxis</th><th>PA</th><th>dMajAxis</th><th>dMinAxis</th><th>dPA</th><th>Mosaic</th><th>Nm</th><th>Xpos</th><th>Ypos</th></tr></thead>\n",
       "<thead><tr><th>deg</th><th>deg</th><th>arcm</th><th>&quot;h:m:s&quot;</th><th>arcs</th><th>&quot;d:m:s&quot;</th><th>arcs</th><th>mJy</th><th>mJy</th><th>mJy</th><th>mJy</th><th>arcs</th><th>arcs</th><th>deg</th><th>arcs</th><th>arcs</th><th>deg</th><th></th><th></th><th>pix</th><th>pix</th></tr></thead>\n",
       "<thead><tr><th>float64</th><th>float64</th><th>float64</th><th>str11</th><th>float32</th><th>str12</th><th>float32</th><th>float32</th><th>float32</th><th>float64</th><th>float32</th><th>float32</th><th>float32</th><th>float32</th><th>float32</th><th>float32</th><th>float32</th><th>str8</th><th>uint8</th><th>float32</th><th>float32</th></tr></thead>\n",
       "<tr><td>300.0225417</td><td>-30.9752778</td><td>58.3481</td><td>20 00 05.41</td><td>2.1</td><td>-30 58 31.00</td><td>2.5</td><td>37.6</td><td>1.9</td><td>37.6</td><td>1.9</td><td>84.9</td><td>63.6</td><td>23.7</td><td>0.0</td><td>0.0</td><td>--</td><td>J2006M32</td><td>1</td><td>1119.5</td><td>550.2</td></tr>\n",
       "<tr><td>300.0431667</td><td>-30.9185833</td><td>56.6305</td><td>20 00 10.36</td><td>1.9</td><td>-30 55 06.90</td><td>2.8</td><td>24.3</td><td>1.6</td><td>24.4</td><td>1.6</td><td>84.9</td><td>46.5</td><td>5.7</td><td>0.0</td><td>0.0</td><td>--</td><td>J2006M32</td><td>1</td><td>1114.0</td><td>560.1</td></tr>\n",
       "<tr><td>300.0968750</td><td>-30.4768056</td><td>55.5868</td><td>20 00 23.25</td><td>3.8</td><td>-30 28 36.50</td><td>5.1</td><td>14.2</td><td>1.7</td><td>15.5</td><td>1.8</td><td>84.9</td><td>56.5</td><td>16.6</td><td>0.0</td><td>0.0</td><td>--</td><td>J2006M32</td><td>1</td><td>1100.7</td><td>636.8</td></tr>\n",
       "<tr><td>300.1582500</td><td>-30.9774167</td><td>51.6046</td><td>20 00 37.98</td><td>2.1</td><td>-30 58 38.70</td><td>3.3</td><td>23.0</td><td>1.6</td><td>28.3</td><td>2.0</td><td>100.5</td><td>50.5</td><td>10.7</td><td>0.0</td><td>0.0</td><td>--</td><td>J2006M32</td><td>1</td><td>1081.5</td><td>550.1</td></tr>\n",
       "<tr><td>300.2710417</td><td>-30.5730000</td><td>45.3550</td><td>20 01 05.05</td><td>5.1</td><td>-30 34 22.80</td><td>6.6</td><td>11.4</td><td>1.7</td><td>13.5</td><td>2.0</td><td>87.9</td><td>61.2</td><td>160.1</td><td>0.0</td><td>0.0</td><td>--</td><td>J2006M32</td><td>1</td><td>1051.3</td><td>620.4</td></tr>\n",
       "<tr><td>300.2866667</td><td>-31.0513611</td><td>46.7627</td><td>20 01 08.80</td><td>1.9</td><td>-31 03 04.90</td><td>2.1</td><td>53.4</td><td>2.2</td><td>53.4</td><td>2.2</td><td>84.9</td><td>64.2</td><td>33.4</td><td>0.0</td><td>0.0</td><td>--</td><td>J2006M32</td><td>1</td><td>1045.2</td><td>537.5</td></tr>\n",
       "<tr><td>300.2971667</td><td>-30.0539722</td><td>59.8849</td><td>20 01 11.32</td><td>6.8</td><td>-30 03 14.30</td><td>3.9</td><td>10.6</td><td>1.9</td><td>10.6</td><td>1.9</td><td>84.9</td><td>45.2</td><td>94.8</td><td>0.0</td><td>0.0</td><td>--</td><td>J2006M32</td><td>1</td><td>1045.7</td><td>710.4</td></tr>\n",
       "<tr><td>300.2986667</td><td>-30.1871667</td><td>54.5172</td><td>20 01 11.68</td><td>1.8</td><td>-30 11 13.80</td><td>2.0</td><td>81.6</td><td>3.2</td><td>101.9</td><td>4.0</td><td>84.9</td><td>70.3</td><td>143.5</td><td>0.0</td><td>0.0</td><td>--</td><td>J2006M32</td><td>1</td><td>1044.8</td><td>687.3</td></tr>\n",
       "<tr><td>300.3085417</td><td>-30.9086389</td><td>43.1105</td><td>20 01 14.05</td><td>3.3</td><td>-30 54 31.10</td><td>4.0</td><td>19.4</td><td>1.7</td><td>19.4</td><td>1.7</td><td>84.9</td><td>63.5</td><td>23.4</td><td>0.0</td><td>0.0</td><td>--</td><td>J2006M32</td><td>1</td><td>1039.5</td><td>562.3</td></tr>\n",
       "<tr><td>...</td><td>...</td><td>...</td><td>...</td><td>...</td><td>...</td><td>...</td><td>...</td><td>...</td><td>...</td><td>...</td><td>...</td><td>...</td><td>...</td><td>...</td><td>...</td><td>...</td><td>...</td><td>...</td><td>...</td><td>...</td></tr>\n",
       "<tr><td>301.0320000</td><td>-30.7358333</td><td>4.8860</td><td>20 04 07.68</td><td>6.1</td><td>-30 44 09.00</td><td>5.4</td><td>11.8</td><td>1.7</td><td>14.4</td><td>2.1</td><td>84.9</td><td>61.0</td><td>58.9</td><td>0.0</td><td>0.0</td><td>--</td><td>J2006M32</td><td>1</td><td>836.6</td><td>593.1</td></tr>\n",
       "<tr><td>301.0691250</td><td>-31.2084722</td><td>27.5756</td><td>20 04 16.59</td><td>2.1</td><td>-31 12 30.50</td><td>3.1</td><td>23.8</td><td>1.8</td><td>23.8</td><td>1.8</td><td>84.9</td><td>46.8</td><td>5.7</td><td>0.0</td><td>0.0</td><td>--</td><td>J2006M32</td><td>1</td><td>825.6</td><td>511.1</td></tr>\n",
       "<tr><td>301.0933333</td><td>-30.2912500</td><td>27.6565</td><td>20 04 22.40</td><td>3.9</td><td>-30 17 28.50</td><td>4.6</td><td>16.0</td><td>1.6</td><td>19.4</td><td>2.0</td><td>85.9</td><td>65.0</td><td>24.6</td><td>0.0</td><td>0.0</td><td>--</td><td>J2006M32</td><td>1</td><td>819.9</td><td>670.2</td></tr>\n",
       "<tr><td>301.1088333</td><td>-30.8044722</td><td>3.2927</td><td>20 04 26.12</td><td>3.5</td><td>-30 48 16.10</td><td>4.7</td><td>16.7</td><td>1.7</td><td>19.5</td><td>2.0</td><td>88.0</td><td>59.5</td><td>18.9</td><td>0.0</td><td>0.0</td><td>--</td><td>J2006M32</td><td>1</td><td>815.0</td><td>581.2</td></tr>\n",
       "<tr><td>301.1365000</td><td>-30.4552778</td><td>17.7762</td><td>20 04 32.76</td><td>6.1</td><td>-30 27 19.00</td><td>7.1</td><td>10.0</td><td>1.6</td><td>10.0</td><td>1.6</td><td>84.9</td><td>66.2</td><td>154.4</td><td>0.0</td><td>0.0</td><td>--</td><td>J2006M32</td><td>1</td><td>807.5</td><td>641.8</td></tr>\n",
       "<tr><td>301.1932500</td><td>-31.7210833</td><td>58.2873</td><td>20 04 46.38</td><td>2.5</td><td>-31 43 15.90</td><td>2.8</td><td>27.3</td><td>1.7</td><td>27.3</td><td>1.7</td><td>84.9</td><td>61.4</td><td>143.5</td><td>0.0</td><td>0.0</td><td>--</td><td>J2006M32</td><td>1</td><td>790.4</td><td>422.3</td></tr>\n",
       "<tr><td>301.2132500</td><td>-30.6417778</td><td>7.9985</td><td>20 04 51.18</td><td>1.5</td><td>-30 38 30.40</td><td>1.8</td><td>77.5</td><td>2.7</td><td>77.5</td><td>2.7</td><td>84.9</td><td>46.3</td><td>175.5</td><td>0.0</td><td>0.0</td><td>--</td><td>J2006M32</td><td>1</td><td>785.7</td><td>609.5</td></tr>\n",
       "<tr><td>301.3456667</td><td>-31.2584722</td><td>32.4727</td><td>20 05 22.96</td><td>3.4</td><td>-31 15 30.50</td><td>3.0</td><td>18.5</td><td>1.7</td><td>18.5</td><td>1.7</td><td>84.9</td><td>50.4</td><td>58.1</td><td>0.0</td><td>0.0</td><td>--</td><td>J2006M32</td><td>1</td><td>748.2</td><td>502.6</td></tr>\n",
       "<tr><td>301.3520833</td><td>-30.4413333</td><td>21.9911</td><td>20 05 24.50</td><td>1.6</td><td>-30 26 28.80</td><td>1.8</td><td>81.2</td><td>2.9</td><td>81.2</td><td>2.9</td><td>84.9</td><td>54.0</td><td>130.7</td><td>0.0</td><td>0.0</td><td>--</td><td>J2006M32</td><td>1</td><td>746.7</td><td>644.3</td></tr>\n",
       "<tr><td>301.4346250</td><td>-31.1600556</td><td>29.2412</td><td>20 05 44.31</td><td>2.5</td><td>-31 09 36.20</td><td>3.3</td><td>25.6</td><td>1.9</td><td>25.6</td><td>1.9</td><td>84.9</td><td>57.7</td><td>17.1</td><td>0.0</td><td>0.0</td><td>--</td><td>J2006M32</td><td>1</td><td>723.3</td><td>519.7</td></tr>\n",
       "</table>"
      ],
      "text/plain": [
       "<Table masked=True length=46>\n",
       "  _RAJ2000    _DEJ2000     _r     RAJ2000   ...  Mosaic    Nm    Xpos    Ypos \n",
       "    deg         deg       arcm    \"h:m:s\"   ...                  pix     pix  \n",
       "  float64     float64   float64    str11    ...   str8   uint8 float32 float32\n",
       "----------- ----------- ------- ----------- ... -------- ----- ------- -------\n",
       "300.0225417 -30.9752778 58.3481 20 00 05.41 ... J2006M32     1  1119.5   550.2\n",
       "300.0431667 -30.9185833 56.6305 20 00 10.36 ... J2006M32     1  1114.0   560.1\n",
       "300.0968750 -30.4768056 55.5868 20 00 23.25 ... J2006M32     1  1100.7   636.8\n",
       "300.1582500 -30.9774167 51.6046 20 00 37.98 ... J2006M32     1  1081.5   550.1\n",
       "300.2710417 -30.5730000 45.3550 20 01 05.05 ... J2006M32     1  1051.3   620.4\n",
       "300.2866667 -31.0513611 46.7627 20 01 08.80 ... J2006M32     1  1045.2   537.5\n",
       "300.2971667 -30.0539722 59.8849 20 01 11.32 ... J2006M32     1  1045.7   710.4\n",
       "300.2986667 -30.1871667 54.5172 20 01 11.68 ... J2006M32     1  1044.8   687.3\n",
       "300.3085417 -30.9086389 43.1105 20 01 14.05 ... J2006M32     1  1039.5   562.3\n",
       "        ...         ...     ...         ... ...      ...   ...     ...     ...\n",
       "301.0320000 -30.7358333  4.8860 20 04 07.68 ... J2006M32     1   836.6   593.1\n",
       "301.0691250 -31.2084722 27.5756 20 04 16.59 ... J2006M32     1   825.6   511.1\n",
       "301.0933333 -30.2912500 27.6565 20 04 22.40 ... J2006M32     1   819.9   670.2\n",
       "301.1088333 -30.8044722  3.2927 20 04 26.12 ... J2006M32     1   815.0   581.2\n",
       "301.1365000 -30.4552778 17.7762 20 04 32.76 ... J2006M32     1   807.5   641.8\n",
       "301.1932500 -31.7210833 58.2873 20 04 46.38 ... J2006M32     1   790.4   422.3\n",
       "301.2132500 -30.6417778  7.9985 20 04 51.18 ... J2006M32     1   785.7   609.5\n",
       "301.3456667 -31.2584722 32.4727 20 05 22.96 ... J2006M32     1   748.2   502.6\n",
       "301.3520833 -30.4413333 21.9911 20 05 24.50 ... J2006M32     1   746.7   644.3\n",
       "301.4346250 -31.1600556 29.2412 20 05 44.31 ... J2006M32     1   723.3   519.7"
      ]
     },
     "execution_count": 14,
     "metadata": {},
     "output_type": "execute_result"
    }
   ],
   "source": [
    "MyCat = result[result.keys()[indx]]\n",
    "print \"Catalogue chosen is: \", result[indx].meta['description']\n",
    "MyCat"
   ]
  },
  {
   "cell_type": "code",
   "execution_count": 15,
   "metadata": {
    "collapsed": false
   },
   "outputs": [],
   "source": [
    "# LSM should be of the following format:\n",
    "# #name ra_d dec_d i q u v emaj_s emin_s pa_d\n",
    "\n",
    "MyLSM = []\n",
    "for Indx in range(len(MyCat)):\n",
    "    c = SkyCoord(MyCat['RAJ2000'][Indx]+' '+MyCat['DEJ2000'][Indx], unit=(u.hourangle, u.deg))\n",
    "\n",
    "    ra_d = c.ra.deg\n",
    "    dec_d = c.dec.deg\n",
    "\n",
    "    # i should be in Jansky, Q, U and V will be 0 for now \n",
    "\n",
    "    StokesI = MyCat['Sp'][Indx]*1.e-3\n",
    "    StokesQ = 0.0\n",
    "    StokesU = 0.0\n",
    "    StokesV = 0.0\n",
    "\n",
    "    emaj_s = Angle(MyCat['MajAxis'][Indx],unit = u.arcsec)  \n",
    "    emin_s = Angle(MyCat['MinAxis'][Indx],unit = u.arcsec)  \n",
    "    pa_d = Angle(MyCat['PA'][Indx],unit = u.deg)\n",
    "    \n",
    "    MyLSM.append((Indx, ra_d, dec_d, StokesI, StokesQ, StokesU, StokesV, emaj_s.deg, emin_s.deg, pa_d.deg ))\n"
   ]
  },
  {
   "cell_type": "code",
   "execution_count": 16,
   "metadata": {
    "collapsed": false
   },
   "outputs": [],
   "source": [
    "MyLSMHeader = '#format:name ra_d dec_d i q u v emaj_s emin_s pa_d'"
   ]
  },
  {
   "cell_type": "code",
   "execution_count": 17,
   "metadata": {
    "collapsed": false
   },
   "outputs": [],
   "source": [
    "np.savetxt('test_LSM.lsm', np.array(MyLSM),header=MyLSMHeader,comments='',fmt= '%.5e')"
   ]
  },
  {
   "cell_type": "code",
   "execution_count": null,
   "metadata": {
    "collapsed": false
   },
   "outputs": [],
   "source": [
    "# Copy the sky model to the path you want"
   ]
  },
  {
   "cell_type": "code",
   "execution_count": null,
   "metadata": {
    "collapsed": false
   },
   "outputs": [],
   "source": []
  },
  {
   "cell_type": "code",
   "execution_count": null,
   "metadata": {
    "collapsed": false
   },
   "outputs": [],
   "source": []
  },
  {
   "cell_type": "code",
   "execution_count": null,
   "metadata": {
    "collapsed": false
   },
   "outputs": [],
   "source": []
  },
  {
   "cell_type": "code",
   "execution_count": null,
   "metadata": {
    "collapsed": true
   },
   "outputs": [],
   "source": []
  }
 ],
 "metadata": {
  "kernelspec": {
   "display_name": "Python2",
   "language": "python",
   "name": "python2"
  },
  "language_info": {
   "codemirror_mode": {
    "name": "ipython",
    "version": 2
   },
   "file_extension": ".py",
   "mimetype": "text/x-python",
   "name": "python",
   "nbconvert_exporter": "python",
   "pygments_lexer": "ipython2",
   "version": "2.7.10"
  }
 },
 "nbformat": 4,
 "nbformat_minor": 0
}
