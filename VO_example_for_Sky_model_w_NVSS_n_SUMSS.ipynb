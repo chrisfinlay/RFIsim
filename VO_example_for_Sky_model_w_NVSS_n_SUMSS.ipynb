{
 "cells": [
  {
   "cell_type": "code",
   "execution_count": 1,
   "metadata": {
    "collapsed": false
   },
   "outputs": [
    {
     "name": "stdout",
     "output_type": "stream",
     "text": [
      "Once deleted, variables cannot be recovered. Proceed (y/[n])? y\n"
     ]
    }
   ],
   "source": [
    "%reset"
   ]
  },
  {
   "cell_type": "code",
   "execution_count": 2,
   "metadata": {
    "collapsed": false
   },
   "outputs": [
    {
     "name": "stdout",
     "output_type": "stream",
     "text": [
      "Populating the interactive namespace from numpy and matplotlib\n"
     ]
    }
   ],
   "source": [
    "%pylab inline"
   ]
  },
  {
   "cell_type": "code",
   "execution_count": 3,
   "metadata": {
    "collapsed": true
   },
   "outputs": [],
   "source": [
    "warnings.filterwarnings('ignore',message='profile')\n",
    "warnings.filterwarnings('ignore',message='_astropy_init')\n",
    "warnings.filterwarnings('ignore',message='ConfigurationDefaultMissingWarning ')\n",
    "\n",
    "import os\n",
    "import sys"
   ]
  },
  {
   "cell_type": "code",
   "execution_count": null,
   "metadata": {
    "collapsed": false
   },
   "outputs": [],
   "source": []
  },
  {
   "cell_type": "code",
   "execution_count": 4,
   "metadata": {
    "collapsed": false
   },
   "outputs": [],
   "source": [
    "from astroquery.vizier import Vizier\n",
    "import astropy.units as u\n",
    "import astropy.coordinates as coord\n",
    "from astropy.coordinates import SkyCoord\n",
    "from astropy.coordinates import Angle\n",
    "\n",
    "#import pyvo as vo"
   ]
  },
  {
   "cell_type": "code",
   "execution_count": 5,
   "metadata": {
    "collapsed": true
   },
   "outputs": [],
   "source": [
    "Vizier.ucd  = 'phot.flux.density;em.radio.*'"
   ]
  },
  {
   "cell_type": "code",
   "execution_count": 6,
   "metadata": {
    "collapsed": false
   },
   "outputs": [
    {
     "name": "stdout",
     "output_type": "stream",
     "text": [
      "Enter RA of target hh mm ss 19 54 30\n",
      "Enter Dec of target dd mm ss -30 25 15\n"
     ]
    }
   ],
   "source": [
    "\n",
    "RA = raw_input(\"Enter RA of target hh mm ss \")\n",
    "DEC = raw_input(\"Enter Dec of target dd mm ss \")"
   ]
  },
  {
   "cell_type": "code",
   "execution_count": 7,
   "metadata": {
    "collapsed": false
   },
   "outputs": [
    {
     "name": "stdout",
     "output_type": "stream",
     "text": [
      "Enter rsearch radius e.g. 16m, 16d, 16s 1d\n"
     ]
    }
   ],
   "source": [
    "MyRadius = raw_input('Enter rsearch radius e.g. 16m, 16d, 16s ')"
   ]
  },
  {
   "cell_type": "code",
   "execution_count": 8,
   "metadata": {
    "collapsed": false
   },
   "outputs": [],
   "source": [
    "def InputCoord(arg1,arg2):\n",
    "    '''This takes a user input of the RA and Dec and then \n",
    "    convert it to RaTarget and DecTarget in deg for use in the VO search.\n",
    "    Input: arg1(RA), arg2(Dec) NB: They are str in this case.\n",
    "    Output: RaTarget,DecTarget\n",
    "    '''\n",
    "    hh = float(arg1.split(' ')[0])\n",
    "    mm = float(arg1.split(' ')[1])/60.\n",
    "    ss = float(arg1.split(' ')[2])/3600.\n",
    "\n",
    "    dec_dd = float(arg2.split(' ')[0])\n",
    "    dec_mm = float(arg2.split(' ')[1])/60.\n",
    "    dec_ss = float(arg2.split(' ')[2])/3600.\n",
    "\n",
    "    if dec_dd <0:\n",
    "        dec = dec_dd-dec_mm-dec_ss\n",
    "    else:\n",
    "        dec = dec_dd+dec_mm+dec_ss\n",
    "\n",
    "    RaTarget = (hh+mm+ss)*15.\n",
    "    DecTarget = dec\n",
    "    \n",
    "    return RaTarget,DecTarget"
   ]
  },
  {
   "cell_type": "code",
   "execution_count": null,
   "metadata": {
    "collapsed": false
   },
   "outputs": [],
   "source": []
  },
  {
   "cell_type": "code",
   "execution_count": null,
   "metadata": {
    "collapsed": false
   },
   "outputs": [],
   "source": []
  },
  {
   "cell_type": "code",
   "execution_count": null,
   "metadata": {
    "collapsed": false
   },
   "outputs": [],
   "source": []
  },
  {
   "cell_type": "code",
   "execution_count": 9,
   "metadata": {
    "collapsed": false
   },
   "outputs": [],
   "source": [
    "Ra,Dec = InputCoord(RA, DEC)"
   ]
  },
  {
   "cell_type": "code",
   "execution_count": 10,
   "metadata": {
    "collapsed": false
   },
   "outputs": [
    {
     "data": {
      "text/plain": [
       "-30.420833333333334"
      ]
     },
     "execution_count": 10,
     "metadata": {},
     "output_type": "execute_result"
    }
   ],
   "source": [
    "Dec "
   ]
  },
  {
   "cell_type": "code",
   "execution_count": 11,
   "metadata": {
    "collapsed": false
   },
   "outputs": [
    {
     "name": "stderr",
     "output_type": "stream",
     "text": [
      "/usr/local/lib/python2.7/site-packages/astroquery/vizier/core.py:567: UserWarning: VOTABLE parsing raised exception: \n",
      "  warnings.warn(\"VOTABLE parsing raised exception: {0}\".format(ex))\n",
      "WARNING: AstropyDeprecationWarning: astropy.utils.compat.odict.OrderedDict is now deprecated - import OrderedDict from the collections module instead [astropy.utils.compat.odict]\n",
      "WARNING:astropy:AstropyDeprecationWarning: astropy.utils.compat.odict.OrderedDict is now deprecated - import OrderedDict from the collections module instead\n"
     ]
    },
    {
     "name": "stdout",
     "output_type": "stream",
     "text": [
      "Recommend one use SUMSS survey \n"
     ]
    }
   ],
   "source": [
    "# The commonly used Radio catalogues on Vizier is given by:\n",
    "# first_cat(VIII/92/first14)   \n",
    "# nvss_cat(VIII/65/nvss)\n",
    "# SUMSS_cat(VIII/81B/sumss212)\n",
    "\n",
    "\n",
    "if (Dec > -90.) and (Dec < -30.):\n",
    "    print(\"Recommend one use SUMSS survey \")\n",
    "    catalog_list = Vizier.find_catalogs('VIII/81B/sumss212') \n",
    "\n",
    "    result = Vizier.query_region(coord.SkyCoord(ra=Ra, dec=Dec,unit=(u.deg, u.deg),frame='icrs')\n",
    "                                 ,radius=MyRadius,catalog=catalog_list.keys())\n",
    "\n",
    "elif (Dec > -30.) and (Dec < 90.):\n",
    "    print(\"Recommend to use NVSS or FIRST if Dec >-10 \")\n",
    "    catalog_list = Vizier.find_catalogs('VIII/65/nvss') \n",
    "\n",
    "    result = Vizier.query_region(coord.SkyCoord(ra=Ra, dec=Dec,unit=(u.deg, u.deg),frame='icrs')\n",
    "                                 ,radius=MyRadius,catalog=catalog_list.keys())\n",
    "else:\n",
    "    print(\"Check your input \")\n"
   ]
  },
  {
   "cell_type": "code",
   "execution_count": 12,
   "metadata": {
    "collapsed": false
   },
   "outputs": [
    {
     "name": "stdout",
     "output_type": "stream",
     "text": [
      "0 - Main catalogue\n",
      "1 - Quasars (M_v_<-22.25), BL Lac and AGNs (M_v_>-22.25)\n",
      "2 - The Catalogue\n",
      "3 - Catalog Data\n",
      "4 - Zenith Survey (-37 to -29)\n",
      "5 - The Texas Survey\n",
      "6 - The sources in the simpler model.\n",
      "7 - The NVSS Catalog\n",
      "8 - HI line data for 4315 extragalactic sources\n",
      "9 - Properties of detected galaxies derived from spectra in digital archive\n",
      "10 - The SUMSS Catalog, Version 2.1r (Feb-16-2012)\n",
      "11 - GLEAM EGC catalog, version 2\n",
      "12 - The 1RXS catalogue\n",
      "13 - 1RXS Correlation entries\n",
      "14 - 1RXS Correlation to NED\n",
      "15 - 1RXS Correlation to NVSS, FIRST\n",
      "16 - 1RXS Correlation to PRI, RITTER, SIMBAD, TYCHO, EUVE\n",
      "17 - 1RXS Correlation to HST_GSC\n",
      "18 - NVSS rotation measure catalog\n",
      "19 - Observing times of NVSS sources\n",
      "20 - The catalog of 2097 objects detected at 5, 7 or 9GHz subbands\n",
      "21 - Associations of 3FGL objects with compact radio sources\n",
      "22 - Structure of Southern Extended Extragalactic Radio Sources\n",
      "23 - RBSC-NVSS Extragalactic Identifications\n",
      "24 - The CRATES catalog\n",
      "25 - Quasars LQAC-2\n",
      "26 - Quasars LQAC-3\n",
      "27 - Full source catalog of TGSS ADR1 150 MHz sources\n",
      "28 - 4th release of the Large Quasar Astrometric Catalogue\n",
      "29 - Optical HICAT catalogue, HOPCAT\n",
      "30 - 6dFGS-NVSS data\n",
      "31 - Radio counterparts to X-ray cluster centres\n",
      "32 - IIFSCz Catalogue (MRR+LW 18/04/09)\n",
      "33 - 6dFGS-RASS AGN catalog\n",
      "34 - S-PASS catalogue\n"
     ]
    }
   ],
   "source": [
    "# Printing catalogues that are accessible\n",
    "for i in range(len(result)):\n",
    "    print i,'-',result[i].meta['description']"
   ]
  },
  {
   "cell_type": "code",
   "execution_count": 13,
   "metadata": {
    "collapsed": false
   },
   "outputs": [
    {
     "name": "stdout",
     "output_type": "stream",
     "text": [
      "Enter catalogue number to use 10\n"
     ]
    }
   ],
   "source": [
    "indx = int(raw_input(\"Enter catalogue number to use \"))"
   ]
  },
  {
   "cell_type": "code",
   "execution_count": 14,
   "metadata": {
    "collapsed": false
   },
   "outputs": [
    {
     "name": "stdout",
     "output_type": "stream",
     "text": [
      "Catalogue chosen is:  The SUMSS Catalog, Version 2.1r (Feb-16-2012)\n"
     ]
    },
    {
     "data": {
      "text/html": [
       "&lt;Table masked=True length=5&gt;\n",
       "<table id=\"table4428518352\" class=\"table-striped table-bordered table-condensed\">\n",
       "<thead><tr><th>_RAJ2000</th><th>_DEJ2000</th><th>_r</th><th>RAJ2000</th><th>e_RAJ2000</th><th>DEJ2000</th><th>e_DEJ2000</th><th>Sp</th><th>e_Sp</th><th>St</th><th>e_St</th><th>MajAxis</th><th>MinAxis</th><th>PA</th><th>dMajAxis</th><th>dMinAxis</th><th>dPA</th><th>Mosaic</th><th>Nm</th><th>Xpos</th><th>Ypos</th></tr></thead>\n",
       "<thead><tr><th>deg</th><th>deg</th><th>deg</th><th>&quot;h:m:s&quot;</th><th>arcs</th><th>&quot;d:m:s&quot;</th><th>arcs</th><th>mJy</th><th>mJy</th><th>mJy</th><th>mJy</th><th>arcs</th><th>arcs</th><th>deg</th><th>arcs</th><th>arcs</th><th>deg</th><th></th><th></th><th>pix</th><th>pix</th></tr></thead>\n",
       "<thead><tr><th>float64</th><th>float64</th><th>float64</th><th>str11</th><th>float32</th><th>str12</th><th>float32</th><th>float32</th><th>float32</th><th>float64</th><th>float32</th><th>float32</th><th>float32</th><th>float32</th><th>float32</th><th>float32</th><th>float32</th><th>str8</th><th>uint8</th><th>float32</th><th>float32</th></tr></thead>\n",
       "<tr><td>297.5591667</td><td>-30.1476389</td><td>0.960072</td><td>19 50 14.20</td><td>11.9</td><td>-30 08 51.50</td><td>11.6</td><td>14.2</td><td>3.5</td><td>21.0</td><td>5.2</td><td>84.9</td><td>77.5</td><td>126.6</td><td>0.0</td><td>0.0</td><td>--</td><td>J1948M32</td><td>1</td><td>546.8</td><td>695.0</td></tr>\n",
       "<tr><td>297.5619583</td><td>-30.3506667</td><td>0.919704</td><td>19 50 14.87</td><td>7.1</td><td>-30 21 02.40</td><td>4.0</td><td>15.5</td><td>2.9</td><td>15.5</td><td>2.9</td><td>84.9</td><td>45.1</td><td>92.8</td><td>0.0</td><td>0.0</td><td>--</td><td>J1948M32</td><td>1</td><td>546.3</td><td>659.8</td></tr>\n",
       "<tr><td>297.6094167</td><td>-29.9482778</td><td>0.996982</td><td>19 50 26.26</td><td>2.4</td><td>-29 56 53.80</td><td>3.4</td><td>42.8</td><td>3.4</td><td>42.8</td><td>3.4</td><td>84.9</td><td>51.5</td><td>168.6</td><td>0.0</td><td>0.0</td><td>--</td><td>J1948M32</td><td>1</td><td>532.2</td><td>729.5</td></tr>\n",
       "<tr><td>297.6441667</td><td>-30.3703611</td><td>0.847527</td><td>19 50 34.60</td><td>5.3</td><td>-30 22 13.30</td><td>3.7</td><td>22.9</td><td>3.1</td><td>24.7</td><td>3.3</td><td>84.9</td><td>50.3</td><td>107.5</td><td>0.0</td><td>0.0</td><td>--</td><td>J1948M32</td><td>1</td><td>523.1</td><td>656.3</td></tr>\n",
       "<tr><td>297.7110417</td><td>-30.6063889</td><td>0.808955</td><td>19 50 50.65</td><td>8.8</td><td>-30 36 23.00</td><td>5.2</td><td>11.3</td><td>2.7</td><td>11.3</td><td>2.7</td><td>84.9</td><td>45.4</td><td>80.3</td><td>0.0</td><td>0.0</td><td>--</td><td>J1948M32</td><td>1</td><td>504.7</td><td>615.3</td></tr>\n",
       "</table>"
      ],
      "text/plain": [
       "<Table masked=True length=5>\n",
       "  _RAJ2000    _DEJ2000     _r      RAJ2000   ...  Mosaic    Nm    Xpos    Ypos \n",
       "    deg         deg       deg      \"h:m:s\"   ...                  pix     pix  \n",
       "  float64     float64   float64     str11    ...   str8   uint8 float32 float32\n",
       "----------- ----------- -------- ----------- ... -------- ----- ------- -------\n",
       "297.5591667 -30.1476389 0.960072 19 50 14.20 ... J1948M32     1   546.8   695.0\n",
       "297.5619583 -30.3506667 0.919704 19 50 14.87 ... J1948M32     1   546.3   659.8\n",
       "297.6094167 -29.9482778 0.996982 19 50 26.26 ... J1948M32     1   532.2   729.5\n",
       "297.6441667 -30.3703611 0.847527 19 50 34.60 ... J1948M32     1   523.1   656.3\n",
       "297.7110417 -30.6063889 0.808955 19 50 50.65 ... J1948M32     1   504.7   615.3"
      ]
     },
     "execution_count": 14,
     "metadata": {},
     "output_type": "execute_result"
    }
   ],
   "source": [
    "MyCat = result[result.keys()[indx]]\n",
    "print \"Catalogue chosen is: \", result[indx].meta['description']\n",
    "MyCat[:5]"
   ]
  },
  {
   "cell_type": "code",
   "execution_count": 15,
   "metadata": {
    "collapsed": false
   },
   "outputs": [],
   "source": [
    "if \"SUMSS\" in result[indx].meta['description']:\n",
    "    CatChosen = 'SUMSS'\n",
    "elif \"NVSS\" in result[indx].meta['description']:\n",
    "    CatChosen = 'NVSS'\n",
    "else:\n",
    "    print(\"Non statndard cat chosesn may break code\")"
   ]
  },
  {
   "cell_type": "code",
   "execution_count": 16,
   "metadata": {
    "collapsed": false
   },
   "outputs": [],
   "source": [
    "# LSM should be of the following format:\n",
    "# #name ra_d dec_d i q u v emaj_s emin_s pa_d\n",
    "\n",
    "MyLSM = []\n",
    "if CatChosen == 'SUMSS':\n",
    "    for Indx in range(len(MyCat)):\n",
    "        c = SkyCoord(MyCat['RAJ2000'][Indx]+' '+MyCat['DEJ2000'][Indx], unit=(u.hourangle, u.deg))\n",
    "\n",
    "        ra_d = c.ra.deg\n",
    "        dec_d = c.dec.deg\n",
    "\n",
    "        # i should be in Jansky, Q, U and V will be 0 for now \n",
    "\n",
    "        StokesI = MyCat['Sp'][Indx]*1.e-3\n",
    "        StokesQ = 0.0\n",
    "        StokesU = 0.0\n",
    "        StokesV = 0.0\n",
    "\n",
    "        emaj_s = Angle(MyCat['MajAxis'][Indx],unit = u.arcsec)  \n",
    "        emin_s = Angle(MyCat['MinAxis'][Indx],unit = u.arcsec)  \n",
    "        pa_d = Angle(MyCat['PA'][Indx],unit = u.deg)\n",
    "\n",
    "        MyLSM.append((Indx, ra_d, dec_d, StokesI, StokesQ, StokesU, StokesV, emaj_s.deg, emin_s.deg, pa_d.deg ))\n",
    "        \n",
    "elif CatChosen == 'NVSS':\n",
    "    \n",
    "    for Indx in range(len(MyCat)):\n",
    "        c = SkyCoord(MyCat['RAJ2000'][Indx]+' '+MyCat['DEJ2000'][Indx], unit=(u.hourangle, u.deg))\n",
    "\n",
    "        ra_d = c.ra.deg\n",
    "        dec_d = c.dec.deg\n",
    "\n",
    "        # i should be in Jansky, Q, U and V will be 0 for now \n",
    "\n",
    "        StokesI = MyCat['S1.4'][Indx]*1.e-3\n",
    "        StokesQ = 0.0\n",
    "        StokesU = 0.0\n",
    "        StokesV = 0.0\n",
    "\n",
    "        emaj_s = Angle(MyCat['MajAxis'][Indx],unit = u.arcsec)  \n",
    "        emin_s = Angle(MyCat['MinAxis'][Indx],unit = u.arcsec)  \n",
    "        pa_d = Angle(MyCat['PA'][Indx],unit = u.deg)\n",
    "\n",
    "        MyLSM.append((Indx, ra_d, dec_d, StokesI, StokesQ, StokesU, StokesV, emaj_s.deg, emin_s.deg, pa_d.deg ))"
   ]
  },
  {
   "cell_type": "code",
   "execution_count": 17,
   "metadata": {
    "collapsed": false
   },
   "outputs": [],
   "source": [
    "MyLSMHeader = '#format:name ra_d dec_d i q u v emaj_s emin_s pa_d'"
   ]
  },
  {
   "cell_type": "code",
   "execution_count": 18,
   "metadata": {
    "collapsed": false
   },
   "outputs": [],
   "source": [
    "np.savetxt('test_LSM.lsm', np.array(MyLSM),header=MyLSMHeader,comments='',\n",
    "           fmt= '%i %.5e %.5e %.5e %.5e %.5e %.5e %.5e %.5e %.5e')"
   ]
  },
  {
   "cell_type": "code",
   "execution_count": 19,
   "metadata": {
    "collapsed": false
   },
   "outputs": [],
   "source": [
    "# Copy the sky model to the path you want"
   ]
  },
  {
   "cell_type": "code",
   "execution_count": null,
   "metadata": {
    "collapsed": false
   },
   "outputs": [],
   "source": []
  },
  {
   "cell_type": "code",
   "execution_count": null,
   "metadata": {
    "collapsed": false
   },
   "outputs": [],
   "source": []
  },
  {
   "cell_type": "code",
   "execution_count": null,
   "metadata": {
    "collapsed": false
   },
   "outputs": [],
   "source": []
  },
  {
   "cell_type": "code",
   "execution_count": null,
   "metadata": {
    "collapsed": true
   },
   "outputs": [],
   "source": []
  }
 ],
 "metadata": {
  "kernelspec": {
   "display_name": "Python2",
   "language": "python",
   "name": "python2"
  },
  "language_info": {
   "codemirror_mode": {
    "name": "ipython",
    "version": 2
   },
   "file_extension": ".py",
   "mimetype": "text/x-python",
   "name": "python",
   "nbconvert_exporter": "python",
   "pygments_lexer": "ipython2",
   "version": "2.7.10"
  }
 },
 "nbformat": 4,
 "nbformat_minor": 0
}
