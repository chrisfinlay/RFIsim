{
 "cells": [
  {
   "cell_type": "code",
   "execution_count": 1,
   "metadata": {},
   "outputs": [
    {
     "name": "stdout",
     "output_type": "stream",
     "text": [
      "Populating the interactive namespace from numpy and matplotlib\n"
     ]
    }
   ],
   "source": [
    "import utils.rfi.sat_sim.satellite_simulations as ss\n",
    "%pylab inline"
   ]
  },
  {
   "cell_type": "code",
   "execution_count": 2,
   "metadata": {},
   "outputs": [],
   "source": [
    "from skyfield.api import load as sf_load"
   ]
  },
  {
   "cell_type": "code",
   "execution_count": 3,
   "metadata": {},
   "outputs": [],
   "source": [
    "from skyfield.api import Topos, Star\n",
    "from skyfield.positionlib import ICRF, Angle"
   ]
  },
  {
   "cell_type": "code",
   "execution_count": 4,
   "metadata": {},
   "outputs": [],
   "source": [
    "import pytz\n",
    "from tzwhere import tzwhere"
   ]
  },
  {
   "cell_type": "code",
   "execution_count": 5,
   "metadata": {},
   "outputs": [],
   "source": [
    "tzwhere = tzwhere.tzwhere()"
   ]
  },
  {
   "cell_type": "code",
   "execution_count": 6,
   "metadata": {},
   "outputs": [],
   "source": [
    "def get_dist_and_seps(sat_tles, ant_locs, times, target):\n",
    "    \n",
    "    ants = [Topos(latitude_degrees=ant_locs[i,0], longitude_degrees=ant_locs[i,1],\n",
    "                elevation_m=ant_locs[i,2]) for i in range(len(ant_locs))]\n",
    "    \n",
    "    ts = sf_load.timescale()\n",
    "    t = ts.utc(times)\n",
    "    \n",
    "    el_dist_ra_dec_sep = np.zeros((len(times), len(ants), len(sat_tles), 5))\n",
    "    \n",
    "    for i, sat_tle in enumerate(sat_tles): \n",
    "        for j, ant in enumerate(ants):\n",
    "            topocentric = (sat_tle-ant).at(t)\n",
    "            el = topocentric.altaz()[0].degrees\n",
    "            dist = topocentric.altaz()[2].m\n",
    "            ra = topocentric.radec()[0]._degrees\n",
    "            dec = topocentric.radec()[1]._degrees\n",
    "            el_dist_ra_dec_sep[:,j,i,:4] = np.array([el, dist, ra, dec]).T\n",
    "    \n",
    "    ra, dec = el_dist_ra_dec_sep[:,:,:,2], el_dist_ra_dec_sep[:,:,:,3]\n",
    "    el_dist_ra_dec_sep[:,:,:,-1] = angular_separation(ra, dec, target)\n",
    "    \n",
    "    return el_dist_ra_dec_sep"
   ]
  },
  {
   "cell_type": "code",
   "execution_count": 7,
   "metadata": {},
   "outputs": [],
   "source": [
    "def angular_separation(ra, dec, phase_centre):\n",
    "    \"\"\"\n",
    "    Calculates the angular separation between a source and the phase centre.\n",
    "\n",
    "    Parameters\n",
    "    ----------\n",
    "    ra : float\n",
    "        Right-ascension of the source in degrees.\n",
    "    dec : float\n",
    "        Declination of the source in degrees.\n",
    "    phase_centre : tuple\n",
    "        Right-ascension and declination of the phase centre in degrees.\n",
    "\n",
    "    Returns\n",
    "    ------\n",
    "    theta : float\n",
    "        The angular separation between the phase centre and given source in\n",
    "        degrees.\n",
    "    \"\"\"\n",
    "    ra1, dec1 = np.deg2rad([ra, dec])\n",
    "    ra2, dec2 = np.deg2rad(phase_centre)\n",
    "\n",
    "    theta = np.arccos(np.sin(dec1)*np.sin(dec2) + \\\n",
    "            np.cos(dec1)*np.cos(dec2)*np.cos(ra1-ra2))\n",
    "\n",
    "    return np.rad2deg(theta)"
   ]
  },
  {
   "cell_type": "code",
   "execution_count": 8,
   "metadata": {},
   "outputs": [],
   "source": [
    "def phase_delays(distances, freqs):\n",
    "    \"\"\"\n",
    "    Calculate the phase delay terms, K.\n",
    "    \n",
    "    Parameters:\n",
    "    -----------\n",
    "    distances: np.array (n_time,n_ant,n_src)\n",
    "        Distances between each source and antenna.\n",
    "    freqs: np.array (n_freq,)\n",
    "        Frequencies\n",
    "        \n",
    "    Returns:\n",
    "    --------\n",
    "    delays: np.array (n_time,n_freq,n_bl,n_src)\n",
    "        Phase delay terms.\n",
    "    \"\"\"\n",
    "    \n",
    "    c = 2.99792458e8\n",
    "    phases = freqs[None,:,None,None]*(distances[:,None,:,:]-distances[:,None,:,:])/c\n",
    "    \n",
    "    return np.exp(1.j*phases)"
   ]
  },
  {
   "cell_type": "code",
   "execution_count": 9,
   "metadata": {},
   "outputs": [],
   "source": [
    "def sinc_beam(ang_sep, params):\n",
    "    \"\"\"\n",
    "    A sinc beam that narrows with increasing frequency.\n",
    "    A parameter $\\alpha \\propto D$ is present to control\n",
    "    the width of the beam.\n",
    "\n",
    "    Paramters:\n",
    "    ----------\n",
    "    ang_sep: np.array (n_time,n_ant,n_srcs)\n",
    "        The radius at which to evaluate the beam function.\n",
    "        Angular separation, in degrees, from the pointing direction.\n",
    "    params: array-like (2,)\n",
    "        Contains alpha, the width parameter, proportional to the\n",
    "        dish diameter. And the frequency. (alpha, freq)\n",
    "\n",
    "    Returns:\n",
    "    --------\n",
    "    beam: np.array (n_time,n_freqs,n_ant,n_srcs)\n",
    "        The attenuation due to the beam at the given angular separation.\n",
    "    \"\"\"\n",
    "\n",
    "    alpha, freq = params\n",
    "    a = 3e-2\n",
    "    b = 2*np.pi/123 \n",
    "    phi = 320\n",
    "    beam = np.exp(-1j*(freq[None,:,None,None]*b - phi))*np.sinc(a*freq[None,:,None,None]*ang_sep[:,None,:,:])\n",
    "#     beam = np.sinc(alpha*freq[None,:,None,None]*ang_sep[:,None,:,:])\n",
    "\n",
    "    return beam"
   ]
  },
  {
   "cell_type": "code",
   "execution_count": 10,
   "metadata": {},
   "outputs": [],
   "source": [
    "def auto_beam(ll, mm, ff, a=3e-2, b=2*np.pi/123, phi=320):\n",
    "    \"\"\"\n",
    "    Generate the complex beam cube for the auto-polarizations (HH, VV).\n",
    "\n",
    "    Parameters\n",
    "    ----------\n",
    "    ll : ndarray\n",
    "        Array of shape (channels, resolution, resolution) containing the l\n",
    "        coordinate points varying along axis 1.\n",
    "    mm : ndarray\n",
    "        Array of shape (channels, resolution, resolution) containing the m\n",
    "        coordinate points varying along axis 2.\n",
    "    ff : ndarray\n",
    "        Array of shape (channels, resolution, resolution) containing the\n",
    "        frequency coordinate points varying along axis 0.\n",
    "    a : float\n",
    "        Width of the sinc component of the beam.\n",
    "    b : float\n",
    "        Oscillatory frequency of the complex exponential component.\n",
    "    phi : float\n",
    "        Phase offset in the complex exponential component in degrees.\n",
    "\n",
    "    Returns\n",
    "    -------\n",
    "    beam : ndarray\n",
    "        Array of shape (channels, resolution, resolution) containing the\n",
    "        complex values of the beam sensitivity.\n",
    "    \"\"\"\n",
    "    phi = np.deg2rad(phi)\n",
    "    rr = np.sqrt(ll**2+mm**2)\n",
    "    beam = np.exp(-1j*(ff*b - phi))*np.sinc(a*rr*ff)\n",
    "\n",
    "    return beam"
   ]
  },
  {
   "cell_type": "code",
   "execution_count": 11,
   "metadata": {},
   "outputs": [],
   "source": [
    "def cross_beam(ll, mm, ff, a=2.5e-2, b=3e-2):\n",
    "    \"\"\"\n",
    "    Generate the complex beam cube for the cross-polarizations (HV, VH).\n",
    "\n",
    "    Parameters\n",
    "    ----------\n",
    "    ll : ndarray\n",
    "        Array of shape (channels, resolution, resolution) containing the l\n",
    "        coordinate points varying along axis 1.\n",
    "    mm : ndarray\n",
    "        Array of shape (channels, resolution, resolution) containing the m\n",
    "        coordinate points varying along axis 2.\n",
    "    ff : ndarray\n",
    "        Array of shape (channels, resolution, resolution) containing the\n",
    "        frequency coordinate points varying along axis 0.\n",
    "    a : float\n",
    "        Width of the sinc component of the beam.\n",
    "    b : float\n",
    "        Characteristic distance of the exponential dropoff component.\n",
    "\n",
    "    Returns\n",
    "    -------\n",
    "    beam : ndarray\n",
    "        Array of shape (channels, resolution, resolution) containing the\n",
    "        complex values of the beam sensitivity.\n",
    "    \"\"\"\n",
    "    rr = np.sqrt(ll**2+mm**2)\n",
    "    lam = 2*np.pi/123\n",
    "    phi = np.deg2rad(140-180)\n",
    "    # sig = [1.2e-1, 1e-3, 1410, 4e-4]\n",
    "    # sigmoid = (sig[1]/(1+np.exp(-(sig[0]*(ff-sig[2])))) + sig[3])\n",
    "    freq_dep = np.exp(-1j*(lam*ff-phi))#*sigmoid\n",
    "    beam = -ll*mm*np.sinc(a*rr*ff)*np.exp(-(rr/b)**2)*freq_dep\n",
    "\n",
    "    return beam"
   ]
  },
  {
   "cell_type": "code",
   "execution_count": 12,
   "metadata": {},
   "outputs": [],
   "source": [
    "def RIME(B, K, E, G):\n",
    "    \"\"\"\n",
    "    Calculate the RIME for a given birghtness matrix, \n",
    "    phase delay matrix and direction dependent effects. \n",
    "    \n",
    "    Parameters:\n",
    "    -----------\n",
    "    B: np.array (2,2,n_time,n_freq,n_src)\n",
    "        The brightness tensor.\n",
    "    K: np.array (n_time,n_freq,n_ant,n_src)\n",
    "        The phase delay tensor.\n",
    "    E: np.array (2,2,n_time,n_freq,n_ant,n_src)\n",
    "        The direction dependent effects tensor.\n",
    "    G: np.array (2,2,n_time,n_freq,n_ant)\n",
    "        The direction independent effects.\n",
    "        \n",
    "    Returns:\n",
    "    --------\n",
    "    V: np.array (2,2,n_time,n_freq,n_bl)\n",
    "        The visibilies tensor. n_bl = n_ant*(n_ant-1)/2\n",
    "    \"\"\"\n",
    "    \n",
    "    a1, a2 = np.triu_indices(K.shape[-2], 1)\n",
    "    \n",
    "#     Source coherency tensor\n",
    "    X = B[:,:,:,:,None,:]*K[None,None,:,:,a1,:]*np.conjugate(K[None,None,:,:,a2,:])\n",
    "    \n",
    "#     Apparent source coherency\n",
    "    A = np.einsum(('iAtfbs,ABtfbs,jBtfbs->ijtfbs'), E[...,a1,:], X, \n",
    "                  np.conjugate(E[...,a2,:]), optimize='optimal')\n",
    "    \n",
    "#     Visibilities\n",
    "    V = np.einsum('iAtfb,ABtfbs,jBtfb->ijtfb', G[...,a1], A, \n",
    "                  np.conjugate(G[...,a2]), optimize='optimal')\n",
    "    \n",
    "    return V"
   ]
  },
  {
   "cell_type": "markdown",
   "metadata": {},
   "source": [
    "# Define a telescope: location (lat, lon), layout"
   ]
  },
  {
   "cell_type": "code",
   "execution_count": 13,
   "metadata": {},
   "outputs": [],
   "source": [
    "MeerKAT_gps = [-30.712987, 21.442995, 1049.0]    # Latitude (d), Longitude(d), Elevation (m)"
   ]
  },
  {
   "cell_type": "code",
   "execution_count": 14,
   "metadata": {},
   "outputs": [],
   "source": [
    "enu = np.loadtxt('utils/telescope/uv_sim/MeerKAT.enu.txt')[:8]"
   ]
  },
  {
   "cell_type": "code",
   "execution_count": 15,
   "metadata": {},
   "outputs": [],
   "source": [
    "gps_ants = ss.enu_to_gps_el(MeerKAT_gps[:2], enu)\n",
    "gps_ants[:,2] += MeerKAT_gps[2]"
   ]
  },
  {
   "cell_type": "code",
   "execution_count": 16,
   "metadata": {},
   "outputs": [],
   "source": [
    "telescope_tz = pytz.timezone(tzwhere.tzNameAt(*MeerKAT_gps[:2]))"
   ]
  },
  {
   "cell_type": "code",
   "execution_count": 17,
   "metadata": {},
   "outputs": [],
   "source": [
    "freqs = np.loadtxt('utils/telescope/bandpass/MeerKAT_L-Band_Frequencies.csv')"
   ]
  },
  {
   "cell_type": "code",
   "execution_count": 18,
   "metadata": {},
   "outputs": [],
   "source": [
    "freqs = freqs[:4096]\n",
    "n_freq = len(freqs)"
   ]
  },
  {
   "cell_type": "markdown",
   "metadata": {},
   "source": [
    "# Define an observation period "
   ]
  },
  {
   "cell_type": "code",
   "execution_count": 19,
   "metadata": {},
   "outputs": [],
   "source": [
    "start_obs_utc = datetime.datetime(2019, 7, 24, 12, 0, 0)\n",
    "start_obs = telescope_tz.localize(start_obs_utc)\n",
    "one_min = datetime.timedelta(minutes=1)\n",
    "one_hour = datetime.timedelta(hours=1)\n",
    "one_day = datetime.timedelta(days=1)\n",
    "obs_time = datetime.timedelta(seconds=800)\n",
    "int_time = datetime.timedelta(seconds=1)"
   ]
  },
  {
   "cell_type": "code",
   "execution_count": 20,
   "metadata": {},
   "outputs": [],
   "source": [
    "n_time = int(obs_time/int_time)"
   ]
  },
  {
   "cell_type": "markdown",
   "metadata": {},
   "source": [
    "# Define a target (RA, DEC)"
   ]
  },
  {
   "cell_type": "code",
   "execution_count": 21,
   "metadata": {},
   "outputs": [],
   "source": [
    "ra, dec = [24.0, -30.0]"
   ]
  },
  {
   "cell_type": "markdown",
   "metadata": {},
   "source": [
    "# Get satellite positions"
   ]
  },
  {
   "cell_type": "code",
   "execution_count": 22,
   "metadata": {},
   "outputs": [
    {
     "name": "stdout",
     "output_type": "stream",
     "text": [
      "File 2019-07-23.tle exists and is readable.\n"
     ]
    }
   ],
   "source": [
    "tles = sf_load.tle(ss.get_archival_tles(start_obs_utc-one_day, start_obs_utc+one_day))"
   ]
  },
  {
   "cell_type": "markdown",
   "metadata": {},
   "source": [
    "## Get positions of all satellites @ start, middle, end"
   ]
  },
  {
   "cell_type": "code",
   "execution_count": 23,
   "metadata": {},
   "outputs": [],
   "source": [
    "obs_times = [start_obs+i*0.5*obs_time for i in range(3)]"
   ]
  },
  {
   "cell_type": "code",
   "execution_count": 24,
   "metadata": {},
   "outputs": [
    {
     "name": "stdout",
     "output_type": "stream",
     "text": [
      "CPU times: user 3.09 s, sys: 8 ms, total: 3.1 s\n",
      "Wall time: 3.1 s\n"
     ]
    }
   ],
   "source": [
    "%%time\n",
    "el_dist_ra_dec_sep = get_dist_and_seps(list(tles.values()), gps_ants, obs_times, [ra, dec])"
   ]
  },
  {
   "cell_type": "code",
   "execution_count": 25,
   "metadata": {},
   "outputs": [],
   "source": [
    "means = np.mean(el_dist_ra_dec_sep, axis=(0,1), keepdims=True)\n",
    "selected_sats = np.where((means[:,:,:,0]>0) & (means[:,:,:,-1]<30))[2]"
   ]
  },
  {
   "cell_type": "code",
   "execution_count": 26,
   "metadata": {},
   "outputs": [],
   "source": [
    "selected_sat_ids = np.array(list(tles.keys()))[selected_sats].astype(int)\n",
    "selected_tles = [tles[i] for i in selected_sat_ids]"
   ]
  },
  {
   "cell_type": "code",
   "execution_count": 27,
   "metadata": {},
   "outputs": [
    {
     "data": {
      "text/plain": [
       "array([22877, 32275, 37753, 41861, 37829, 37846])"
      ]
     },
     "execution_count": 27,
     "metadata": {},
     "output_type": "execute_result"
    }
   ],
   "source": [
    "selected_sat_ids"
   ]
  },
  {
   "cell_type": "markdown",
   "metadata": {},
   "source": [
    "## Selection made based on \n",
    "### 1. Mean elevation > 0\n",
    "### 2. Mean separation < 30"
   ]
  },
  {
   "cell_type": "code",
   "execution_count": 28,
   "metadata": {},
   "outputs": [],
   "source": [
    "obs_times = [start_obs+i*int_time for i in range(int(obs_time/int_time))]"
   ]
  },
  {
   "cell_type": "code",
   "execution_count": 29,
   "metadata": {},
   "outputs": [
    {
     "name": "stdout",
     "output_type": "stream",
     "text": [
      "CPU times: user 4.02 s, sys: 5.86 s, total: 9.88 s\n",
      "Wall time: 2.25 s\n"
     ]
    }
   ],
   "source": [
    "%%time\n",
    "el_dist_ra_dec_sep = get_dist_and_seps(selected_tles, gps_ants, obs_times, [ra,dec])"
   ]
  },
  {
   "cell_type": "code",
   "execution_count": 30,
   "metadata": {},
   "outputs": [
    {
     "data": {
      "text/plain": [
       "(800, 8, 6, 5)"
      ]
     },
     "execution_count": 30,
     "metadata": {},
     "output_type": "execute_result"
    }
   ],
   "source": [
    "el_dist_ra_dec_sep.shape"
   ]
  },
  {
   "cell_type": "code",
   "execution_count": 31,
   "metadata": {},
   "outputs": [
    {
     "data": {
      "image/png": "[encoded data removed]",
      "text/plain": [
       "<Figure size 432x288 with 1 Axes>"
      ]
     },
     "metadata": {
      "needs_background": "light"
     },
     "output_type": "display_data"
    }
   ],
   "source": [
    "plt.plot(el_dist_ra_dec_sep[:,0,:,-1]);"
   ]
  },
  {
   "cell_type": "code",
   "execution_count": 32,
   "metadata": {},
   "outputs": [],
   "source": [
    "n_rfi = el_dist_ra_dec_sep.shape[-2]"
   ]
  },
  {
   "cell_type": "markdown",
   "metadata": {},
   "source": [
    "# Calculate beam matrix"
   ]
  },
  {
   "cell_type": "code",
   "execution_count": 33,
   "metadata": {},
   "outputs": [],
   "source": [
    "from utils.rfi.rfi_spectra.sim_rfi_spectra import get_rfi_spectra"
   ]
  },
  {
   "cell_type": "code",
   "execution_count": 34,
   "metadata": {},
   "outputs": [
    {
     "data": {
      "text/plain": [
       "6"
      ]
     },
     "execution_count": 34,
     "metadata": {},
     "output_type": "execute_result"
    }
   ],
   "source": [
    "n_rfi"
   ]
  },
  {
   "cell_type": "code",
   "execution_count": 35,
   "metadata": {},
   "outputs": [],
   "source": [
    "rfi_spectra = np.transpose(get_rfi_spectra(n_freq, n_rfi, n_time), (3,1,2,0))"
   ]
  },
  {
   "cell_type": "code",
   "execution_count": 36,
   "metadata": {},
   "outputs": [
    {
     "data": {
      "text/plain": [
       "(4, 800, 4096, 6)"
      ]
     },
     "execution_count": 36,
     "metadata": {},
     "output_type": "execute_result"
    }
   ],
   "source": [
    "rfi_spectra.shape"
   ]
  },
  {
   "cell_type": "code",
   "execution_count": 37,
   "metadata": {},
   "outputs": [],
   "source": [
    "B = ss.brightness_matrix(rfi_spectra[0], rfi_spectra[1], rfi_spectra[2], rfi_spectra[3])"
   ]
  },
  {
   "cell_type": "code",
   "execution_count": 38,
   "metadata": {},
   "outputs": [],
   "source": [
    "# RFI_intensity = 1e6\n",
    "# rfi_I = RFI_intensity*np.ones((n_time, n_freq, n_rfi))\n",
    "# rfi_Q = RFI_intensity*np.zeros_like(rfi_I)\n",
    "# rfi_U = np.zeros_like(rfi_I)\n",
    "# rfi_V = np.zeros_like(rfi_I)"
   ]
  },
  {
   "cell_type": "code",
   "execution_count": 39,
   "metadata": {},
   "outputs": [],
   "source": [
    "# B = ss.brightness_matrix(rfi_I, rfi_Q, rfi_U, rfi_V)"
   ]
  },
  {
   "cell_type": "code",
   "execution_count": 40,
   "metadata": {},
   "outputs": [
    {
     "data": {
      "text/plain": [
       "(2, 2, 800, 4096, 6)"
      ]
     },
     "execution_count": 40,
     "metadata": {},
     "output_type": "execute_result"
    }
   ],
   "source": [
    "B.shape"
   ]
  },
  {
   "cell_type": "markdown",
   "metadata": {},
   "source": [
    "# Calculate phase delays"
   ]
  },
  {
   "cell_type": "code",
   "execution_count": 41,
   "metadata": {},
   "outputs": [
    {
     "data": {
      "text/plain": [
       "(800, 8, 6, 5)"
      ]
     },
     "execution_count": 41,
     "metadata": {},
     "output_type": "execute_result"
    }
   ],
   "source": [
    "el_dist_ra_dec_sep.shape"
   ]
  },
  {
   "cell_type": "code",
   "execution_count": 42,
   "metadata": {},
   "outputs": [],
   "source": [
    "K = phase_delays(el_dist_ra_dec_sep[...,1], freqs)"
   ]
  },
  {
   "cell_type": "code",
   "execution_count": 43,
   "metadata": {},
   "outputs": [
    {
     "data": {
      "text/plain": [
       "(800, 4096, 8, 6)"
      ]
     },
     "execution_count": 43,
     "metadata": {},
     "output_type": "execute_result"
    }
   ],
   "source": [
    "K.shape"
   ]
  },
  {
   "cell_type": "code",
   "execution_count": 44,
   "metadata": {},
   "outputs": [],
   "source": [
    "n_time, n_freq, n_ant, n_rfi = K.shape"
   ]
  },
  {
   "cell_type": "markdown",
   "metadata": {},
   "source": [
    "# Calculate direction dependent effects"
   ]
  },
  {
   "cell_type": "code",
   "execution_count": 45,
   "metadata": {},
   "outputs": [],
   "source": [
    "E = ss.pol_beam(auto_beam=sinc_beam, cross_beam=None, params=[2.e-8, freqs], \n",
    "                ang_sep=el_dist_ra_dec_sep[...,-1])"
   ]
  },
  {
   "cell_type": "code",
   "execution_count": 46,
   "metadata": {},
   "outputs": [
    {
     "data": {
      "text/plain": [
       "(2, 2, 800, 4096, 8, 6)"
      ]
     },
     "execution_count": 46,
     "metadata": {},
     "output_type": "execute_result"
    }
   ],
   "source": [
    "E.shape"
   ]
  },
  {
   "cell_type": "markdown",
   "metadata": {},
   "source": [
    "# Calculate direction independent effects"
   ]
  },
  {
   "cell_type": "code",
   "execution_count": 47,
   "metadata": {},
   "outputs": [],
   "source": [
    "bandpass = np.transpose(np.load('utils/telescope/bandpass/MeerKAT_Bandpass_HH-HV-VH-VV.npy'), \n",
    "                        (3,0,2,1))[...,:n_ant]"
   ]
  },
  {
   "cell_type": "code",
   "execution_count": 48,
   "metadata": {},
   "outputs": [
    {
     "data": {
      "text/plain": [
       "(4, 1, 4096, 8)"
      ]
     },
     "execution_count": 48,
     "metadata": {},
     "output_type": "execute_result"
    }
   ],
   "source": [
    "bandpass.shape"
   ]
  },
  {
   "cell_type": "code",
   "execution_count": 49,
   "metadata": {},
   "outputs": [],
   "source": [
    "G = np.zeros((2,2,n_time,n_freq,n_ant))\n",
    "G[0,0] = bandpass[0]\n",
    "G[0,1] = bandpass[1]\n",
    "G[1,0] = bandpass[2]\n",
    "G[1,1] = bandpass[3]"
   ]
  },
  {
   "cell_type": "code",
   "execution_count": 50,
   "metadata": {},
   "outputs": [
    {
     "data": {
      "text/plain": [
       "(2, 2, 800, 4096, 8)"
      ]
     },
     "execution_count": 50,
     "metadata": {},
     "output_type": "execute_result"
    }
   ],
   "source": [
    "G.shape"
   ]
  },
  {
   "cell_type": "code",
   "execution_count": 51,
   "metadata": {},
   "outputs": [],
   "source": [
    "# G = 1e3*np.ones((2,2,n_time,n_freq,n_ant))\n",
    "# G[0,1] = 0.\n",
    "# G[1,0] = 0."
   ]
  },
  {
   "cell_type": "markdown",
   "metadata": {},
   "source": [
    "# Calculate visibilities"
   ]
  },
  {
   "cell_type": "code",
   "execution_count": 52,
   "metadata": {},
   "outputs": [
    {
     "data": {
      "text/plain": [
       "52.0093696"
      ]
     },
     "execution_count": 52,
     "metadata": {},
     "output_type": "execute_result"
    }
   ],
   "source": [
    "16*496*800*2048*2*2/1e9"
   ]
  },
  {
   "cell_type": "code",
   "execution_count": null,
   "metadata": {},
   "outputs": [],
   "source": [
    "%%time\n",
    "V = RIME(B, K, E, G)"
   ]
  },
  {
   "cell_type": "code",
   "execution_count": null,
   "metadata": {},
   "outputs": [],
   "source": [
    "plt.plot(freqs/1e6, 10*np.log10(np.abs(V[0,0,0,:,0])))"
   ]
  },
  {
   "cell_type": "code",
   "execution_count": null,
   "metadata": {},
   "outputs": [],
   "source": []
  },
  {
   "cell_type": "code",
   "execution_count": null,
   "metadata": {},
   "outputs": [],
   "source": [
    "plt.plot(freqs/1e6, 10*np.log10(np.abs(V[0,0,0,:,0])))"
   ]
  },
  {
   "cell_type": "code",
   "execution_count": null,
   "metadata": {},
   "outputs": [],
   "source": [
    "plt.plot(freqs, np.abs(sinc_beam(20*np.ones((1,1,1)), [2e-8, freqs])[0,:,0,0]))"
   ]
  },
  {
   "cell_type": "code",
   "execution_count": null,
   "metadata": {},
   "outputs": [],
   "source": [
    "# plt.plot(sinc_beam([0,], [2, freqs]))"
   ]
  },
  {
   "cell_type": "code",
   "execution_count": null,
   "metadata": {},
   "outputs": [],
   "source": [
    "plt.plot(np.abs(V[0,0,0,:]));"
   ]
  },
  {
   "cell_type": "code",
   "execution_count": null,
   "metadata": {},
   "outputs": [],
   "source": [
    "# ss.sinc_beam()"
   ]
  },
  {
   "cell_type": "code",
   "execution_count": null,
   "metadata": {},
   "outputs": [],
   "source": []
  }
 ],
 "metadata": {
  "kernelspec": {
   "display_name": "Python 3",
   "language": "python",
   "name": "python3"
  },
  "language_info": {
   "codemirror_mode": {
    "name": "ipython",
    "version": 3
   },
   "file_extension": ".py",
   "mimetype": "text/x-python",
   "name": "python",
   "nbconvert_exporter": "python",
   "pygments_lexer": "ipython3",
   "version": "3.5.2"
  }
 },
 "nbformat": 4,
 "nbformat_minor": 2
}
